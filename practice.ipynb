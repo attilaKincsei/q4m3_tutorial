{
 "cells": [
  {
   "cell_type": "markdown",
   "metadata": {},
   "source": [
    "Source: [Kaggle: Huge Stock Market Dataset](https://www.kaggle.com/borismarjanovic/price-volume-data-for-all-us-stocks-etfs)"
   ]
  },
  {
   "cell_type": "code",
   "execution_count": null,
   "metadata": {},
   "outputs": [],
   "source": [
    "path:\"/home/iguana/1_Code/00_datasets/kaggle__price-volume-data-for-all-us-stocks-etfs/csv_data/Stocks/\"\n",
    "ticker_dict:(`apple;`amazon;`alibaba;`facebook;`fox;`google;`ibm;`intel;`lockheed_martin;`morgan_stanley;`microsoft;`oracle;`t_mobile)!(\"aapl\";\"amzn\";\"baba\";\"fb\";\"fox\";\"googl\";\"ibm\";\"intc\";\"lmt\";\"ms\";\"msft\";\"orcl\";\"tmus\")\n",
    "ticker: ticker_dict[`alibaba]\n",
    "ext:\".us.csv\"\n",
    "pattern:\"DFFFFII\"\n",
    "pth_fn:hsym `$path,ticker,ext\n",
    "pth_fn"
   ]
  },
  {
   "cell_type": "code",
   "execution_count": null,
   "metadata": {},
   "outputs": [],
   "source": [
    "rd_csv:{[pth;tck;ext;ptrn] (ptrn;enlist \",\") 0: hsym `$pth,tck,ext}"
   ]
  },
  {
   "cell_type": "code",
   "execution_count": null,
   "metadata": {},
   "outputs": [],
   "source": [
    "aapl_table:rd_csv[path;ticker;ext;pattern]"
   ]
  },
  {
   "cell_type": "markdown",
   "metadata": {},
   "source": [
    "sel:select[10;<Date] from aapl_table\n",
    "show dict:(enlist `ticker)!(enlist sel)\n",
    ".j.j dict"
   ]
  },
  {
   "cell_type": "code",
   "execution_count": null,
   "metadata": {},
   "outputs": [],
   "source": [
    "select_table:{[nr_of_rows;st_table] sel:select[nr_of_rows;<Date] from st_table; dict:(enlist `ticker)!(enlist sel);.j.j dict}"
   ]
  },
  {
   "cell_type": "code",
   "execution_count": null,
   "metadata": {},
   "outputs": [],
   "source": [
    "resp_dict:(enlist `$ticker)!enlist transformed"
   ]
  },
  {
   "cell_type": "code",
   "execution_count": null,
   "metadata": {},
   "outputs": [],
   "source": [
    "trans_json:.j.j resp_dict\n",
    "trans_json"
   ]
  },
  {
   "cell_type": "code",
   "execution_count": null,
   "metadata": {},
   "outputs": [],
   "source": [
    "\\p 8899"
   ]
  },
  {
   "cell_type": "code",
   "execution_count": null,
   "metadata": {},
   "outputs": [],
   "source": [
    ".z.ws:{0N!-9!x; neg[.z.w] -8!42}"
   ]
  },
  {
   "cell_type": "code",
   "execution_count": null,
   "metadata": {},
   "outputs": [],
   "source": [
    ".z.ws:{show req:-9!x; st_table:rd_csv[path;req[`ticker];ext;pattern]; neg[.z.w] -8!select_table[100;st_table]}"
   ]
  }
 ],
 "metadata": {
  "kernelspec": {
   "display_name": "Q (kdb+)",
   "language": "q",
   "name": "qpk"
  },
  "language_info": {
   "file_extension": ".q",
   "mimetype": "text/x-q",
   "name": "q",
   "version": "3.6.0"
  }
 },
 "nbformat": 4,
 "nbformat_minor": 2
}
