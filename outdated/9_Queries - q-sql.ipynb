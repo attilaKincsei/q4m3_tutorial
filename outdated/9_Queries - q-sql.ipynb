{
 "cells": [
  {
   "cell_type": "markdown",
   "metadata": {},
   "source": [
    "# 9. Queries - q-sql"
   ]
  },
  {
   "cell_type": "markdown",
   "metadata": {},
   "source": [
    "### 9.1.2. Bulk columnar insert"
   ]
  },
  {
   "cell_type": "code",
   "execution_count": null,
   "metadata": {},
   "outputs": [],
   "source": [
    "\\l data/sp.q"
   ]
  },
  {
   "cell_type": "code",
   "execution_count": null,
   "metadata": {},
   "outputs": [],
   "source": [
    "aaa:3?`3"
   ]
  },
  {
   "cell_type": "code",
   "execution_count": null,
   "metadata": {},
   "outputs": [],
   "source": [
    "aaa"
   ]
  },
  {
   "cell_type": "code",
   "execution_count": null,
   "metadata": {},
   "outputs": [],
   "source": [
    "mytb:([id:100+til 10] name:10?`5;iq:10?80+til 40)"
   ]
  },
  {
   "cell_type": "code",
   "execution_count": null,
   "metadata": {},
   "outputs": [],
   "source": [
    "mytb"
   ]
  },
  {
   "cell_type": "code",
   "execution_count": null,
   "metadata": {},
   "outputs": [],
   "source": [
    "select[(2;0W)] from mytb"
   ]
  },
  {
   "cell_type": "markdown",
   "metadata": {},
   "source": [
    "### 9.3.3. Filtering with where"
   ]
  },
  {
   "cell_type": "code",
   "execution_count": null,
   "metadata": {},
   "outputs": [],
   "source": [
    "select from mytb where[like[name;\"*oo*\"]] / in SQL: where name like '*dd*'"
   ]
  },
  {
   "cell_type": "markdown",
   "metadata": {},
   "source": [
    "- i is like serial in SQL. you can use it to select a range of records from a table based on their index"
   ]
  },
  {
   "cell_type": "code",
   "execution_count": null,
   "metadata": {},
   "outputs": [],
   "source": [
    "select from mytb where i within 3 5 / selecting a range based on implicit index of table"
   ]
  },
  {
   "cell_type": "markdown",
   "metadata": {},
   "source": [
    "#### 9.3.3.3. multiple where subhrases"
   ]
  },
  {
   "cell_type": "markdown",
   "metadata": {},
   "source": [
    "- subphrases are sequenced from left-to-right, their order affects the actual processing.\n",
    "- the net effect is a progressively narrowed sublist of rows to consider.\n",
    "- Consequently, there is often an optimal order that significantly narrows in the first one or few subphrases -> reduces the amount of processing.\n",
    "    - Place the most limiting where subphrase first, followed by others in decreasing strictness"
   ]
  },
  {
   "cell_type": "code",
   "execution_count": null,
   "metadata": {},
   "outputs": [],
   "source": [
    "select from mytb where[like[name;\"*j*\"]&iq>100]"
   ]
  },
  {
   "cell_type": "code",
   "execution_count": null,
   "metadata": {},
   "outputs": [],
   "source": [
    "select from mytb where[like[name;\"*j*\"]|iq>100]"
   ]
  },
  {
   "cell_type": "markdown",
   "metadata": {},
   "source": [
    "#### __Nested columns in where__"
   ]
  },
  {
   "cell_type": "markdown",
   "metadata": {},
   "source": [
    "- Use one of the maps iterators: each('), each left(\\:), each right (/:), each parallel, each prior (':), case ('                                                                                                                                                                                                                                                                                                                                                                                                                                                                                                  )\n",
    "    - cross: each left and each right combined \\:/:"
   ]
  },
  {
   "cell_type": "code",
   "execution_count": null,
   "metadata": {},
   "outputs": [],
   "source": [
    "t:([] f:1.1 2.2 3.3; s:(\"abc\";enlist \"d\";\"ef\"))"
   ]
  },
  {
   "cell_type": "code",
   "execution_count": null,
   "metadata": {},
   "outputs": [],
   "source": [
    "select from t where s=\"ef\" / will fail"
   ]
  },
  {
   "cell_type": "code",
   "execution_count": null,
   "metadata": {},
   "outputs": [],
   "source": [
    "select from t where s~\"ef\""
   ]
  },
  {
   "cell_type": "code",
   "execution_count": null,
   "metadata": {},
   "outputs": [],
   "source": [
    "select from t where s~\\:\"ef\""
   ]
  },
  {
   "cell_type": "code",
   "execution_count": null,
   "metadata": {},
   "outputs": [],
   "source": [
    "select from t where \"ef\"~/:s"
   ]
  },
  {
   "cell_type": "code",
   "execution_count": null,
   "metadata": {},
   "outputs": [],
   "source": [
    "1 2 3 in'(1 0 1;til 100;5 6 7)"
   ]
  },
  {
   "cell_type": "markdown",
   "metadata": {},
   "source": [
    "#### __9.3.3.5. fby in where__"
   ]
  },
  {
   "cell_type": "markdown",
   "metadata": {},
   "source": [
    "- fby is the equivalent of HAVING in SQL\n",
    "- fby returns the vaue of the aggregate across each group"
   ]
  },
  {
   "cell_type": "markdown",
   "metadata": {},
   "source": [
    "- syntax: (f_agg;expr_col) fby colname\n",
    "    - f_agg: aggregate function\n",
    "    - expr_col: column expression on which f_agg is applied\n",
    "    - colname: is the column to be grouped"
   ]
  },
  {
   "cell_type": "markdown",
   "metadata": {},
   "source": [
    "- __what fby does__: Since it returns the value of the aggregate across each group, you simply compare the target column to the fby result to get a boolean vector with 1b at precisely the records whose fields match the aggregate on the group."
   ]
  },
  {
   "cell_type": "code",
   "execution_count": null,
   "metadata": {},
   "outputs": [],
   "source": [
    "p"
   ]
  },
  {
   "cell_type": "code",
   "execution_count": null,
   "metadata": {},
   "outputs": [],
   "source": [
    "select from p where weight=max weight"
   ]
  },
  {
   "cell_type": "code",
   "execution_count": null,
   "metadata": {},
   "outputs": [],
   "source": [
    "select max weight by city from p"
   ]
  },
  {
   "cell_type": "code",
   "execution_count": null,
   "metadata": {},
   "outputs": [],
   "source": [
    "select name, color, max weight by city from p"
   ]
  },
  {
   "cell_type": "code",
   "execution_count": null,
   "metadata": {},
   "outputs": [],
   "source": [
    "select first name, first color, max weight by city from p"
   ]
  },
  {
   "cell_type": "code",
   "execution_count": null,
   "metadata": {},
   "outputs": [],
   "source": [
    "select from p where weight=(max;weight) fby city"
   ]
  },
  {
   "cell_type": "code",
   "execution_count": null,
   "metadata": {},
   "outputs": [],
   "source": [
    "select from p where weight=fby[(max;weight);city]"
   ]
  },
  {
   "cell_type": "markdown",
   "metadata": {},
   "source": [
    "- The right solution with multiple where phrases:"
   ]
  },
  {
   "cell_type": "code",
   "execution_count": null,
   "metadata": {},
   "outputs": [],
   "source": [
    "select from p where weight=fby[(max;weight);city],color=`blue"
   ]
  },
  {
   "cell_type": "markdown",
   "metadata": {},
   "source": [
    "- __Grouping on multiple columns__\n",
    "    - encapsulate multiple columns in an anonymous table"
   ]
  },
  {
   "cell_type": "code",
   "execution_count": null,
   "metadata": {},
   "outputs": [],
   "source": [
    "select from p where weight=fby[(max;weight);([] city;color)]"
   ]
  },
  {
   "cell_type": "markdown",
   "metadata": {},
   "source": [
    "### __9.3.4. Grouping and aggregation__"
   ]
  },
  {
   "cell_type": "markdown",
   "metadata": {},
   "source": [
    "- grouping and aggregation is performed together in SQL\n",
    "- grouping and aggregation is performed independently in q-sql"
   ]
  },
  {
   "cell_type": "markdown",
   "metadata": {},
   "source": [
    "#### 9.3.4.1. Aggregation without grouping"
   ]
  },
  {
   "cell_type": "markdown",
   "metadata": {},
   "source": [
    "- aggregation by one column -> result atom\n",
    "- aggregation by multiple columns -> result a table with a single record"
   ]
  },
  {
   "cell_type": "code",
   "execution_count": null,
   "metadata": {},
   "outputs": [],
   "source": [
    "sp"
   ]
  },
  {
   "cell_type": "code",
   "execution_count": null,
   "metadata": {},
   "outputs": [],
   "source": [
    "select sum qty from sp"
   ]
  },
  {
   "cell_type": "code",
   "execution_count": null,
   "metadata": {},
   "outputs": [],
   "source": [
    "select total:sum qty, mean:avg qty from sp"
   ]
  },
  {
   "cell_type": "markdown",
   "metadata": {},
   "source": [
    "#### 9.3.4.2. Grouping without aggregation"
   ]
  },
  {
   "cell_type": "markdown",
   "metadata": {},
   "source": [
    "- similar to GROUP BY in SQL\n",
    "- the _by_ phrase groups rows having common values in specified columns\n",
    "- the result of a by phrase query is a __keyed table__ whise key columns are in the by phrase\n",
    "- the by phrase is a generalization of the _group_ function on lists\n",
    "- result: nested columns\n",
    "- not advised to do this. nested columns are:\n",
    "    - slower\n",
    "    - more cumbersome to work with (need adverbs)\n",
    "    - unnecessary\n",
    "- _ungroup_ reverses the nested result of grouping without aggregation (cannot be used on lists groupped with _group_)"
   ]
  },
  {
   "cell_type": "code",
   "execution_count": null,
   "metadata": {},
   "outputs": [],
   "source": [
    "s"
   ]
  },
  {
   "cell_type": "code",
   "execution_count": null,
   "metadata": {},
   "outputs": [],
   "source": [
    "select by s from sp / by not specifying any non-group by columns, the last elements of these columns are selected"
   ]
  },
  {
   "cell_type": "code",
   "execution_count": null,
   "metadata": {},
   "outputs": [],
   "source": [
    "spGrouped:select p,qty by s from sp"
   ]
  },
  {
   "cell_type": "code",
   "execution_count": null,
   "metadata": {},
   "outputs": [],
   "source": [
    "select p,qty by s from sp"
   ]
  },
  {
   "cell_type": "code",
   "execution_count": null,
   "metadata": {},
   "outputs": [],
   "source": [
    "`s xgroup sp / is the same as the above select phrase except it is not ordered by the group by columns"
   ]
  },
  {
   "cell_type": "code",
   "execution_count": null,
   "metadata": {},
   "outputs": [],
   "source": [
    "select p,total:sum qty by s from sp"
   ]
  },
  {
   "cell_type": "code",
   "execution_count": null,
   "metadata": {},
   "outputs": [],
   "source": [
    "ungroup spGrouped"
   ]
  },
  {
   "cell_type": "code",
   "execution_count": null,
   "metadata": {},
   "outputs": [],
   "source": [
    "groupped:group 1 3 2 5 7 1 3 5 7 2 1"
   ]
  },
  {
   "cell_type": "markdown",
   "metadata": {},
   "source": [
    "#### 9.3.4.3. Grouping with aggregation"
   ]
  },
  {
   "cell_type": "markdown",
   "metadata": {},
   "source": [
    "- usual usage of _by_\n",
    "- use case: aggregate col1 by col2 in _the by_ phrase\n",
    "- result: a keyed table whose keys are the values of the grouped _by_ column\n",
    "- grouping on multiple columns -> a table with composite keys"
   ]
  },
  {
   "cell_type": "code",
   "execution_count": null,
   "metadata": {},
   "outputs": [],
   "source": [
    "select total:sum qty by s from sp"
   ]
  },
  {
   "cell_type": "code",
   "execution_count": null,
   "metadata": {},
   "outputs": [],
   "source": [
    "select total:sum qty by s,p from sp"
   ]
  },
  {
   "cell_type": "markdown",
   "metadata": {},
   "source": [
    "- you can group on computed columns (a _by_ subphrase can contain a q expression)\n",
    "    - and use the computed column as a new column in the query\n",
    "- a frequent expression is xbar which can be used to create intervals from a list containing numeric atoms"
   ]
  },
  {
   "cell_type": "code",
   "execution_count": null,
   "metadata": {},
   "outputs": [],
   "source": [
    "trade:([] c1:00:00:00.000+til 1000000;c2:1000000?`a`b;c3:1000000?100.)"
   ]
  },
  {
   "cell_type": "code",
   "execution_count": null,
   "metadata": {},
   "outputs": [],
   "source": [
    "trade"
   ]
  },
  {
   "cell_type": "code",
   "execution_count": null,
   "metadata": {},
   "outputs": [],
   "source": [
    "select avg c3 by 100 xbar c1 from trade"
   ]
  },
  {
   "cell_type": "markdown",
   "metadata": {},
   "source": [
    "## 9.4. __The _exec_ template__"
   ]
  },
  {
   "cell_type": "markdown",
   "metadata": {},
   "source": [
    "- the syntax of the exed template is identical to that of select:\n",
    "    - exec <p_s> by <p_b> from t_exp where <p_w>\n",
    "- the selut type of exec depends on the number of columns in its select phrase\n",
    "    - one columns yields a list\n",
    "    - two or more columns yields a dictionary\n",
    "- the resulting columns lists do not have to be rectangular!!!\n",
    "- when selecting only one column with exec, you can still place constraints on other columns"
   ]
  },
  {
   "cell_type": "markdown",
   "metadata": {},
   "source": [
    "## 9.5. The update template"
   ]
  },
  {
   "cell_type": "markdown",
   "metadata": {},
   "source": [
    "- syntax (identical to select): update <p_u> <by p_b> from t_exp where <p_w>"
   ]
  },
  {
   "cell_type": "markdown",
   "metadata": {},
   "source": [
    "- upsert semantics:\n",
    "    - if the column exists, it is updated (you can omit the column names)\n",
    "    - if it does not, it is inserted\n",
    "- column can be upserted with specifying only one scalar"
   ]
  },
  {
   "cell_type": "code",
   "execution_count": null,
   "metadata": {},
   "outputs": [],
   "source": [
    "t:([] c1:`a`b`c; c2:10 20 30)"
   ]
  },
  {
   "cell_type": "code",
   "execution_count": null,
   "metadata": {},
   "outputs": [],
   "source": [
    "update c3:42 from t / table is passed by value -> it is not modified"
   ]
  },
  {
   "cell_type": "code",
   "execution_count": null,
   "metadata": {},
   "outputs": [],
   "source": [
    "update c3:42 from `t / table is passed by name -> it is modified in-place"
   ]
  },
  {
   "cell_type": "code",
   "execution_count": null,
   "metadata": {},
   "outputs": [],
   "source": [
    "update c3+10 from t"
   ]
  },
  {
   "cell_type": "code",
   "execution_count": null,
   "metadata": {},
   "outputs": [],
   "source": [
    "update c4:10 from `t where c2>20"
   ]
  },
  {
   "cell_type": "code",
   "execution_count": null,
   "metadata": {},
   "outputs": [],
   "source": [
    "update c5:101 from `t where c1=`c"
   ]
  },
  {
   "cell_type": "code",
   "execution_count": null,
   "metadata": {},
   "outputs": [],
   "source": [
    "update c5:303 from `t where null c5"
   ]
  },
  {
   "cell_type": "markdown",
   "metadata": {},
   "source": [
    "### 9.5.2. Update-by"
   ]
  },
  {
   "cell_type": "code",
   "execution_count": null,
   "metadata": {},
   "outputs": [],
   "source": [
    "t,:(`c; 40; 55; 2; 0)"
   ]
  },
  {
   "cell_type": "code",
   "execution_count": null,
   "metadata": {},
   "outputs": [],
   "source": [
    "update avg c5, avg c4 by c1 from t"
   ]
  },
  {
   "cell_type": "markdown",
   "metadata": {},
   "source": [
    "## 9.6. The delete template"
   ]
  },
  {
   "cell_type": "markdown",
   "metadata": {},
   "source": [
    "- both rows and columns can be deleted\n",
    "- syntax: simplified select\n",
    "    - delete <p_cols> from t_exp <where p_w>\n",
    "- pass by name have to be used to modify table in-place"
   ]
  },
  {
   "cell_type": "markdown",
   "metadata": {},
   "source": [
    "- use delete instead of select if you want to select a lot of columns\n",
    "    - but use pass by value!!!"
   ]
  },
  {
   "cell_type": "code",
   "execution_count": null,
   "metadata": {},
   "outputs": [],
   "source": [
    "delete c5 from t / deletes column from table"
   ]
  },
  {
   "cell_type": "code",
   "execution_count": null,
   "metadata": {},
   "outputs": [],
   "source": [
    "delete from t where c2=40 / deletes row from table"
   ]
  },
  {
   "cell_type": "markdown",
   "metadata": {},
   "source": [
    "## 9.7. Sorting"
   ]
  },
  {
   "cell_type": "markdown",
   "metadata": {},
   "source": [
    "- Tables are ordered in q tables by the time of their insertion into the table\n",
    "- they can be reordered by sorting -> there are no order by clause in q-sql\n",
    "- syntax: colName1 colname2 xasc (xdesc) tableName\n",
    "- mixed sort: colName1 xasc colname2 xdesc tableName"
   ]
  },
  {
   "cell_type": "code",
   "execution_count": null,
   "metadata": {},
   "outputs": [],
   "source": [
    "`c1`c3 xdesc t"
   ]
  },
  {
   "cell_type": "code",
   "execution_count": 80,
   "metadata": {},
   "outputs": [
    {
     "data": {
      "text/plain": [
       "c1 c2 c3 c4\n",
       "-----------\n",
       "a  10 42 3 \n",
       "b  20 42 3 \n",
       "c  40 55 2 \n",
       "c  30 42 10\n"
      ]
     },
     "execution_count": 80,
     "metadata": {},
     "output_type": "execute_result"
    }
   ],
   "source": [
    "`c1 xasc `c3 xdesc t"
   ]
  },
  {
   "cell_type": "markdown",
   "metadata": {},
   "source": [
    "## 9.8. Renaming and rearranging columns"
   ]
  },
  {
   "cell_type": "code",
   "execution_count": null,
   "metadata": {},
   "outputs": [],
   "source": []
  },
  {
   "cell_type": "code",
   "execution_count": null,
   "metadata": {},
   "outputs": [],
   "source": []
  },
  {
   "cell_type": "code",
   "execution_count": null,
   "metadata": {},
   "outputs": [],
   "source": []
  },
  {
   "cell_type": "code",
   "execution_count": null,
   "metadata": {},
   "outputs": [],
   "source": []
  },
  {
   "cell_type": "code",
   "execution_count": null,
   "metadata": {},
   "outputs": [],
   "source": []
  }
 ],
 "metadata": {
  "kernelspec": {
   "display_name": "Q (kdb+)",
   "language": "q",
   "name": "qpk"
  },
  "language_info": {
   "file_extension": ".q",
   "mimetype": "text/x-q",
   "name": "q",
   "version": "3.6.0"
  }
 },
 "nbformat": 4,
 "nbformat_minor": 2
}
