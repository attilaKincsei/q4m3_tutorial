{
 "cells": [
  {
   "cell_type": "markdown",
   "metadata": {},
   "source": [
    "# 3. [Lists](https://code.kx.com/q4m3/3_Lists/)"
   ]
  },
  {
   "cell_type": "markdown",
   "metadata": {},
   "source": [
    "## Basic operations on lists"
   ]
  },
  {
   "cell_type": "markdown",
   "metadata": {},
   "source": [
    "- Create:\n",
    "    - General list: (item1;item2;...;item_n)\n",
    "    - Simple list: item1 item2 item3\n",
    "    - Create list from atom: enlist atom\n",
    "- Access:\n",
    "    - Iterated indexing: list[i][j][k]\n",
    "    - Indexing at depth: list[i;j;k]\n",
    "    - Accessing multiple elements: list[i1 i2 i3 ... in]\n",
    "- Assignment:\n",
    "    - list[i]:42\n",
    "    - list[i][j][k]:42 / only works with indexing at depth with multi-dimensional list\n",
    "- Add:\n",
    "    - add to front: new_item,list\n",
    "    - add to end: list,new_item\n",
    "- Removel item from list\n",
    "    - by item: list except num / removes first element from list that matches num\n",
    "    - by index: list _ i\n",
    "    - drom from beginning or end: num _ list / from beginning if number is positive, from end if number is negative\n",
    "- Length of list:\n",
    "    - one dimensional list: count list\n",
    "    - multi-dimensional list: count each list_of_lists\n",
    "- Transpose multi-dimensional list:\n",
    "    - flip list_of_lists\n",
    "- Reversing the order of a list:\n",
    "    - reverse list\n",
    "- Rotating a list\n",
    "    - num rotate list\n",
    "- Get first x elements of a list: # (take)\n",
    "    - num # list / if num > count list, # is circular\n",
    "- Operations on string lists:\n",
    "    - join: \"delimiter\" sv string_list\n",
    "    - split: \"delimiter\" vs string"
   ]
  },
  {
   "cell_type": "markdown",
   "metadata": {},
   "source": [
    "## 3.1. Overview"
   ]
  },
  {
   "cell_type": "markdown",
   "metadata": {},
   "source": [
    "- Lists are recursively defined as an ordered collection of atoms and other lists\n",
    "    - q lists are inherently ordered based on their declaration (as opposed to SQL which is based on sets).\n",
    "        - this has implications on the semantics of q-sql queries compared to SQL queries\n",
    "        - the ordered nature of lists make large sets of time series data processing fast and natural\n",
    "- Lists can be thought of as dynamically allocated arrays (similar to ArrayList in Java?)\n",
    "- All data structures in q are ultimately built from lists:\n",
    "    - a dictionary is a pair of lists;\n",
    "    - a table is a special dictionary;\n",
    "    - a keyed table is a pair of tables.\n",
    "- Notation for general lists: (1;2;3;4)\n",
    "- Notation for simple lists:\n",
    "    - same as general lists\n",
    "    - 1 2 3 4\n",
    "    - singleton list: (enlist 1)"
   ]
  },
  {
   "cell_type": "markdown",
   "metadata": {},
   "source": [
    "- __SIMPLE LISTS__ are made up of atoms of homogeneous type (VECTORS in mathematics)\n",
    "- Simple lists have optimum storage and performance characteristics\n",
    "    - simple lists occupy contiguous storage space in memory\n",
    "    - items are appended at the end of the list\n",
    "    - direct item access via indexing\n",
    "- General lists:\n",
    "    - are pointers in contiguous storage\n",
    "    - can hold items of different type without resorting to a union (sum) type"
   ]
  },
  {
   "cell_type": "markdown",
   "metadata": {},
   "source": [
    "## 3.1 Introduction to Lists"
   ]
  },
  {
   "cell_type": "code",
   "execution_count": null,
   "metadata": {},
   "outputs": [],
   "source": [
    "(1; 1.1; `1)\n",
    "(1;2;3)\n",
    "(\"a\";\"b\";\"c\";\"d\")\n",
    "(`Life;`the;`Universe;`and;`Everything)\n",
    "(-10.0; 3.1415e; 1b; `abc; \"z\")\n",
    "((1; 2; 3); (4; 5))\n",
    "((1; 2; 3); (`1; \"2\"; 3); 4.4)"
   ]
  },
  {
   "cell_type": "markdown",
   "metadata": {},
   "source": [
    "- __count__: same as lentgth(), size(), len(), etc\n",
    "    - returns a long data type number\n",
    "- __first__, __last__: returns the first and last elements in a list, respectively"
   ]
  },
  {
   "cell_type": "markdown",
   "metadata": {},
   "source": [
    "## 3.2 Simple Lists"
   ]
  },
  {
   "cell_type": "markdown",
   "metadata": {},
   "source": [
    "- a simple list is a list of atoms of a uniform type\n",
    "- corresponds to __vectors__ in math\n",
    "- general lists are converted implicitly to simple lists (IN WHAT CASES?) -> might cause problems..."
   ]
  },
  {
   "cell_type": "code",
   "execution_count": null,
   "metadata": {},
   "outputs": [],
   "source": [
    "(100;200;300)\n",
    "100 200 300\n",
    "100 200 300~(100; 200 ; 300) / identity notation ~"
   ]
  },
  {
   "cell_type": "markdown",
   "metadata": {},
   "source": [
    "- simple and floating point lists"
   ]
  },
  {
   "cell_type": "markdown",
   "metadata": {},
   "source": [
    "### 3.2.6 Lists of Temporal Data"
   ]
  },
  {
   "cell_type": "markdown",
   "metadata": {},
   "source": [
    "- To force the type of a mixed list of temporal values, append a type specifier."
   ]
  },
  {
   "cell_type": "code",
   "execution_count": null,
   "metadata": {},
   "outputs": [],
   "source": [
    "01:02:03 12:34 11:59:59.999u / u refers to minUtes"
   ]
  },
  {
   "cell_type": "markdown",
   "metadata": {},
   "source": [
    "## 3.3. Empty and singleton lists"
   ]
  },
  {
   "cell_type": "markdown",
   "metadata": {},
   "source": [
    "- empty list notation: ()"
   ]
  },
  {
   "cell_type": "code",
   "execution_count": null,
   "metadata": {},
   "outputs": [],
   "source": [
    "L:()\n",
    "L\n",
    "-3!L / -3! is an internal function: format to text"
   ]
  },
  {
   "cell_type": "markdown",
   "metadata": {},
   "source": [
    "- singleton list: a list consisting of a single item of q entity (not only atoms)\n",
    "- notation: enlist q entity\n",
    "- () is for grouping elements"
   ]
  },
  {
   "cell_type": "code",
   "execution_count": null,
   "metadata": {},
   "outputs": [],
   "source": [
    "(42)~enlist 42 / false, they are not identical\n",
    "(42)~42"
   ]
  },
  {
   "cell_type": "markdown",
   "metadata": {},
   "source": [
    "## 3.4. Indexing"
   ]
  },
  {
   "cell_type": "markdown",
   "metadata": {},
   "source": [
    "- index notation: []\n",
    "- item indexing\n",
    "- index assignment lista[0]:42 set the first element to 42\n",
    "    - type of value assigned has to match the list type\n",
    "    - there is no automatic type promotion in q!!!!!!\n",
    "- __type specific null values__ (indicating missing data) instead of error messages\n",
    "- Index assignment into a simple list enforces strict type matching with no type promotion: assigned element has to have the same type as the list. The narrower type is not promoted to the wider type.\n",
    "    - (however, joining or appending to a simple list do not use strict type matching. if the item and the list do not have the same type, the list is propagated to a general list)\n",
    "- to prevent implicit conversion of a general list to a simple list, place the nil value at the beginning of a list: (::;1;2;3)\n",
    "- lists can hold expressions (count list; sum list;1;2)"
   ]
  },
  {
   "cell_type": "code",
   "execution_count": null,
   "metadata": {},
   "outputs": [],
   "source": [
    "l2:48 58 73 55 437 2\n",
    "l2[2]:1\n",
    "-3!l2[()]\n",
    "-3!l2[::]\n",
    "(count l2;sum l2;33;53)"
   ]
  },
  {
   "cell_type": "markdown",
   "metadata": {},
   "source": [
    "## 3.5. Combining lists"
   ]
  },
  {
   "cell_type": "markdown",
   "metadata": {},
   "source": [
    "- Joining lists\n",
    "    - to join two lists, use comma: l1,l2\n",
    "    - to make a single atom a list: (),x or x,()"
   ]
  },
  {
   "cell_type": "markdown",
   "metadata": {},
   "source": [
    "- Merging lists\n",
    "    - notation ^\n",
    "    - right item prevails over the left item except when it is null"
   ]
  },
  {
   "cell_type": "markdown",
   "metadata": {},
   "source": [
    "## 3.6. Lists as maps"
   ]
  },
  {
   "cell_type": "markdown",
   "metadata": {},
   "source": [
    "- Lists can be considered as maps where their domain is a list of conscutive integers starting with zero, and their codomain is their elements.\n",
    "    - A list with atomic items acts like a monadic map\n",
    "    - A list with lists as items acts like a multivalent map"
   ]
  },
  {
   "cell_type": "markdown",
   "metadata": {},
   "source": [
    "## 3.7. Nesting"
   ]
  },
  {
   "cell_type": "markdown",
   "metadata": {},
   "source": [
    "- Data complexity is built by using lists as items of lists\n",
    "- The number of levels of nesting is called __depth__: the depth measures how much repeated indexing is necessary to arrive at atoms"
   ]
  },
  {
   "cell_type": "markdown",
   "metadata": {},
   "source": [
    "## 3.8. Iterated indexing and indexing at depth"
   ]
  },
  {
   "cell_type": "markdown",
   "metadata": {},
   "source": [
    "- iterated item indexing: list[2][1][3] the item at the 3rd index of the list which is at the 1st index if the list at the 2nd index of the top-most list\n",
    "    - considers this q entity as an array of arrays\n",
    "- indexing at depth: list[2;1;3]. this results in the same as above. the same as a multi-valent function\n",
    "    - considers this q entity as a multi-dimensional matrix\n",
    "- assignment works with indexing at depth but does not work with iterated indexing"
   ]
  },
  {
   "cell_type": "markdown",
   "metadata": {},
   "source": [
    "- __ADVANCED__: Create a matrix from a list with the __reshape operator__: number_of_rows number_of_columns #list"
   ]
  },
  {
   "cell_type": "code",
   "execution_count": null,
   "metadata": {},
   "outputs": [],
   "source": [
    "matr:3 4#til 9\n",
    "matr\n",
    "0N 3#til 10"
   ]
  },
  {
   "cell_type": "code",
   "execution_count": null,
   "metadata": {},
   "outputs": [],
   "source": [
    "m:((11; 12; 13; 14); (21; 22; 23; 24); (31; 32; 33; 34))\n",
    "m\n",
    "m[0][0]\n",
    "m[0; 0]\n",
    "m[0; 1]\n",
    "m[1; 2]"
   ]
  },
  {
   "cell_type": "markdown",
   "metadata": {},
   "source": [
    "## 3.9. Indexing with lists"
   ]
  },
  {
   "cell_type": "markdown",
   "metadata": {},
   "source": [
    "- Retreiving multiple items with a list of indices: L[]"
   ]
  },
  {
   "cell_type": "code",
   "execution_count": null,
   "metadata": {},
   "outputs": [],
   "source": [
    "l2\n",
    "l2[1_til 3]"
   ]
  },
  {
   "cell_type": "markdown",
   "metadata": {},
   "source": [
    "- Indexing via a variable"
   ]
  },
  {
   "cell_type": "markdown",
   "metadata": {},
   "source": [
    "- Indexing nested lists with a list which contains the elements to access"
   ]
  },
  {
   "cell_type": "markdown",
   "metadata": {},
   "source": [
    "- Assignment with list indexing"
   ]
  },
  {
   "cell_type": "code",
   "execution_count": null,
   "metadata": {},
   "outputs": [],
   "source": [
    "L:100 200 300 400"
   ]
  },
  {
   "cell_type": "code",
   "execution_count": null,
   "metadata": {},
   "outputs": [],
   "source": [
    "L[1 2 3]:2000 3000 4000\n",
    "L"
   ]
  },
  {
   "cell_type": "code",
   "execution_count": null,
   "metadata": {},
   "outputs": [],
   "source": [
    "L[til 3]:1 2 333\n",
    "L"
   ]
  },
  {
   "cell_type": "code",
   "execution_count": null,
   "metadata": {},
   "outputs": [],
   "source": [
    "K[til 3]:til 3\n",
    "K"
   ]
  },
  {
   "cell_type": "markdown",
   "metadata": {},
   "source": [
    "- Juxtaposition"
   ]
  },
  {
   "cell_type": "code",
   "execution_count": null,
   "metadata": {},
   "outputs": [],
   "source": [
    "L ::"
   ]
  },
  {
   "cell_type": "markdown",
   "metadata": {},
   "source": [
    "- Find\n",
    "    - find maps an item to its index ->\n",
    "    - find is the inverse of indexing\n",
    "    - find operator: x ? y returns the firsts appearance of y from x\n",
    "    - if y is not in x, the length of the list is returned\n",
    "    - y is atomic"
   ]
  },
  {
   "cell_type": "code",
   "execution_count": null,
   "metadata": {},
   "outputs": [],
   "source": [
    "L\n",
    "L?333 2"
   ]
  },
  {
   "cell_type": "code",
   "execution_count": null,
   "metadata": {},
   "outputs": [],
   "source": [
    "L ~ 1"
   ]
  },
  {
   "cell_type": "markdown",
   "metadata": {},
   "source": [
    "## 3.10. Elided indexes"
   ]
  },
  {
   "cell_type": "code",
   "execution_count": null,
   "metadata": {},
   "outputs": [],
   "source": [
    "m:(1 2 3 4; 100 200 300 400; 1000 2000 3000 4000)"
   ]
  },
  {
   "cell_type": "code",
   "execution_count": null,
   "metadata": {},
   "outputs": [],
   "source": [
    "m[;1]"
   ]
  },
  {
   "cell_type": "markdown",
   "metadata": {},
   "source": [
    "## 3.11. Rectangular lists and matrices"
   ]
  },
  {
   "cell_type": "markdown",
   "metadata": {},
   "source": [
    "### Rectangular lists\n",
    "- all sublists have the same length\n",
    "- flip: transpose matrix"
   ]
  },
  {
   "cell_type": "markdown",
   "metadata": {},
   "source": [
    "### Matrices\n",
    "- Matrices are a special case of rectangular lists and are defined recursively.\n",
    "- A matrix of dimension __0__ is a __scalar__.\n",
    "- A matrix of dimension __1__ is a __simple list__ (vector).\n",
    "- For __n>1__, __a matrix of dimension n is a list of matrices of dimension n - 1 all having the same size__.\n",
    "- Thus, a matrix of dimension 2 is a list of vectors, all having the same size.\n",
    "- If all atoms in a matrix have the same type, we call this the __type of the matrix__.\n",
    "- The console display of m in tabular form motivates defining the list m[;j] as the jth column of m.\n",
    "- The notations m[i][j] and m[i;j] both retrieve the same item – namely, the item in row i and column j.\n",
    "- Matrices are nested lists stored in row order.\n",
    "- When the rows are simple, each occupies contiguous storage. This makes __row retrieval very fast__.\n",
    "- On the other hand, columns must be picked out of the rows, so __column operations are slower__."
   ]
  },
  {
   "cell_type": "code",
   "execution_count": null,
   "metadata": {},
   "outputs": [],
   "source": [
    "mm:((1 2;3 4;5 6);(10 20;30 40;50 60))\n",
    "mm\n",
    "mm[0]\n",
    "mm[1]"
   ]
  },
  {
   "cell_type": "markdown",
   "metadata": {},
   "source": [
    "### Matrix flexibility"
   ]
  },
  {
   "cell_type": "code",
   "execution_count": null,
   "metadata": {},
   "outputs": [],
   "source": [
    "m\n",
    "m 0 2"
   ]
  },
  {
   "cell_type": "markdown",
   "metadata": {},
   "source": [
    "## 1.12 Usefil list operations\n",
    "- til\n",
    "- distinct\n",
    "- where\n",
    "- group"
   ]
  },
  {
   "cell_type": "code",
   "execution_count": null,
   "metadata": {},
   "outputs": [],
   "source": [
    "til 10"
   ]
  },
  {
   "cell_type": "code",
   "execution_count": null,
   "metadata": {},
   "outputs": [],
   "source": [
    "each til count m"
   ]
  },
  {
   "cell_type": "code",
   "execution_count": null,
   "metadata": {},
   "outputs": [],
   "source": [
    "distinct m / only distinct elements"
   ]
  },
  {
   "cell_type": "code",
   "execution_count": null,
   "metadata": {},
   "outputs": [],
   "source": [
    "bool:01011001b\n",
    "where bool / returns true items. use it in predicates\n",
    "L[where L>2]"
   ]
  },
  {
   "cell_type": "markdown",
   "metadata": {},
   "source": [
    "- group takes a list and returns a dictionary in which\n",
    "each disctinct item of the argument is mapped to its indices of occurences in order of occurrence"
   ]
  },
  {
   "cell_type": "code",
   "execution_count": null,
   "metadata": {},
   "outputs": [],
   "source": [
    "group \"i miss mississippi\""
   ]
  }
 ],
 "metadata": {
  "kernelspec": {
   "display_name": "Q (kdb+)",
   "language": "q",
   "name": "qpk"
  },
  "language_info": {
   "file_extension": ".q",
   "mimetype": "text/x-q",
   "name": "q",
   "version": "3.6.0"
  }
 },
 "nbformat": 4,
 "nbformat_minor": 2
}
