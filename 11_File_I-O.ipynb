{
 "cells": [
  {
   "cell_type": "markdown",
   "metadata": {},
   "source": [
    "# 11. File I/O"
   ]
  },
  {
   "cell_type": "markdown",
   "metadata": {},
   "source": [
    "## 11.1. Bynary data"
   ]
  },
  {
   "cell_type": "code",
   "execution_count": null,
   "metadata": {},
   "outputs": [],
   "source": [
    "path:\"/home/akincsei/4 - jupyter_projects/q4m3_tutorial/data/\"\n",
    "path_file:\"/home/akincsei/4 - jupyter_projects/q4m3_tutorial/data/fox.us.csv\""
   ]
  },
  {
   "cell_type": "code",
   "execution_count": null,
   "metadata": {},
   "outputs": [],
   "source": [
    " / cast: $\n",
    "`$\"df df d f\" / cast to symbol\n",
    "hsym `$\"df/fg rt/df.ext\" / cast to symbol inserting a colon at the beginning: `$\":fdf/df\"\n",
    "hsym `$\"/data/file name.csv\"\n",
    "hsym hsym `$\"/data/file name.csv\" / idempotent: passes output through"
   ]
  },
  {
   "cell_type": "code",
   "execution_count": null,
   "metadata": {},
   "outputs": [],
   "source": [
    "hcount hsym `$path_file / hcount returns the size of file in bytes"
   ]
  },
  {
   "cell_type": "code",
   "execution_count": null,
   "metadata": {},
   "outputs": [],
   "source": [
    "hdel hsym `$path,\"tio.csv\" / delete file by hanle name"
   ]
  },
  {
   "cell_type": "markdown",
   "metadata": {},
   "source": [
    "### 11.1.3. Serializing and seserializing"
   ]
  },
  {
   "cell_type": "markdown",
   "metadata": {},
   "source": [
    "- every q entity can be serialized and persisted to storage\n",
    "- write a q entity to binary file (create or overwrite file): set\n",
    "    - filehandle set q entity\n",
    "- read binary file as entity (three ways)\n",
    "    - get filehandle\n",
    "    - value filehandle\n",
    "    - \\l path/to/file (NOT A FILE HANDLE!)\n",
    "        - \\l assigns the content of a file to an entity with the same name as the file"
   ]
  },
  {
   "cell_type": "markdown",
   "metadata": {},
   "source": [
    "### 11.1.4. Binary data files"
   ]
  },
  {
   "cell_type": "markdown",
   "metadata": {},
   "source": [
    "- opening a symbolic handle returns a function, called an _open handle_, that is used to perform operations.\n",
    "- hopen: returns the _open handle_ function\n",
    "    - hopen filehandle (if file does not exist, creates it)\n",
    "        - you can use the variable value with the open handle assigned to it to do the same operation as with the variable name\n",
    "    - can open a websocket\n",
    "- hclose: closes the open handle function\n",
    "    - if handle refers to a websocket, it is only closed after all pending data is sent"
   ]
  },
  {
   "cell_type": "markdown",
   "metadata": {},
   "source": [
    "- Append to file"
   ]
  },
  {
   "cell_type": "code",
   "execution_count": null,
   "metadata": {},
   "outputs": [],
   "source": [
    "file:hsym `$(path,\"L\")\n",
    "file set 10 20 30\n",
    "h:hopen file\n",
    "h[42]\n",
    "h 100 200\n",
    "hclose h / always close handle"
   ]
  },
  {
   "cell_type": "code",
   "execution_count": null,
   "metadata": {},
   "outputs": [],
   "source": [
    "get file"
   ]
  },
  {
   "cell_type": "markdown",
   "metadata": {},
   "source": [
    "### Writing and reading binary"
   ]
  },
  {
   "cell_type": "markdown",
   "metadata": {},
   "source": [
    "- read1 reads in binary data as a list of bytes. this show the internal representation of the serialized q entity\n",
    "- 1: writes raw binary data to a binary file"
   ]
  },
  {
   "cell_type": "code",
   "execution_count": null,
   "metadata": {},
   "outputs": [],
   "source": [
    "read1 file"
   ]
  },
  {
   "cell_type": "code",
   "execution_count": null,
   "metadata": {},
   "outputs": [],
   "source": [
    "file2:hsym `$path,\"answer.bin\"\n",
    "file2  1: 0x06072a\n",
    "read1 file"
   ]
  },
  {
   "cell_type": "markdown",
   "metadata": {},
   "source": [
    "- _dot amend_ (same as set):\n",
    "    - serializes q entities to a file\n",
    "    - .: writes or overwrites a file\n",
    "    - ,: appends to a file"
   ]
  },
  {
   "cell_type": "code",
   "execution_count": null,
   "metadata": {},
   "outputs": [],
   "source": [
    ".[file; (); :; 1001 1002 1003]\n",
    "q)get file"
   ]
  },
  {
   "cell_type": "code",
   "execution_count": null,
   "metadata": {},
   "outputs": [],
   "source": [
    ".[file; (); ,; 42]\n",
    "get file"
   ]
  },
  {
   "cell_type": "markdown",
   "metadata": {},
   "source": [
    "## 11.2. Save and load on tables\n",
    "- to save a table into a binary file, use the same syntax as writing or reading any type of q entities (set, get)\n",
    "- a simpler method is save and load: you do not have to specify the name of the returned table: it implicitely creates the variable / file\n",
    "    - save filehandle (where the file name has to be the same as the table name)\n",
    "    - load filehandle (where the resulting table name is the same as the filename)\n",
    "    - if you specify an extension (__.txt, .csv, .xml or .xls__) it will be converted to that format\n",
    "        - .txt table saved as tsv (tab separated values)\n",
    "        - .csv table is saved as comma separated values\n",
    "- you can save a table as csv:\n",
    "    - filehandle 0: csv 0: table"
   ]
  },
  {
   "cell_type": "code",
   "execution_count": null,
   "metadata": {},
   "outputs": [],
   "source": [
    "file set ([] c1:`a`b`c; c2:10 20 30; c3:1.1 2.2 3.3)\n",
    "get file"
   ]
  },
  {
   "cell_type": "code",
   "execution_count": null,
   "metadata": {},
   "outputs": [],
   "source": [
    "file3:hsym `$path,\"t\"\n",
    "t:([] c1:`a`b`c; c2:10 20 30; c3:1.1 2.2 3.3)\n",
    "save file3\n",
    "get file3"
   ]
  },
  {
   "cell_type": "code",
   "execution_count": null,
   "metadata": {},
   "outputs": [],
   "source": [
    "load file3\n",
    "t"
   ]
  },
  {
   "cell_type": "code",
   "execution_count": null,
   "metadata": {},
   "outputs": [],
   "source": [
    " / save as .txt\n",
    "file4:hsym `$path,\"t.txt\"\n",
    "t:([] c1:`a`b`c; c2:10 20 30; c3:1.1 2.2 3.3)\n",
    "save file4\n",
    "read0 file4\n",
    "(\"SIF\"; enlist \"\\t\") 0: file4  / no corresponding load or get. you have to parse"
   ]
  },
  {
   "cell_type": "code",
   "execution_count": null,
   "metadata": {},
   "outputs": [],
   "source": [
    " / save as .csv\n",
    "file5:hsym `$path,\"t.csv\"\n",
    "t:([] c1:`a`b`c; c2:10 20 30; c3:1.1 2.2 3.3)\n",
    "save file5\n",
    "read0 file5\n",
    "(\"SIF\"; enlist \",\") 0: file5 / no corresponding load or get. you have to parse"
   ]
  },
  {
   "cell_type": "code",
   "execution_count": null,
   "metadata": {},
   "outputs": [],
   "source": [
    " / save as .xml (you have to use outside [libraries](http://code.kx.com/q/github) to read xml files)\n",
    "file6:hsym `$path,\"t.xml\"\n",
    "t:([] c1:`a`b`c; c2:10 20 30; c3:1.1 2.2 3.3)\n",
    "save file6\n",
    "read0 file6"
   ]
  },
  {
   "cell_type": "code",
   "execution_count": null,
   "metadata": {},
   "outputs": [],
   "source": [
    "file7:hsym `$path,\"t.xls\"\n",
    "t:([] c1:`a`b`c; c2:10 20 30; c3:1.1 2.2 3.3)\n",
    "save file7\n",
    "read0 file7"
   ]
  },
  {
   "cell_type": "markdown",
   "metadata": {},
   "source": [
    "## 11.3. Splayed tables"
   ]
  },
  {
   "cell_type": "markdown",
   "metadata": {},
   "source": [
    "- serialize large tables by their columns into separate files\n",
    "- just use a trailing forward slash at the end of the path symbol set table\n",
    "- Restrictions on tables that can be splayed:\n",
    "    - All columns must be simple or compound lists (a list of simple lists of uniform type)\n",
    "    - An arbitrary general list column cannot be splayed.\n",
    "- Symbol columns must be enumerated."
   ]
  },
  {
   "cell_type": "code",
   "execution_count": null,
   "metadata": {},
   "outputs": [],
   "source": [
    "folder1:hsym `$path,\"t_folder/\"\n",
    "t:([] c1:10 20 30; c2:1.1 2.2 3.3)\n",
    "folder1 set t"
   ]
  },
  {
   "cell_type": "markdown",
   "metadata": {},
   "source": [
    "## 11.4. Text data\n",
    "### 11.4.3. Reading and writing text files"
   ]
  },
  {
   "cell_type": "markdown",
   "metadata": {},
   "source": [
    "- read0 reads a .txt file as a list of strings\n",
    "    - read0 `file.txt\n",
    "- 0: writes a list of strings as a .txt file\n",
    "    - `file.txt 0: tabel_entity"
   ]
  },
  {
   "cell_type": "markdown",
   "metadata": {},
   "source": [
    "- use hopen and hclose to handle .txt files\n",
    "- neg[h] (value1;value2) appends string values to the existing file"
   ]
  },
  {
   "cell_type": "markdown",
   "metadata": {},
   "source": [
    "- saving to .csv file while controlling the filename (vs save hsym `table_name.csv):\n",
    "    - `name.csv 0: csv 0: table"
   ]
  },
  {
   "cell_type": "markdown",
   "metadata": {},
   "source": [
    "### 11.5. Parsing records"
   ]
  },
  {
   "cell_type": "markdown",
   "metadata": {},
   "source": [
    "- parses text file with equal length rows into a table with columns of specified type and length\n",
    "- Dyadic forms of 0: and 1: parse individual fields according to data type from text or binary records.\n",
    "- Field parsing is based on the following [field types](https://code.kx.com/q4m3/11_IO/#115-parsing-records) !!!!"
   ]
  },
  {
   "cell_type": "code",
   "execution_count": null,
   "metadata": {},
   "outputs": [],
   "source": [
    "data:(\"JFS D\";4 7 10 7 10) 0: `:./data/fixed.txt / creates a nested list\n",
    "flip `c1`c2`c3`c4!data / create table from the list of lists"
   ]
  },
  {
   "cell_type": "markdown",
   "metadata": {},
   "source": [
    "### 14.5.2. Variable length records"
   ]
  },
  {
   "cell_type": "markdown",
   "metadata": {},
   "source": [
    "### 14.5.3. Key-value records"
   ]
  },
  {
   "cell_type": "code",
   "execution_count": null,
   "metadata": {},
   "outputs": [],
   "source": [
    "ll1:\"S=;\" 0: \"one=1;two=2;three=3\"\n",
    "\"S:/\" 0: \"one:1/two:2/three:3\"\n",
    "\"I=;\" 0: \"1=one;2=two;3=three\""
   ]
  },
  {
   "cell_type": "code",
   "execution_count": null,
   "metadata": {},
   "outputs": [],
   "source": [
    "flip `k`v!ll1"
   ]
  },
  {
   "cell_type": "markdown",
   "metadata": {},
   "source": [
    "## 14.6. [Inter-process communication (IPC sockets): synchronous callbacks](https://code.kx.com/q4m3/1_Q_Shock_and_Awe/#119-interprocess-communication-101)"
   ]
  },
  {
   "cell_type": "markdown",
   "metadata": {},
   "source": [
    "Server side:\n",
    "- opening a port \\p 30210\n",
    "- \\p checking if port is open\n",
    "- assign the port to a host: It has the same syntax as file handling:\n",
    "    - `:localhost:30210\n",
    "\n",
    "Client side:\n",
    "- open connection on client and assign it to a variable:\n",
    "    h:hopen `:localhost:30210\n",
    "    calling the the h variable / function handles a synchronous request to the server\n",
    "    variable h is called an open handle: it holds a function to send and receive requests to / from the server\n",
    "    e.g.: h \"4*6\" sends the string to the server which calculates it and sends it back\n",
    "- close connection: hclose h\n",
    "Synchronous means that the client blocks until receives the response from the server"
   ]
  },
  {
   "cell_type": "markdown",
   "metadata": {},
   "source": [
    "__Asynchronous callback example__\n",
    "- in case of anychronous callbacks the client does not block while it waits for the server's response: the application of the open handle returns immediately\n",
    "- there are no built-in callbacks, but we can create our own\n",
    "- calling the the \"neg h\" function handles an asynchronous request to the server\n",
    "    - (neg h) (`remote_function;param1;param2) / remote execution (remote method invocation??)\n",
    "    - (neg .z.w): asynchronously calls back the sender (.z.w: \"who is?\")"
   ]
  },
  {
   "cell_type": "code",
   "execution_count": null,
   "metadata": {},
   "outputs": [],
   "source": [
    "rsvp:{[arg;cb] show arg; (neg .z.w) (cb; 43); show `done;} / function to call on server.\n",
    " / (neg .z.w)(callback_name;callback_param) is the real callback function\n",
    "echo:{show x} / function to call back on client\n",
    "(neg h)(`rsvp;\"waiting for callback\";`echo)"
   ]
  },
  {
   "cell_type": "markdown",
   "metadata": {},
   "source": [
    "### 11.6.5 Processing messages"
   ]
  },
  {
   "cell_type": "code",
   "execution_count": null,
   "metadata": {},
   "outputs": [],
   "source": [
    "q)f:{show \"Received \",string x; neg[.z.w] (`mycallback; x+1)} / server"
   ]
  },
  {
   "cell_type": "code",
   "execution_count": null,
   "metadata": {},
   "outputs": [],
   "source": [
    "mycallback:{show \"Returned \",string x;} / client"
   ]
  },
  {
   "cell_type": "markdown",
   "metadata": {},
   "source": [
    "### 11.6.6. Remote queries\n",
    "- review it, complicated"
   ]
  },
  {
   "cell_type": "markdown",
   "metadata": {},
   "source": [
    "## 11.7. HTTP and Websockets"
   ]
  },
  {
   "cell_type": "markdown",
   "metadata": {},
   "source": [
    "### 11.7.1. HTTP connections"
   ]
  },
  {
   "cell_type": "code",
   "execution_count": null,
   "metadata": {},
   "outputs": [],
   "source": [
    " / open a port and create an socket handle\n",
    "\\p 8889\n",
    "`:localhost:8889"
   ]
  },
  {
   "cell_type": "code",
   "execution_count": null,
   "metadata": {},
   "outputs": [],
   "source": [
    " / rewrite the default GET request handler namespace .z.ph\n",
    ".z.ph:{show x 0; show x 1; ; string value 1_x 0}"
   ]
  },
  {
   "cell_type": "markdown",
   "metadata": {},
   "source": [
    "### 11.7.2. Basic WebSockets"
   ]
  },
  {
   "cell_type": "markdown",
   "metadata": {},
   "source": [
    "- WebSockets is a network protocol that upgrades an initial HTTP handshake into a TCP/IP socket connection.\n",
    "- It was initially used to enhance communication capability between browsers and web servers\n",
    "    - but it can be used for general client-server applications.\n",
    "- Once the WebSocket connection is established, either the client or server can message the other;\n",
    "    - in particular, this provides the capability for the server to push data to the client."
   ]
  },
  {
   "cell_type": "code",
   "execution_count": null,
   "metadata": {},
   "outputs": [],
   "source": [
    "\\p 5042"
   ]
  },
  {
   "cell_type": "code",
   "execution_count": null,
   "metadata": {},
   "outputs": [],
   "source": [
    ".z.ws:{0N!-9!x; neg[.z.w] -8!42}"
   ]
  },
  {
   "cell_type": "code",
   "execution_count": 1,
   "metadata": {},
   "outputs": [
    {
     "data": {
      "text/plain": [
       "`:/home/akincsei/00_datasets/kaggle__price-volume-data-for-all-us-stocks-etfs..\n"
      ]
     },
     "execution_count": 1,
     "metadata": {},
     "output_type": "execute_result"
    }
   ],
   "source": [
    "path:\"/home/akincsei/00_datasets/kaggle__price-volume-data-for-all-us-stocks-etfs/csv_data/Stocks/\"\n",
    "ticker_list:(`aapl;`amzn;`baba;`fb;`fox;`googl;`ibm;`intc;`lmt;`lhm;`ms;`msft;`orcl;`tmus)\n",
    "ticker:string ticker_list[1]\n",
    "ext:\".us.csv\"\n",
    "pattern:\"DFFFFII\"\n",
    "pth_fn:hsym `$path,ticker,ext\n",
    "pth_fn"
   ]
  },
  {
   "cell_type": "code",
   "execution_count": 2,
   "metadata": {},
   "outputs": [],
   "source": [
    "rd_csv:{[pth;tck;ext;ptrn] (ptrn;enlist \",\") 0: hsym `$pth,tck,ext}"
   ]
  },
  {
   "cell_type": "code",
   "execution_count": 3,
   "metadata": {},
   "outputs": [],
   "source": [
    "aapl_table:rd_csv[path;ticker;ext;pattern]"
   ]
  },
  {
   "cell_type": "code",
   "execution_count": null,
   "metadata": {},
   "outputs": [],
   "source": [
    "aapl_table"
   ]
  },
  {
   "cell_type": "code",
   "execution_count": null,
   "metadata": {},
   "outputs": [],
   "source": [
    "amzn_str:read0 hsym `$path,ticker,ext"
   ]
  },
  {
   "cell_type": "code",
   "execution_count": null,
   "metadata": {},
   "outputs": [],
   "source": [
    ".z.ws:{0N!-9!x; neg[.z.w] -8!amzn_str}"
   ]
  },
  {
   "cell_type": "markdown",
   "metadata": {},
   "source": [
    "### 14.7.3. Pushing data to the browser"
   ]
  },
  {
   "cell_type": "markdown",
   "metadata": {},
   "source": [
    "- In WebSockets the browser initiates the connection, but once the WebSocket request for protocol upgrade is successful, the browser – i.e., client – and the server are on equal footing.\n",
    "- In this section we demonstrate how the q server can push data to the browser, beginning with the browser script."
   ]
  },
  {
   "cell_type": "code",
   "execution_count": null,
   "metadata": {},
   "outputs": [],
   "source": [
    "\\p 4242"
   ]
  },
  {
   "cell_type": "code",
   "execution_count": null,
   "metadata": {},
   "outputs": [],
   "source": [
    "\\p"
   ]
  },
  {
   "cell_type": "code",
   "execution_count": null,
   "metadata": {},
   "outputs": [],
   "source": [
    " / `:localhost:4242"
   ]
  },
  {
   "cell_type": "code",
   "execution_count": null,
   "metadata": {},
   "outputs": [],
   "source": [
    "answer:42"
   ]
  },
  {
   "cell_type": "code",
   "execution_count": null,
   "metadata": {},
   "outputs": [],
   "source": [
    ".z.po:{`requestor set x; system \"t 1000\";}"
   ]
  },
  {
   "cell_type": "code",
   "execution_count": null,
   "metadata": {},
   "outputs": [],
   "source": [
    ".z.ts:{neg[requestor] -8!answer;; answer+:1;}"
   ]
  },
  {
   "cell_type": "markdown",
   "metadata": {},
   "source": [
    "[More on websockets](https://code.kx.com/q/wp/websockets/#what-are-websockets)"
   ]
  }
 ],
 "metadata": {
  "kernelspec": {
   "display_name": "Q (kdb+)",
   "language": "q",
   "name": "qpk"
  },
  "language_info": {
   "file_extension": ".q",
   "mimetype": "text/x-q",
   "name": "q",
   "version": "3.6.0"
  }
 },
 "nbformat": 4,
 "nbformat_minor": 2
}
