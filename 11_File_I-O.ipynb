{
 "cells": [
  {
   "cell_type": "markdown",
   "metadata": {},
   "source": [
    "# SUMMARY OF FILE HANDLING IN Q"
   ]
  },
  {
   "cell_type": "markdown",
   "metadata": {},
   "source": [
    "## 1. [Running q scripts](https://code.kx.com/q4m3/10_Execution_Control/#103-scripts)"
   ]
  },
  {
   "cell_type": "markdown",
   "metadata": {},
   "source": [
    "- There are 3 ways to run q scripts:\n",
    "    - from script with a q command: __\\l /path/to/file.q__, this is load command:\n",
    "        - does not work from kdb studio\n",
    "        - only works with absolute path\n",
    "    - from script with q's system command: system \"l /path/to/file.q\"\n",
    "    - from terminal: ~$$: q /path/to/file.q arg1 arg2 ...\n",
    "- The 1st and the 2nd is practically the equivalent of load module or import in other languages."
   ]
  },
  {
   "cell_type": "markdown",
   "metadata": {},
   "source": [
    "# 2. Reading and writing data files"
   ]
  },
  {
   "cell_type": "markdown",
   "metadata": {},
   "source": [
    "- __Handling binary files__:\n",
    "    - no instantiation of readers, writers or serializers\n",
    "    - symbolic handels represents files: `: (backtick + colon + path + filename)` `:path/filename.ext\n",
    "    - set: save / write function, which saves the data (list, table, etc) in a serialized binary data file (if success, echos symbolic file handle to stdout)\n",
    "    - get: read function to read in a file (if successful, echos nothing) into q entities (list table etc)"
   ]
  },
  {
   "cell_type": "markdown",
   "metadata": {},
   "source": [
    "- __[Handling txt files](http://178.62.21.29/q/ref/filenumbers/#0-text-files)__\n",
    "    - saving strings to text files: \"0:\" operator\n",
    "        - syntax: `fileHandle` 0: (\"first line\";\"second line\")\n",
    "    - reading text files to strings: myVar:read0 `simbolic_file_handle\n",
    "        - read0 will read the lines of a txt file as elements of a string list"
   ]
  },
  {
   "cell_type": "markdown",
   "metadata": {},
   "source": [
    "- __[Handling csv files](http://178.62.21.29/q/ref/filenumbers/#load-csv)__\n",
    "    - three different overloads of the 0: operator\n",
    "        - writes list of strings to text files (see handling text files)\n",
    "        - prepares the tables as text\n",
    "            - q handles the quoting and escaping of special characters\n",
    "        - parsing formatted csv into q table"
   ]
  },
  {
   "cell_type": "code",
   "execution_count": null,
   "metadata": {},
   "outputs": [],
   "source": [
    "`:testfiles/tio.csv 0: csv 0: tio / prepares tables as text, creates a comma separeted text file, then writes it to a csv file"
   ]
  },
  {
   "cell_type": "code",
   "execution_count": null,
   "metadata": {},
   "outputs": [],
   "source": [
    "csvString:read0 `:testfiles/tio.csv / reads csv file into list of strings"
   ]
  },
  {
   "cell_type": "code",
   "execution_count": null,
   "metadata": {},
   "outputs": [],
   "source": [
    "tio_read:(\"SF\"; enlist \",\") 0: `:testfiles/tio.csv / reads csv file directly into q table with known column types (symbol and float)"
   ]
  },
  {
   "cell_type": "markdown",
   "metadata": {},
   "source": [
    "- __3 ways to read a binary file into memory as a q entity__\n",
    "    - \\l path/to/file (NOT A FILE HANDLE!)\n",
    "        - \\l assigns the content of a file to an entity with the same name as the file\n",
    "    - get filehandle\n",
    "    - value `filehandle"
   ]
  },
  {
   "cell_type": "markdown",
   "metadata": {},
   "source": [
    "- Writing and overwriting a file with _dot amend_ notation (same as set):\n",
    "    - serializes q entities to a file\n",
    "    - .: writes or overwrites a file\n",
    "    - ,: appends to a file"
   ]
  },
  {
   "cell_type": "markdown",
   "metadata": {},
   "source": [
    "# 11. File I/O"
   ]
  },
  {
   "cell_type": "markdown",
   "metadata": {},
   "source": [
    "## 11.1. Bynary data"
   ]
  },
  {
   "cell_type": "code",
   "execution_count": 3,
   "metadata": {},
   "outputs": [],
   "source": [
    "path:\"/home/iguana/1_Code/4_jupyter_projects/q4m3_tutorial/data/\"\n",
    "path_file:\"/home/iguana/1_Code/4_jupyter_projects/q4m3_tutorial/data/fox.us.csv\""
   ]
  },
  {
   "cell_type": "code",
   "execution_count": 1,
   "metadata": {},
   "outputs": [
    {
     "name": "stdout",
     "output_type": "stream",
     "text": [
      "`df df d f\n"
     ]
    },
    {
     "data": {
      "text/plain": [
       "`:df/fg rt/df.ext\n"
      ]
     },
     "execution_count": 1,
     "metadata": {},
     "output_type": "execute_result"
    },
    {
     "data": {
      "text/plain": [
       "`:/data/file name.csv\n"
      ]
     },
     "execution_count": 1,
     "metadata": {},
     "output_type": "execute_result"
    },
    {
     "data": {
      "text/plain": [
       "`:/data/file name.csv\n"
      ]
     },
     "execution_count": 1,
     "metadata": {},
     "output_type": "execute_result"
    }
   ],
   "source": [
    " / cast: $\n",
    "show `$\"df df d f\" / cast to symbol\n",
    "hsym `$\"df/fg rt/df.ext\" / cast to symbolic file handle inserting a colon at the beginning of symbol: `$\":fdf/df\"\n",
    "hsym `$\"/data/file name.csv\"\n",
    "hsym hsym `$\"/data/file name.csv\" / idempotent: passes output through"
   ]
  },
  {
   "cell_type": "code",
   "execution_count": 4,
   "metadata": {},
   "outputs": [
    {
     "data": {
      "text/plain": [
       "158527\n"
      ]
     },
     "execution_count": 4,
     "metadata": {},
     "output_type": "execute_result"
    }
   ],
   "source": [
    "hcount hsym `$path_file / hcount returns the size of file in bytes"
   ]
  },
  {
   "cell_type": "code",
   "execution_count": 7,
   "metadata": {},
   "outputs": [
    {
     "data": {
      "text/plain": [
       "`:/home/iguana/1_Code/4_jupyter_projects/q4m3_tutorial/data/t\n"
      ]
     },
     "execution_count": 7,
     "metadata": {},
     "output_type": "execute_result"
    }
   ],
   "source": [
    "hdel hsym `$path,\"t\" / delete file by hanle name"
   ]
  },
  {
   "cell_type": "markdown",
   "metadata": {},
   "source": [
    "### 11.1.3. Serializing and seserializing"
   ]
  },
  {
   "cell_type": "markdown",
   "metadata": {},
   "source": [
    "- every q entity can be serialized and persisted to storage\n",
    "- write a q entity to binary file (create or overwrite file): set\n",
    "    - filehandle set q entity\n",
    "- read binary file as entity (three ways)\n",
    "    - get filehandle\n",
    "    - value filehandle\n",
    "    - \\l path/to/file (NOT A FILE HANDLE!)\n",
    "        - \\l assigns the content of a file to an entity with the same name as the file"
   ]
  },
  {
   "cell_type": "markdown",
   "metadata": {},
   "source": [
    "### 11.1.4. Binary data files"
   ]
  },
  {
   "cell_type": "markdown",
   "metadata": {},
   "source": [
    "- opening a symbolic handle returns a function, called an _open handle_, that is used to perform operations.\n",
    "- hopen: returns the _open handle_ function\n",
    "    - hopen filehandle (if file does not exist, creates it)\n",
    "        - you can use the variable value with the open handle assigned to it to do the same operation as with the variable name\n",
    "    - can open a websocket\n",
    "- hclose: closes the open handle function\n",
    "    - if handle refers to a websocket, it is only closed after all pending data is sent"
   ]
  },
  {
   "cell_type": "markdown",
   "metadata": {},
   "source": [
    "- Append to file"
   ]
  },
  {
   "cell_type": "code",
   "execution_count": 8,
   "metadata": {},
   "outputs": [
    {
     "data": {
      "text/plain": [
       "`:/home/iguana/1_Code/4_jupyter_projects/q4m3_tutorial/data/openHandle\n"
      ]
     },
     "execution_count": 8,
     "metadata": {},
     "output_type": "execute_result"
    },
    {
     "data": {
      "text/plain": [
       "5i\n"
      ]
     },
     "execution_count": 8,
     "metadata": {},
     "output_type": "execute_result"
    },
    {
     "data": {
      "text/plain": [
       "5i\n"
      ]
     },
     "execution_count": 8,
     "metadata": {},
     "output_type": "execute_result"
    }
   ],
   "source": [
    "file:hsym `$(path,\"openHandle\")\n",
    "file set 10 20 30\n",
    "h:hopen file\n",
    "h[42]\n",
    "h 100 200\n",
    "hclose h / always close handle"
   ]
  },
  {
   "cell_type": "code",
   "execution_count": 9,
   "metadata": {},
   "outputs": [
    {
     "data": {
      "text/plain": [
       "10 20 30 42 100 200\n"
      ]
     },
     "execution_count": 9,
     "metadata": {},
     "output_type": "execute_result"
    }
   ],
   "source": [
    "get file"
   ]
  },
  {
   "cell_type": "markdown",
   "metadata": {},
   "source": [
    "### Writing and reading binary"
   ]
  },
  {
   "cell_type": "markdown",
   "metadata": {},
   "source": [
    "- read1 reads in binary data as a list of bytes. this show the internal representation of the serialized q entity\n",
    "- 1: writes raw binary data to a binary file"
   ]
  },
  {
   "cell_type": "code",
   "execution_count": 10,
   "metadata": {},
   "outputs": [
    {
     "data": {
      "text/plain": [
       "0xfe2007000000000003000000000000000a0000000000000014000000000000001e000000000..\n"
      ]
     },
     "execution_count": 10,
     "metadata": {},
     "output_type": "execute_result"
    }
   ],
   "source": [
    "read1 file"
   ]
  },
  {
   "cell_type": "code",
   "execution_count": null,
   "metadata": {},
   "outputs": [],
   "source": [
    "file2:hsym `$path,\"answer.bin\"\n",
    "file2  1: 0x06072a\n",
    "read1 file"
   ]
  },
  {
   "cell_type": "markdown",
   "metadata": {},
   "source": [
    "- _dot amend_ (same as set):\n",
    "    - serializes q entities to a file\n",
    "    - .: writes or overwrites a file\n",
    "    - ,: appends to a file"
   ]
  },
  {
   "cell_type": "code",
   "execution_count": null,
   "metadata": {},
   "outputs": [],
   "source": [
    ".[file; (); :; 1001 1002 1003]\n",
    "q)get file"
   ]
  },
  {
   "cell_type": "code",
   "execution_count": null,
   "metadata": {},
   "outputs": [],
   "source": [
    ".[file; (); ,; 42]\n",
    "get file"
   ]
  },
  {
   "cell_type": "markdown",
   "metadata": {},
   "source": [
    "## 11.2. Save and load on tables\n",
    "- to save a table into a binary file, use the same syntax as writing or reading any type of q entities (set, get)\n",
    "- a simpler method is save and load: you do not have to specify the name of the returned table: it implicitely creates the variable / file\n",
    "    - save filehandle (where the file name has to be the same as the table name)\n",
    "    - load filehandle (where the resulting table name is the same as the filename)\n",
    "    - if you specify an extension (__.txt, .csv, .xml or .xls__) it will be converted to that format\n",
    "        - .txt table saved as tsv (tab separated values)\n",
    "        - .csv table is saved as comma separated values\n",
    "- you can save a table as csv:\n",
    "    - filehandle 0: csv 0: table"
   ]
  },
  {
   "cell_type": "code",
   "execution_count": null,
   "metadata": {},
   "outputs": [],
   "source": [
    "file set ([] c1:`a`b`c; c2:10 20 30; c3:1.1 2.2 3.3)\n",
    "get file"
   ]
  },
  {
   "cell_type": "code",
   "execution_count": 14,
   "metadata": {},
   "outputs": [
    {
     "data": {
      "text/plain": []
     },
     "execution_count": 14,
     "metadata": {},
     "output_type": "execute_result"
    }
   ],
   "source": [
    "system \"touch fiot\""
   ]
  },
  {
   "cell_type": "code",
   "execution_count": 15,
   "metadata": {},
   "outputs": [],
   "source": [
    "file3:hsym `$path,\"fiot\""
   ]
  },
  {
   "cell_type": "code",
   "execution_count": 13,
   "metadata": {},
   "outputs": [],
   "source": [
    "fiot:([] c1:`a`b`c; c2:10 20 30; c3:1.1 2.2 3.3)"
   ]
  },
  {
   "cell_type": "code",
   "execution_count": 16,
   "metadata": {},
   "outputs": [
    {
     "data": {
      "text/plain": [
       "`:/home/iguana/1_Code/4_jupyter_projects/q4m3_tutorial/data/fiot\n"
      ]
     },
     "execution_count": 16,
     "metadata": {},
     "output_type": "execute_result"
    }
   ],
   "source": [
    "save file3"
   ]
  },
  {
   "cell_type": "code",
   "execution_count": 17,
   "metadata": {},
   "outputs": [
    {
     "data": {
      "text/plain": [
       "`fiot\n"
      ]
     },
     "execution_count": 17,
     "metadata": {},
     "output_type": "execute_result"
    }
   ],
   "source": [
    "load file3"
   ]
  },
  {
   "cell_type": "code",
   "execution_count": null,
   "metadata": {},
   "outputs": [],
   "source": [
    " / save as .txt\n",
    "file4:hsym `$path,\"t.txt\"\n",
    "t:([] c1:`a`b`c; c2:10 20 30; c3:1.1 2.2 3.3)\n",
    "save file4\n",
    "read0 file4\n",
    "(\"SIF\"; enlist \"\\t\") 0: file4  / no corresponding load or get. you have to parse"
   ]
  },
  {
   "cell_type": "code",
   "execution_count": null,
   "metadata": {},
   "outputs": [],
   "source": [
    " / save as .csv\n",
    "file5:hsym `$path,\"t.csv\"\n",
    "t:([] c1:`a`b`c; c2:10 20 30; c3:1.1 2.2 3.3)\n",
    "save file5\n",
    "read0 file5\n",
    "(\"SIF\"; enlist \",\") 0: file5 / no corresponding load or get. you have to parse"
   ]
  },
  {
   "cell_type": "code",
   "execution_count": null,
   "metadata": {},
   "outputs": [],
   "source": [
    " / save as .xml (you have to use outside [libraries](http://code.kx.com/q/github) to read xml files)\n",
    "file6:hsym `$path,\"t.xml\"\n",
    "t:([] c1:`a`b`c; c2:10 20 30; c3:1.1 2.2 3.3)\n",
    "save file6\n",
    "read0 file6"
   ]
  },
  {
   "cell_type": "code",
   "execution_count": null,
   "metadata": {},
   "outputs": [],
   "source": [
    "file7:hsym `$path,\"t.xls\"\n",
    "t:([] c1:`a`b`c; c2:10 20 30; c3:1.1 2.2 3.3)\n",
    "save file7\n",
    "read0 file7"
   ]
  },
  {
   "cell_type": "markdown",
   "metadata": {},
   "source": [
    "## 11.3. Splayed tables"
   ]
  },
  {
   "cell_type": "markdown",
   "metadata": {},
   "source": [
    "- serialize large tables by their columns into separate files\n",
    "- just use a trailing forward slash at the end of the path symbol set table\n",
    "- Restrictions on tables that can be splayed:\n",
    "    - All columns must be simple or compound lists (a list of simple lists of uniform type)\n",
    "    - An arbitrary general list column cannot be splayed.\n",
    "- Symbol columns must be enumerated."
   ]
  },
  {
   "cell_type": "code",
   "execution_count": null,
   "metadata": {},
   "outputs": [],
   "source": [
    "folder1:hsym `$path,\"t_folder/\"\n",
    "t:([] c1:10 20 30; c2:1.1 2.2 3.3)\n",
    "folder1 set t"
   ]
  },
  {
   "cell_type": "markdown",
   "metadata": {},
   "source": [
    "## 11.4. Text data\n",
    "### 11.4.3. Reading and writing text files"
   ]
  },
  {
   "cell_type": "markdown",
   "metadata": {},
   "source": [
    "- read0 reads a .txt file as a list of strings\n",
    "    - read0 `file.txt\n",
    "- 0: writes a list of strings as a .txt file\n",
    "    - `file.txt 0: tabel_entity"
   ]
  },
  {
   "cell_type": "markdown",
   "metadata": {},
   "source": [
    "- use hopen and hclose to handle .txt files\n",
    "- neg[h] (value1;value2) appends string values to the existing file"
   ]
  },
  {
   "cell_type": "markdown",
   "metadata": {},
   "source": [
    "- saving to .csv file while controlling the filename (vs save hsym `table_name.csv):\n",
    "    - `name.csv 0: csv 0: table"
   ]
  },
  {
   "cell_type": "markdown",
   "metadata": {},
   "source": [
    "### 11.5. Parsing records"
   ]
  },
  {
   "cell_type": "markdown",
   "metadata": {},
   "source": [
    "- parses text file with equal length rows into a table with columns of specified type and length\n",
    "- Dyadic forms of 0: and 1: parse individual fields according to data type from text or binary records.\n",
    "- Field parsing is based on the following [field types](https://code.kx.com/q4m3/11_IO/#115-parsing-records) !!!!"
   ]
  },
  {
   "cell_type": "code",
   "execution_count": null,
   "metadata": {},
   "outputs": [],
   "source": [
    "data:(\"JFS D\";4 7 10 7 10) 0: `:./data/fixed.txt / creates a nested list\n",
    "flip `c1`c2`c3`c4!data / create table from the list of lists"
   ]
  },
  {
   "cell_type": "markdown",
   "metadata": {},
   "source": [
    "### 14.5.2. Variable length records"
   ]
  },
  {
   "cell_type": "markdown",
   "metadata": {},
   "source": [
    "### 14.5.3. Key-value records"
   ]
  },
  {
   "cell_type": "code",
   "execution_count": 18,
   "metadata": {},
   "outputs": [
    {
     "data": {
      "text/plain": [
       "one  two  three\n",
       ",\"1\" ,\"2\" ,\"3\" \n"
      ]
     },
     "execution_count": 18,
     "metadata": {},
     "output_type": "execute_result"
    },
    {
     "data": {
      "text/plain": [
       "1     2     3      \n",
       "\"one\" \"two\" \"three\"\n"
      ]
     },
     "execution_count": 18,
     "metadata": {},
     "output_type": "execute_result"
    }
   ],
   "source": [
    "ll1:\"S=;\" 0: \"one=1;two=2;three=3\"\n",
    "\"S:/\" 0: \"one:1/two:2/three:3\"\n",
    "\"I=;\" 0: \"1=one;2=two;3=three\""
   ]
  },
  {
   "cell_type": "code",
   "execution_count": 19,
   "metadata": {},
   "outputs": [
    {
     "data": {
      "text/plain": [
       "k     v   \n",
       "----------\n",
       "one   ,\"1\"\n",
       "two   ,\"2\"\n",
       "three ,\"3\"\n"
      ]
     },
     "execution_count": 19,
     "metadata": {},
     "output_type": "execute_result"
    }
   ],
   "source": [
    "flip `k`v!ll1"
   ]
  }
 ],
 "metadata": {
  "kernelspec": {
   "display_name": "Q (kdb+)",
   "language": "q",
   "name": "qpk"
  },
  "language_info": {
   "file_extension": ".q",
   "mimetype": "text/x-q",
   "name": "q",
   "version": "3.6.0"
  }
 },
 "nbformat": 4,
 "nbformat_minor": 2
}
