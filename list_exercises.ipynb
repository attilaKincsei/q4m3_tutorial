{
 "cells": [
  {
   "cell_type": "markdown",
   "metadata": {},
   "source": [
    "### 1. Total amount of points\n",
    "- https://www.codewars.com/kata/total-amount-of-points"
   ]
  },
  {
   "cell_type": "code",
   "execution_count": null,
   "metadata": {},
   "outputs": [],
   "source": [
    "tournament1:(\"1:1\";\"2:2\";\"3:3\";\"4:4\";\"2:2\";\"3:3\";\"4:4\";\"3:3\";\"4:4\";\"4:4\")\n",
    "tournament2:(\"1:0\";\"2:0\";\"3:0\";\"4:0\";\"2:1\";\"3:1\";\"4:1\";\"3:2\";\"4:2\";\"4:3\")\n",
    "tournament3:(\"0:1\";\"0:2\";\"0:3\";\"0:4\";\"1:2\";\"1:3\";\"1:4\";\"2:3\";\"2:4\";\"3:4\")\n",
    "tournament4:(\"1:0\";\"2:0\";\"3:0\";\"4:0\";\"2:1\";\"1:3\";\"1:4\";\"2:3\";\"2:4\";\"3:4\")\n",
    "tournament5:(\"1:0\";\"2:0\";\"3:0\";\"4:4\";\"2:2\";\"3:3\";\"1:4\";\"2:3\";\"2:4\";\"3:4\")"
   ]
  },
  {
   "cell_type": "code",
   "execution_count": null,
   "metadata": {},
   "outputs": [],
   "source": [
    "split:{[game] \":\" vs game}"
   ]
  },
  {
   "cell_type": "code",
   "execution_count": null,
   "metadata": {},
   "outputs": [],
   "source": [
    "add_points:{[scores] $[scores[0]>scores[1];3;scores[0]=scores[1];1;0]}"
   ]
  },
  {
   "cell_type": "code",
   "execution_count": null,
   "metadata": {},
   "outputs": [],
   "source": [
    "points:{[games] score_matrix:\"J\"$split each games;points:0; points+:add_points each score_matrix;sum points}"
   ]
  },
  {
   "cell_type": "code",
   "execution_count": null,
   "metadata": {},
   "outputs": [],
   "source": [
    "test_points:{[games;expected] expected~points[games]}"
   ]
  },
  {
   "cell_type": "code",
   "execution_count": null,
   "metadata": {},
   "outputs": [],
   "source": [
    "test_points[(\"1:1\";\"2:2\";\"3:3\";\"4:4\";\"2:2\";\"3:3\";\"4:4\";\"3:3\";\"4:4\";\"4:4\"); 10]\n",
    "test_points[(\"1:0\";\"2:0\";\"3:0\";\"4:0\";\"2:1\";\"3:1\";\"4:1\";\"3:2\";\"4:2\";\"4:3\"); 30]\n",
    "test_points[(\"0:1\";\"0:2\";\"0:3\";\"0:4\";\"1:2\";\"1:3\";\"1:4\";\"2:3\";\"2:4\";\"3:4\"); 0]\n",
    "test_points[(\"1:0\";\"2:0\";\"3:0\";\"4:0\";\"2:1\";\"1:3\";\"1:4\";\"2:3\";\"2:4\";\"3:4\"); 15]\n",
    "test_points[(\"1:0\";\"2:0\";\"3:0\";\"4:4\";\"2:2\";\"3:3\";\"1:4\";\"2:3\";\"2:4\";\"3:4\"); 12]"
   ]
  }
 ],
 "metadata": {
  "kernelspec": {
   "display_name": "Q (kdb+)",
   "language": "q",
   "name": "qpk"
  },
  "language_info": {
   "file_extension": ".q",
   "mimetype": "text/x-q",
   "name": "q",
   "version": "3.6.0"
  }
 },
 "nbformat": 4,
 "nbformat_minor": 2
}
