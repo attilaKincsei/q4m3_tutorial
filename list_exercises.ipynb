{
 "cells": [
  {
   "cell_type": "markdown",
   "metadata": {},
   "source": [
    "### 1. [Total amount of points](https://www.codewars.com/kata/total-amount-of-points)"
   ]
  },
  {
   "cell_type": "code",
   "execution_count": null,
   "metadata": {},
   "outputs": [],
   "source": [
    "tournament1:(\"1:1\";\"2:2\";\"3:3\";\"4:4\";\"2:2\";\"3:3\";\"4:4\";\"3:3\";\"4:4\";\"4:4\")\n",
    "tournament2:(\"1:0\";\"2:0\";\"3:0\";\"4:0\";\"2:1\";\"3:1\";\"4:1\";\"3:2\";\"4:2\";\"4:3\")\n",
    "tournament3:(\"0:1\";\"0:2\";\"0:3\";\"0:4\";\"1:2\";\"1:3\";\"1:4\";\"2:3\";\"2:4\";\"3:4\")\n",
    "tournament4:(\"1:0\";\"2:0\";\"3:0\";\"4:0\";\"2:1\";\"1:3\";\"1:4\";\"2:3\";\"2:4\";\"3:4\")\n",
    "tournament5:(\"1:0\";\"2:0\";\"3:0\";\"4:4\";\"2:2\";\"3:3\";\"1:4\";\"2:3\";\"2:4\";\"3:4\")"
   ]
  },
  {
   "cell_type": "code",
   "execution_count": null,
   "metadata": {},
   "outputs": [],
   "source": [
    "split:{[game] \":\" vs game}"
   ]
  },
  {
   "cell_type": "code",
   "execution_count": null,
   "metadata": {},
   "outputs": [],
   "source": [
    "add_points:{[scores] $[scores[0]>scores[1];3;scores[0]=scores[1];1;0]}"
   ]
  },
  {
   "cell_type": "code",
   "execution_count": null,
   "metadata": {},
   "outputs": [],
   "source": [
    "points:{[games] score_matrix:\"J\"$split each games;points:0; points+:add_points each score_matrix;sum points}"
   ]
  },
  {
   "cell_type": "code",
   "execution_count": null,
   "metadata": {},
   "outputs": [],
   "source": [
    "test_points:{[games;expected] expected~points[games]}"
   ]
  },
  {
   "cell_type": "code",
   "execution_count": null,
   "metadata": {},
   "outputs": [],
   "source": [
    "test_points[(\"1:1\";\"2:2\";\"3:3\";\"4:4\";\"2:2\";\"3:3\";\"4:4\";\"3:3\";\"4:4\";\"4:4\"); 10]\n",
    "test_points[(\"1:0\";\"2:0\";\"3:0\";\"4:0\";\"2:1\";\"3:1\";\"4:1\";\"3:2\";\"4:2\";\"4:3\"); 30]\n",
    "test_points[(\"0:1\";\"0:2\";\"0:3\";\"0:4\";\"1:2\";\"1:3\";\"1:4\";\"2:3\";\"2:4\";\"3:4\"); 0]\n",
    "test_points[(\"1:0\";\"2:0\";\"3:0\";\"4:0\";\"2:1\";\"1:3\";\"1:4\";\"2:3\";\"2:4\";\"3:4\"); 15]\n",
    "test_points[(\"1:0\";\"2:0\";\"3:0\";\"4:4\";\"2:2\";\"3:3\";\"1:4\";\"2:3\";\"2:4\";\"3:4\"); 12]"
   ]
  },
  {
   "cell_type": "markdown",
   "metadata": {},
   "source": [
    "### 2. [Closeset elevator](https://www.codewars.com/kata/closest-elevator)"
   ]
  },
  {
   "cell_type": "markdown",
   "metadata": {},
   "source": [
    "### 3. [Keep hydrated](https://www.codewars.com/kata/keep-hydrated-1)"
   ]
  },
  {
   "cell_type": "code",
   "execution_count": null,
   "metadata": {},
   "outputs": [],
   "source": [
    "litres:{floor x%2}"
   ]
  },
  {
   "cell_type": "code",
   "execution_count": null,
   "metadata": {},
   "outputs": [],
   "source": [
    "hydreted_assert_equals:{[hours;expected] expected~litres[hours]}"
   ]
  },
  {
   "cell_type": "code",
   "execution_count": null,
   "metadata": {},
   "outputs": [],
   "source": [
    "hydreted_assert_equals[2;1]\n",
    "hydreted_assert_equals[1.4; 0]\n",
    "hydreted_assert_equals[12.3; 6]\n",
    "hydreted_assert_equals[0.82; 0]\n",
    "hydreted_assert_equals[11.8; 5]\n",
    "hydreted_assert_equals[1787; 893]\n",
    "hydreted_assert_equals[0; 0]"
   ]
  },
  {
   "cell_type": "markdown",
   "metadata": {},
   "source": [
    "### 4. [Remove every second element](https://www.codewars.com/kata/removing-elements/train/python)"
   ]
  },
  {
   "cell_type": "code",
   "execution_count": null,
   "metadata": {},
   "outputs": [],
   "source": [
    "remove_element:{[input] @[input;1+2*til floor (count input)%2]}"
   ]
  },
  {
   "cell_type": "code",
   "execution_count": null,
   "metadata": {},
   "outputs": [],
   "source": [
    "remove_element[til 12]"
   ]
  },
  {
   "cell_type": "code",
   "execution_count": null,
   "metadata": {},
   "outputs": [],
   "source": [
    "remove_odds:{remove_element each x 1}"
   ]
  },
  {
   "cell_type": "code",
   "execution_count": null,
   "metadata": {},
   "outputs": [],
   "source": [
    "test_list:til 10\n",
    "test_list"
   ]
  },
  {
   "cell_type": "code",
   "execution_count": null,
   "metadata": {},
   "outputs": [],
   "source": [
    "@[test_list;1+2*til floor (count test_list)%2]"
   ]
  },
  {
   "cell_type": "markdown",
   "metadata": {},
   "source": [
    "### 5. [Count of positives, sum of negatives](https://www.codewars.com/kata/576bb71bbbcf0951d5000044/solutions/python)"
   ]
  },
  {
   "cell_type": "code",
   "execution_count": null,
   "metadata": {},
   "outputs": [],
   "source": [
    "pos_neg1:{countp:count x[where x>0];sumn:sum x[where x<0];$[x~();();(countp;sumn)]}"
   ]
  },
  {
   "cell_type": "code",
   "execution_count": null,
   "metadata": {},
   "outputs": [],
   "source": [
    "pos_neg:{$[x~();:();];countp:count x[where x>0];sumn:sum x[where x<0]; (countp;sumn)}"
   ]
  },
  {
   "cell_type": "code",
   "execution_count": null,
   "metadata": {},
   "outputs": [],
   "source": [
    "pos_neg[(1;2;3;4;5;6;7;8;9;10;-11;-12;-13;-14;-15)] ~ (10;-65)\n",
    "pos_neg[(0;2;3;0;5;6;7;8;9;10;-11;-12;-13;-14)]~(8;-50)\n",
    "pos_neg[(enlist 1)]~(1;0)\n",
    "pos_neg[(enlist -1)]~(0;-1)\n",
    "pos_neg[(0;0;0;0;0;0;0;0;0)]~(0;0)\n",
    "pos_neg[()]~()"
   ]
  },
  {
   "cell_type": "markdown",
   "metadata": {},
   "source": [
    "### 6. [Sum of squares](https://www.codewars.com/kata/square-n-sum/train/python)"
   ]
  },
  {
   "cell_type": "code",
   "execution_count": null,
   "metadata": {},
   "outputs": [],
   "source": [
    "sum_sq:{sum x*x}"
   ]
  },
  {
   "cell_type": "code",
   "execution_count": null,
   "metadata": {},
   "outputs": [],
   "source": [
    "sum_sq 1 2 3 4 5"
   ]
  }
 ],
 "metadata": {
  "kernelspec": {
   "display_name": "Q (kdb+)",
   "language": "q",
   "name": "qpk"
  },
  "language_info": {
   "file_extension": ".q",
   "mimetype": "text/x-q",
   "name": "q",
   "version": "3.6.0"
  }
 },
 "nbformat": 4,
 "nbformat_minor": 2
}
