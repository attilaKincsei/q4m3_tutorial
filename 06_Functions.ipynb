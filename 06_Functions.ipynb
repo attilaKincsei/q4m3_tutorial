{
 "cells": [
  {
   "cell_type": "markdown",
   "metadata": {},
   "source": [
    "# 6. FUNCTIONS"
   ]
  },
  {
   "cell_type": "markdown",
   "metadata": {},
   "source": [
    "[List of q built-in functions](http://code.kx.com/q4m3/A_Built-in_Functions/)"
   ]
  },
  {
   "cell_type": "markdown",
   "metadata": {},
   "source": [
    "## 6.1. Function specification"
   ]
  },
  {
   "cell_type": "markdown",
   "metadata": {},
   "source": [
    "- Because a q function can __modify global variables__, q is not a pure functional language."
   ]
  },
  {
   "cell_type": "markdown",
   "metadata": {},
   "source": [
    "- Function definition notation: {[param1, param2, ...]expr1;expr2;...}\n",
    "- if only up to 3 parameters is used x, y, z, you do not have to declare them\n",
    "- function name is optional: lambda or anonymous function\n",
    "    - definition {x*x}[3] -> returns 9\n",
    "- no return statement: the function returns the last expression evaluated\n",
    "    - finish the function definition with a semi-colon to return nil (::)\n",
    "    - ; is an opererator that evaluates its left operand and discards its value then evaluates its right operand and returns its value\n",
    "    - : (return) in a function body terminates the execution of the function early and returns the expression to its right\n",
    "- a function is a first class value\n",
    "- a function can be assigned to a variable\n",
    "- expressions in a function are evaluated from left to right\n",
    "- valence (rank): number of parameters in a function\n",
    "    - maximum valence permitted: 8 parameters\n",
    "        - to exceed this: encapsulate multiple parameters in a list or dictionary\n",
    "    - niladic function: function with no parameters"
   ]
  },
  {
   "cell_type": "code",
   "execution_count": null,
   "metadata": {},
   "outputs": [],
   "source": [
    "too_many_params:{[q;w;e;r;t;z;u;o;l] (q;w;e;r;t;z;u;o;l)}"
   ]
  },
  {
   "cell_type": "markdown",
   "metadata": {},
   "source": [
    "___Keep it short___\n",
    "- Q functions should be compact and modular:\n",
    "    - each function should perform a well-defined unit of work.\n",
    "- Due to the power of q operators and built-in functions, many functions are one line.\n",
    "- When a function exceeds 20 statements, you should look to refactor it."
   ]
  },
  {
   "cell_type": "markdown",
   "metadata": {},
   "source": [
    "___q is NOT ambivalent___ depending on their valence:\n",
    "- meaning\n",
    "    - q operators and built-in functions are __not overloaded on valence__, meaning that the same function does not have different behavior in a monadic and dyadic form. HOWEVER:\n",
    "\n",
    "___q IS ambivalent___ in terms of several other aspectcts:\n",
    "- meaining:\n",
    "    -  q operators and built-in functions __are overloaded on__:\n",
    "        - type,\n",
    "        - sign,\n",
    "        - rank of arguments,\n",
    "        - etc.\n",
    "        - sometimes multiply so."
   ]
  },
  {
   "cell_type": "markdown",
   "metadata": {},
   "source": [
    "### 6.1.3. Function application (function call)"
   ]
  },
  {
   "cell_type": "markdown",
   "metadata": {},
   "source": [
    "- function application is strict: expressions in arguments are evaluated first, substitution happens only afterwards"
   ]
  },
  {
   "cell_type": "markdown",
   "metadata": {},
   "source": [
    "- method 1:\n",
    "    - func[arg1;arg2;...;arg8]\n",
    "- method 2: with juxtaposition\n",
    "    - func arg1 arg2 ...\n",
    "- method 3: call function by symbolic name:\n",
    "    - `func arg1 ..."
   ]
  },
  {
   "cell_type": "markdown",
   "metadata": {},
   "source": [
    "### 6.1.4. Functions with no return value"
   ]
  },
  {
   "cell_type": "markdown",
   "metadata": {},
   "source": [
    "- notation: void_function:{expr;} - ends with a semi-colon\n",
    "- returns the nil item: ::\n",
    "- purpose of these functions:\n",
    "    - for only side effects: sending an asynchronous message; updating a global variable"
   ]
  },
  {
   "cell_type": "markdown",
   "metadata": {},
   "source": [
    "### 6.1.7. Implicit parameters"
   ]
  },
  {
   "cell_type": "markdown",
   "metadata": {},
   "source": [
    "- __x, y, z__ are the 3 positional parameters defined implicitly inside every function, you can use them without declaring them as parameters"
   ]
  },
  {
   "cell_type": "markdown",
   "metadata": {},
   "source": [
    "### 6.1.8 Anonymous functions and Lambda expressions"
   ]
  },
  {
   "cell_type": "markdown",
   "metadata": {},
   "source": [
    "- All q functions are anonymous functions (or lambda expression or lambdas) by defalut\n",
    "    - until assigned to a variable\n",
    "- Use cases:\n",
    "    - in-line macro????\n",
    "    - __dynamic dispatch__: functions are placed in a collection (e.g., list, dictionary, table) and then selected dynamically (i.e., at runtime) rather than by an intrinsic name"
   ]
  },
  {
   "cell_type": "code",
   "execution_count": null,
   "metadata": {},
   "outputs": [],
   "source": [
    "powers:({1}; {x}; {x*x}; {x*x*x})\n",
    "powers[3;2]"
   ]
  },
  {
   "cell_type": "markdown",
   "metadata": {},
   "source": [
    "### 6.1.9. The identity function ::"
   ]
  },
  {
   "cell_type": "markdown",
   "metadata": {},
   "source": [
    "- an identity function returns its input as its output\n",
    "- notation: ::[1;32;3] -> returns 1 32 3"
   ]
  },
  {
   "cell_type": "markdown",
   "metadata": {},
   "source": [
    "### 6.1.10 Functions are data"
   ]
  },
  {
   "cell_type": "markdown",
   "metadata": {},
   "source": [
    "- data categories in q:\n",
    "    - atoms\n",
    "    - lists\n",
    "    - dictionaries\n",
    "    - tables\n",
    "    - __FUNCTIONS__\n",
    "        - they can be passed around as any other data categories, e.g. as an item in a list or dictionary\n",
    "        - functions can be arguments of another (higher-order) function or\n",
    "        - return values"
   ]
  },
  {
   "cell_type": "code",
   "execution_count": null,
   "metadata": {},
   "outputs": [],
   "source": [
    "apply:{x y}\n",
    "sq:{x*x}\n",
    "apply[sq; 5]"
   ]
  },
  {
   "cell_type": "markdown",
   "metadata": {},
   "source": [
    "## 6.2. Call-by-name"
   ]
  },
  {
   "cell_type": "markdown",
   "metadata": {},
   "source": [
    "__q functions are call by value__\n",
    "- arguments are reduced to values and copies are made"
   ]
  },
  {
   "cell_type": "code",
   "execution_count": null,
   "metadata": {},
   "outputs": [],
   "source": [
    "a:5\n",
    "func1:{x-1}\n",
    "a\n",
    "func1 a\n",
    "a"
   ]
  },
  {
   "cell_type": "markdown",
   "metadata": {},
   "source": [
    "__except when the variable size is too large__\n",
    "- names of global variables are passed instead of their values\n",
    "- q kernel handles arguments automatically and decides to call them as values or names\n",
    "    - built-in functions using call-by-name of global variables:\n",
    "        - __get__\n",
    "        - __set__\n",
    "- The result of any built-in call-by-name function application is the __symbol__ that was passed as input.\n",
    "    - This enables call-by-name functions to be chained – i.e., composed."
   ]
  },
  {
   "cell_type": "code",
   "execution_count": null,
   "metadata": {},
   "outputs": [],
   "source": [
    "gv:323\n",
    "get `gv / the symbolic name should be used as parameter\n",
    "`gv2 set 101 / a symbolic name should be used as the name of the variable\n",
    "gv2"
   ]
  },
  {
   "cell_type": "markdown",
   "metadata": {},
   "source": [
    "## 6.3. Local and global variables"
   ]
  },
  {
   "cell_type": "markdown",
   "metadata": {},
   "source": [
    "- __Local variable__: assigned with : within a function\n",
    "- 24 local variables are allowed within a function\n",
    "- A local variable exists only for the duration of an application. There is no notion of a static local variable that maintains its value across applications.\n",
    "- A local variable is not visible outside its immediate scope of definition.\n",
    "- A local variable cannot be used as an argument to a q function that uses call-by-name.\n",
    "- q does not have lexical scoping: A local variable is not visible within the body of a local function defined in the same scope\n",
    "    - use projection instead:"
   ]
  },
  {
   "cell_type": "code",
   "execution_count": null,
   "metadata": {},
   "outputs": [],
   "source": [
    "f:{[p1] a:42; helper:{[a; p2] a*p2}[a;]; helper p1}\n",
    "f 2"
   ]
  },
  {
   "cell_type": "code",
   "execution_count": null,
   "metadata": {},
   "outputs": [],
   "source": [
    "f:{[p1] a:42; helper:{[a;p2] a*p2}[a;p1]}\n",
    "f 2"
   ]
  },
  {
   "cell_type": "markdown",
   "metadata": {},
   "source": [
    "__Global variable__\n",
    "- every variable assigned outside of any function definition is a global variable\n",
    "- global variables are visible inside any function body\n",
    "- 32 is the maximum number of global variables that can be referenced inside a function\n",
    "    - to circumvent this, use lists or dictionaries (dictionaries provide pass by name)\n",
    "- you can modify or declare a global variable from inside a function\n",
    "    - `a set 42\n",
    "    - you can use ::, but it only works for declaring a global variable. if there already exists a global variable, a local variable is created. avoid this usage as it might be confusing if we accidentally choose a name that is already declared."
   ]
  },
  {
   "cell_type": "markdown",
   "metadata": {},
   "source": [
    "## 6.4. Projection"
   ]
  },
  {
   "cell_type": "markdown",
   "metadata": {},
   "source": [
    "- __Projection__: specifying only some of the parameters in function application, which results a function with the remaining parameters"
   ]
  },
  {
   "cell_type": "markdown",
   "metadata": {},
   "source": [
    "### 6.4.1. Function projection"
   ]
  },
  {
   "cell_type": "markdown",
   "metadata": {},
   "source": [
    "- projecting a function onto the remaining arguments means: when a portion of arguments in a function is fixed and the remaining ones vary, you can do that to specify only the fixed arguments and leave the specification of the varying ones for later. (like the .bind() method in js)\n",
    "- notationally, projection is a partial function application, in which some arguments are supplied (the fixed one) and others (the varying ones) are omitted\n",
    "- the result is a partial function application\n",
    "- you can assign the partial application of a function to a variable and then use it as a monadic function in case of the example\n",
    "- projection is related to _currying_\n",
    "    - Both provide realizations of the mathematical observation that __a function of two parameters is equivalent to a function of the first parameter that returns a function of the second parameter__."
   ]
  },
  {
   "cell_type": "code",
   "execution_count": null,
   "metadata": {},
   "outputs": [],
   "source": [
    "add:{x+y}\n",
    "add[42;] / partial application\n",
    "add[42;][3] / projected application\n",
    "pa:add[42;]\n",
    "pa[3]"
   ]
  },
  {
   "cell_type": "markdown",
   "metadata": {},
   "source": [
    "- projecting out successive parameters:"
   ]
  },
  {
   "cell_type": "code",
   "execution_count": null,
   "metadata": {},
   "outputs": [],
   "source": [
    "add3:{x+y+z}\n",
    "add3[2;;][3;][4] / is the same as:\n",
    "add3[2][3][4] / do not use this notation as it obscures original intent of the code\n",
    "9"
   ]
  },
  {
   "cell_type": "markdown",
   "metadata": {},
   "source": [
    "!!! __important__\n",
    "- The function body in a projection is captured at the time it is first encountered by the interpreter.\n",
    "- Thus if the underlying function is subsequently changed, __the projection is not__."
   ]
  },
  {
   "cell_type": "markdown",
   "metadata": {},
   "source": [
    "### 6.4.2. Operator projection"
   ]
  },
  {
   "cell_type": "markdown",
   "metadata": {},
   "source": [
    "- a dyadic q operator can be projected by fixing one of its operand\n",
    "    - you can do the in an infix and a prefix form\n",
    "        - infix form using parenthesis (only the left one can be fixed due to ambiguity): (7*)[6]\n",
    "        - prefix form using square brackets (either one of the operands can be fixed): *[7;][6] or *[;6][7]"
   ]
  },
  {
   "cell_type": "code",
   "execution_count": null,
   "metadata": {},
   "outputs": [],
   "source": [
    "7*6\n",
    "(7*)[6] / or (7*) 6\n",
    "mult:(7*)\n",
    "mult 6"
   ]
  },
  {
   "cell_type": "code",
   "execution_count": null,
   "metadata": {},
   "outputs": [],
   "source": [
    "*[7;6] / using the multiplication operator as a function\n",
    "*[7;][6] / multiplication operator projected onto its second operator by fixing the first one\n",
    "*[;6][7] / multiplication operator projected onto its first operator by fixing the second one"
   ]
  },
  {
   "cell_type": "markdown",
   "metadata": {},
   "source": [
    "### 6.4.3. Multiple projections"
   ]
  },
  {
   "cell_type": "markdown",
   "metadata": {},
   "source": [
    "- mutliple projections can be applied to functions having more than two parameters\n",
    "- these functions can be projected in multiple ways\n",
    "    - in one step: provide all arguments and omit only one, and project the function to its omitted parameter\n",
    "    - in multiple steps: provide the arguments to be fixed one by one in separate steps until you reach the that you want your function to be projected onto"
   ]
  },
  {
   "cell_type": "code",
   "execution_count": null,
   "metadata": {},
   "outputs": [],
   "source": [
    "{x+y+z}[1;;3]\n",
    "{x+y+z}[1;;3] 2 / project in one step"
   ]
  },
  {
   "cell_type": "code",
   "execution_count": null,
   "metadata": {},
   "outputs": [],
   "source": [
    " / project in two steps\n",
    "{x+y+z}[1;;] / first step\n",
    "{x+y+z}[1;;][;3] / second step\n",
    "{x+y+z}[1;;][;3] 2 / call the function with the varying parameter"
   ]
  },
  {
   "cell_type": "markdown",
   "metadata": {},
   "source": [
    "## 6.5. Everything is a map - the relationship between q data structures and functions"
   ]
  },
  {
   "cell_type": "markdown",
   "metadata": {},
   "source": [
    "### 6.5.1. Similarity of notation"
   ]
  },
  {
   "cell_type": "markdown",
   "metadata": {},
   "source": [
    "- a list is a map: defined by positional retreival via item indexing. In a list of non-negative integer numbers, i.e. the indices are the keys and the items are the values\n",
    "- a dictionary is a map defined by a key-value lookup\n",
    "- a function is a map defined by a sequence of expressions representing an algorithm for computing an output value from the input:\n",
    "    - in a function the output values are mapped to their input values (arguments are the key, the return value is the value)"
   ]
  },
  {
   "cell_type": "markdown",
   "metadata": {},
   "source": [
    "### 6.5.2 List of Indices, Keys and Arguments"
   ]
  },
  {
   "cell_type": "markdown",
   "metadata": {},
   "source": [
    "- that is why you can use a list of indices to get several items in a list or\n",
    "- a list of keys to get a list of values from a dictionary or\n",
    "- a list of arguments to get a list of return values from a function\n",
    "- examples:"
   ]
  },
  {
   "cell_type": "code",
   "execution_count": null,
   "metadata": {},
   "outputs": [],
   "source": [
    "L:10 20 30 40 50\n",
    "L[2 4]\n",
    "d:`a`b`c!10 20 30\n",
    "d[`a`c]\n",
    "f:{x*x}\n",
    "f[2 5]"
   ]
  },
  {
   "cell_type": "markdown",
   "metadata": {},
   "source": [
    "- parameter lists are examples of compositions of maps:"
   ]
  },
  {
   "cell_type": "code",
   "execution_count": null,
   "metadata": {},
   "outputs": [],
   "source": [
    "/\n",
    "  I     L\n",
    "--------------\n",
    "0 |-> 2 |-> 4\n",
    "1 |-> 5 |-> 25\n",
    "\n",
    "  ks     d\n",
    "---------------\n",
    "0 |-> `a |-> 10\n",
    "1 |-> `c |-> 30\n",
    "\n",
    "  I     f\n",
    "--------------\n",
    "0 |-> 2 |-> 4\n",
    "1 |-> 5 |-> 25\n",
    "\\"
   ]
  },
  {
   "cell_type": "markdown",
   "metadata": {},
   "source": [
    "### 6.5.2. Indexing at depth"
   ]
  },
  {
   "cell_type": "markdown",
   "metadata": {},
   "source": [
    "- the relationship between indexing at depth and multivalent function evaluation\n",
    "- a nested list:\n",
    "    - notationally, is a lists of lists: nested_list[0][4][2]\n",
    "    - functionally, can be viewd as a multivariate positional retreival: nested_list[0;4;2]\n",
    "- a dictionary with complex values can also be viewed:\n",
    "    - notationally: complex_dict[\"some_key\"][\"some_other_key\"]\n",
    "    - functionally as a multivaruate map: complex_dict[\"some_key\";\"some_other_key\"]"
   ]
  },
  {
   "cell_type": "markdown",
   "metadata": {},
   "source": [
    "### 6.5.3. Projection and index elision"
   ]
  },
  {
   "cell_type": "markdown",
   "metadata": {},
   "source": [
    "- the notation for function projection and elided indices in a list are identical\n",
    "- in a nested list (or a complex dictionary) the first index is go down (choosing from the row indices) and the second one is go over (choosing from the column indices)\n",
    "    - ordinary positional retreival: if we omit the first index (the row index), we get all the elements in the specified column"
   ]
  },
  {
   "cell_type": "markdown",
   "metadata": {},
   "source": [
    "### 6.5.4. Out of bounds index"
   ]
  },
  {
   "cell_type": "markdown",
   "metadata": {},
   "source": [
    "- the behaviour of item indexing in case of out of bounds indices is also motivated by viewing lists as maps\n",
    "- in traditional languages out of bound indexing results in an error or an exception:\n",
    "    - in Python: IndexError\n",
    "    - in Java: ArrayIndexOutOfBoundsException (for arrays) or IndexOutOfBoundsException (for lists)\n",
    "- in q, a list is viewed as a map defined on a sub-domain of integers\n",
    "    - but the domain of the (indexing?) function is extended to all integers by assigning null output values outside the defined domain, where null values mean missing values\n",
    "- the behavior of dictionaries are completely analogous"
   ]
  },
  {
   "cell_type": "markdown",
   "metadata": {},
   "source": [
    "## 6.6. Atomic functions"
   ]
  },
  {
   "cell_type": "markdown",
   "metadata": {},
   "source": [
    "- q is a vector language\n",
    "- this partially comes from the fact that all built-in operations are atomic:\n",
    "    - atomic functions recurse into an arguments structure until it gets to atoms and apply there\n",
    "    - atomic functions do not use loops or other contol flow constructs"
   ]
  },
  {
   "cell_type": "markdown",
   "metadata": {},
   "source": [
    "### 6.6.1. Monadic atomic functions and \"map\""
   ]
  },
  {
   "cell_type": "markdown",
   "metadata": {},
   "source": [
    "- the output conforms to the input: the result of the application of a monadic atomic function always has the same shape as its argument\n",
    "- when applying an atomic function to a list is the same as applying it to all of its elements\n",
    "    - in traditional languages this is achieved with foreach or\n",
    "    - in functional languages with the map() function"
   ]
  },
  {
   "cell_type": "markdown",
   "metadata": {},
   "source": [
    "### 6.6.2. Dyadic atomic functions and \"zip\""
   ]
  },
  {
   "cell_type": "markdown",
   "metadata": {},
   "source": [
    "- a dyadic function can be atomic in either one or both of its arguments\n",
    "    - atomic in one argument: fix the non-atomic argument, project on the atomic one. this can be thought of as a monadic atomic function\n",
    "    - example: the find function (?) is atomic only its second argument, since it consumes the entire first argument in its search\n",
    "        - (x?y means search for item y in list x and return the index of the item)"
   ]
  },
  {
   "cell_type": "code",
   "execution_count": null,
   "metadata": {},
   "outputs": [],
   "source": [
    "10 20 30 10?10"
   ]
  },
  {
   "cell_type": "markdown",
   "metadata": {},
   "source": [
    "- the arithmetic, comparison and relation operators are all atomic in both of their operands, which results in 4 cases of application:\n",
    "    - atom with atom\n",
    "    - atom with list\n",
    "    - list with atom (same as atom with list?)\n",
    "    - list with list (only works with lists of the same length)\n",
    "- in traditional programming, \"zip\" results in similar behavior (zip() function in Python)"
   ]
  },
  {
   "cell_type": "code",
   "execution_count": null,
   "metadata": {},
   "outputs": [],
   "source": [
    "list1:1 2 3 4 5\n",
    "list2:10 20 30 40 50\n",
    "int1:1\n",
    "int2:2"
   ]
  },
  {
   "cell_type": "code",
   "execution_count": null,
   "metadata": {},
   "outputs": [],
   "source": [
    "int1+int2\n",
    "int1+list1\n",
    "list1+int1\n",
    "list1+list2"
   ]
  },
  {
   "cell_type": "markdown",
   "metadata": {},
   "source": [
    "### 6.6.3. Creating atomic functions"
   ]
  },
  {
   "cell_type": "markdown",
   "metadata": {},
   "source": [
    "- The composition of atomic functions is atomic. Hence,\n",
    "    - one way to build custom atomic functions is to __compose built-in atomic functions__. First monadic.\n",
    "    - (another way is to create advers???)"
   ]
  },
  {
   "cell_type": "markdown",
   "metadata": {},
   "source": [
    "## 6.7. Adverbs"
   ]
  },
  {
   "cell_type": "markdown",
   "metadata": {},
   "source": [
    "- Adverbs are higher-order functions that modify the behavior of functions (operators) for application on lists.\n",
    "    - The terminology derives from thinking of q operators as verbs.\n",
    "- Use case: __adverbs are used to apply non-atomic functions on lists without loops__\n",
    "- Proficiency in the use of adverbs is one skill that separates q pretenders from q contenders."
   ]
  },
  {
   "cell_type": "markdown",
   "metadata": {},
   "source": [
    "### 6.7.1. Monadic each"
   ]
  },
  {
   "cell_type": "markdown",
   "metadata": {},
   "source": [
    "- examples for non-atomic functions:\n",
    "    - aggregate functions: count, sum, min, max, avg\n",
    "        - and their atomic counterparts: count each, sums, mins, maxs, avgs\n",
    "    - other non-atomic functions: reverse, enlist\n",
    "- each is a general higher order function, which can be used as map() functions in functional languages:\n",
    "    - reverse each a_list\n",
    "    - enlist each a_list: creates a matrix from a list where each item becomes a singleton list in the matrix\n",
    "        - flip enlist a_list does the same only faster"
   ]
  },
  {
   "cell_type": "code",
   "execution_count": null,
   "metadata": {},
   "outputs": [],
   "source": [
    "show nlist:(1 2 3 4;10 20)\n",
    "show nnlist:((101;102;(103;104));nlist)"
   ]
  },
  {
   "cell_type": "code",
   "execution_count": null,
   "metadata": {},
   "outputs": [],
   "source": [
    "count each nlist\n",
    "each[count;nlist] / this reveals how each is similar to map() functions in functional languages"
   ]
  },
  {
   "cell_type": "code",
   "execution_count": null,
   "metadata": {},
   "outputs": [],
   "source": [
    "count nnlist\n",
    "count each nnlist\n",
    "(count each) each nnlist"
   ]
  },
  {
   "cell_type": "code",
   "execution_count": null,
   "metadata": {},
   "outputs": [],
   "source": [
    "freq:(1;4;12;32;36;10;3;2)\n",
    "sums(freq)"
   ]
  },
  {
   "cell_type": "code",
   "execution_count": null,
   "metadata": {},
   "outputs": [],
   "source": [
    "freq2:(5;23;44;113;134;40;25;2)\n",
    "freq2\n",
    "100 * sums(freq2) % (sum freq2)\n",
    "(`int$10000 * sums(freq2) % (sum freq2)) % 100"
   ]
  },
  {
   "cell_type": "markdown",
   "metadata": {},
   "source": [
    "### 6.7.2. Each both __'__"
   ]
  },
  {
   "cell_type": "markdown",
   "metadata": {},
   "source": [
    "- the dyadic each-both modifies a dyadic function (operator, verb) to apply pair-wise to corresponding items in the lists\n",
    "- functions modified by the each both modifier has the same properties as dyadic atomic functions\n",
    "    - throws a length error if the two arguments do not line up, but\n",
    "    - extends an atom to match a list\n",
    "    - however, it does not always work as expected on general lists\n",
    "        - to make a list of pairs from a pair of lists: flip (L1;L2)\n",
    "- applying each both on tables (with the same number of records), results a sideways join: the joined table will contain columns from both tables and will have the same number of rows"
   ]
  },
  {
   "cell_type": "code",
   "execution_count": null,
   "metadata": {},
   "outputs": [],
   "source": [
    "strl1:(\"abc\"; \"uv\")\n",
    "strl2:(\"de\"; \"xyz\")"
   ]
  },
  {
   "cell_type": "code",
   "execution_count": null,
   "metadata": {},
   "outputs": [],
   "source": [
    "strl1,strl2"
   ]
  },
  {
   "cell_type": "code",
   "execution_count": null,
   "metadata": {},
   "outputs": [],
   "source": [
    "strl1,'strl2"
   ]
  },
  {
   "cell_type": "code",
   "execution_count": null,
   "metadata": {},
   "outputs": [],
   "source": [
    ",'[strl1;strl2] / in a functional form"
   ]
  },
  {
   "cell_type": "code",
   "execution_count": null,
   "metadata": {},
   "outputs": [],
   "source": [
    "2#(\"abcde\"; \"fgh\"; \"ijklm\")\n",
    "2#'(\"abcde\"; \"fgh\"; \"ijklm\")"
   ]
  },
  {
   "cell_type": "code",
   "execution_count": null,
   "metadata": {},
   "outputs": [],
   "source": [
    "show L1:(enlist `a; `b)\n",
    "L2:1 2\n",
    "newL:L1,'L2\n",
    "newL"
   ]
  },
  {
   "cell_type": "code",
   "execution_count": null,
   "metadata": {},
   "outputs": [],
   "source": [
    "flip (L1;L2)\n",
    "type flip (L1;L2)"
   ]
  },
  {
   "cell_type": "markdown",
   "metadata": {},
   "source": [
    "### 6.7.3. Each left \\\\:"
   ]
  },
  {
   "cell_type": "markdown",
   "metadata": {},
   "source": [
    "- The each left adverb modifies a dyadic funcition so that it applies the second argument with each item of the first argument"
   ]
  },
  {
   "cell_type": "code",
   "execution_count": null,
   "metadata": {},
   "outputs": [],
   "source": [
    "somestr:(\"abc\"; \"de\"; \"f\")"
   ]
  },
  {
   "cell_type": "code",
   "execution_count": null,
   "metadata": {},
   "outputs": [],
   "source": [
    "somestr ,\\: \">\" / the left operand is always considered to be an atom even if it is a list"
   ]
  },
  {
   "cell_type": "code",
   "execution_count": null,
   "metadata": {},
   "outputs": [],
   "source": [
    "somestr,' \" />\" / the second argument is taken as a list based on its type"
   ]
  },
  {
   "cell_type": "markdown",
   "metadata": {},
   "source": [
    "### 6.7.4. Each right /:"
   ]
  },
  {
   "cell_type": "markdown",
   "metadata": {},
   "source": [
    "- The each right adverb modifies a dyadic function so that to apply the first argument with each item of the second argument"
   ]
  },
  {
   "cell_type": "code",
   "execution_count": null,
   "metadata": {},
   "outputs": [],
   "source": [
    "\"<\",/:somestr"
   ]
  },
  {
   "cell_type": "code",
   "execution_count": null,
   "metadata": {},
   "outputs": [],
   "source": [
    "\"<\",'somestr"
   ]
  },
  {
   "cell_type": "markdown",
   "metadata": {},
   "source": [
    "- combining the each right and each both"
   ]
  },
  {
   "cell_type": "code",
   "execution_count": null,
   "metadata": {},
   "outputs": [],
   "source": [
    "\"<\",/:somestr,\\:\" />\""
   ]
  },
  {
   "cell_type": "markdown",
   "metadata": {},
   "source": [
    "### 6.7.5. Cross product"
   ]
  },
  {
   "cell_type": "markdown",
   "metadata": {},
   "source": [
    "- A cross product of two lists pairs each item on the left with each item on the right\n",
    "    - it is an adverb of join composed with each left and each right (then razed to remove a level of nesting)\n",
    "    - notation: cross, which can be written as raze list1,/:\\:list2"
   ]
  },
  {
   "cell_type": "code",
   "execution_count": null,
   "metadata": {},
   "outputs": [],
   "source": [
    "pre_cross:1 2 3,/:\\:10 20"
   ]
  },
  {
   "cell_type": "code",
   "execution_count": null,
   "metadata": {},
   "outputs": [],
   "source": [
    "pre_cross"
   ]
  },
  {
   "cell_type": "code",
   "execution_count": null,
   "metadata": {},
   "outputs": [],
   "source": [
    "((count each) each) each pre_cross"
   ]
  },
  {
   "cell_type": "code",
   "execution_count": null,
   "metadata": {},
   "outputs": [],
   "source": [
    "pre_cross[0;0;0]"
   ]
  },
  {
   "cell_type": "code",
   "execution_count": null,
   "metadata": {},
   "outputs": [],
   "source": [
    "cross_pr:raze 1 2 3,/:\\:10 20"
   ]
  },
  {
   "cell_type": "code",
   "execution_count": null,
   "metadata": {},
   "outputs": [],
   "source": [
    "cross_pr"
   ]
  },
  {
   "cell_type": "code",
   "execution_count": null,
   "metadata": {},
   "outputs": [],
   "source": [
    "cross_pr[0]"
   ]
  },
  {
   "cell_type": "markdown",
   "metadata": {},
   "source": [
    "### 6.7.6 Over (/) for accumulation"
   ]
  },
  {
   "cell_type": "markdown",
   "metadata": {},
   "source": [
    "- In functional programming languages, over is also called _fold_ or _reduce_\n",
    "    - this is the other half of the _map-reduce_ paradigm (each-over)\n",
    "- The over adverb is a higher-order function that provides the principal mechanism for recursion in q\n",
    "- The over adverb, in its simplest form, modifies a dyadic function to accumulate results over a list"
   ]
  },
  {
   "cell_type": "code",
   "execution_count": null,
   "metadata": {},
   "outputs": [],
   "source": [
    "0 +/ til 11"
   ]
  },
  {
   "cell_type": "code",
   "execution_count": null,
   "metadata": {},
   "outputs": [],
   "source": [
    "imp_sum:{[x;y] 0N!(x;y); x+y} / the + operator expressed in an imperative way"
   ]
  },
  {
   "cell_type": "code",
   "execution_count": null,
   "metadata": {},
   "outputs": [],
   "source": [
    "imp_sum[2;3]"
   ]
  },
  {
   "cell_type": "code",
   "execution_count": null,
   "metadata": {},
   "outputs": [],
   "source": [
    "0 imp_sum/til 11"
   ]
  },
  {
   "cell_type": "markdown",
   "metadata": {},
   "source": [
    "- To omit the unnecessary initial value, put the adverb in a paranthesis and make it a monadic function:\n",
    "    - for summing the items in a list: (+/) this is an adverb in k programming languages\n",
    "    - in q (+/) is equal to __sum__\n",
    "    - (|/): maximum\n",
    "    - (&/): minimum\n",
    "    - (*/): prd"
   ]
  },
  {
   "cell_type": "code",
   "execution_count": null,
   "metadata": {},
   "outputs": [],
   "source": [
    "(+/) til 11 / same as above only in a monadic form"
   ]
  },
  {
   "cell_type": "code",
   "execution_count": null,
   "metadata": {},
   "outputs": [],
   "source": [
    "L1:1 2 3 4 5 77\n",
    "L2: 54 32 64 11 14"
   ]
  },
  {
   "cell_type": "code",
   "execution_count": null,
   "metadata": {},
   "outputs": [],
   "source": [
    "max[L1,L2]"
   ]
  },
  {
   "cell_type": "code",
   "execution_count": null,
   "metadata": {},
   "outputs": [],
   "source": [
    "max[L1]|max[L2]"
   ]
  },
  {
   "cell_type": "markdown",
   "metadata": {},
   "source": [
    "- ,/ (join over) applied over a list concatenates the items eliminating the top level of nesting"
   ]
  },
  {
   "cell_type": "code",
   "execution_count": null,
   "metadata": {},
   "outputs": [],
   "source": [
    "(,/)((1 2 3; 4 5); (100 200; 300 400 500))\n",
    "raze ((1 2 3; 4 5); (100 200; 300 400 500))"
   ]
  },
  {
   "cell_type": "markdown",
   "metadata": {},
   "source": [
    "- custum functions can be used with over to make them atomic?\n",
    "    - they can be used infix too"
   ]
  },
  {
   "cell_type": "markdown",
   "metadata": {},
   "source": [
    "### 6.7.7. Iteration"
   ]
  },
  {
   "cell_type": "markdown",
   "metadata": {},
   "source": [
    "- Another pattern of recursion without loops:\n",
    "    - number of iterations function/ arguments to the function"
   ]
  },
  {
   "cell_type": "code",
   "execution_count": null,
   "metadata": {},
   "outputs": [],
   "source": [
    "fib_elem:{x,sum -2#x}"
   ]
  },
  {
   "cell_type": "code",
   "execution_count": null,
   "metadata": {},
   "outputs": [],
   "source": [
    "fib_elem 1 1"
   ]
  },
  {
   "cell_type": "code",
   "execution_count": null,
   "metadata": {},
   "outputs": [],
   "source": [
    "10 fib_elem/1 1 / infix\n",
    "fib_elem/[10, 1 1] / in a prefix form"
   ]
  },
  {
   "cell_type": "markdown",
   "metadata": {},
   "source": [
    "- Yet another version of over runs the recursion until convergence, or until a loop is detected.\n",
    "- How does q determine convergence?\n",
    "    - At each step the result is compared to that of the previous step.\n",
    "    - If the two agree within equality tolerance (10-14 at the time of this writing – Sep 2015) the algorithm is considered to have converged and the recursion is complete; otherwise it continues.\n",
    "- How did q detect the cycle and stop the iteration?\n",
    "    - At each step it compares the result with the initial value.\n",
    "    - If they match, a cycle has occurred and the recursion is halted; otherwise it continues.\n",
    "        - Note that we mean \"match\" literally as in the ~ operator."
   ]
  },
  {
   "cell_type": "markdown",
   "metadata": {},
   "source": [
    "__While loop__\n",
    "- the final overload of the over adverb is the equivalent of the while loop\n",
    "- It provides a declarative way to specify a test to end the iteration.\n",
    "- Thinking functionally, we provide a predicate function that is applied to the result at each step. The iteration continues as long as the predicate result is 1b and stops otherwise. For example, we stop the computation of the Fibonacci sequence once it exceeds 1000 as follows."
   ]
  },
  {
   "cell_type": "code",
   "execution_count": null,
   "metadata": {},
   "outputs": [],
   "source": [
    "fib:{x,sum -2#x}\n",
    "fib/[{1000>last x}; 1 1]"
   ]
  },
  {
   "cell_type": "markdown",
   "metadata": {},
   "source": [
    "### 6.7.8 Scan \\\\"
   ]
  },
  {
   "cell_type": "markdown",
   "metadata": {},
   "source": [
    "- The scan adverb is a higher-order function that behaves just like over except it returns all the intermediate accumulations instead of just the final one\n",
    "    - Scan returns an output that has the same number of items as its input"
   ]
  },
  {
   "cell_type": "code",
   "execution_count": null,
   "metadata": {},
   "outputs": [],
   "source": [
    "f:{-2+x*x}"
   ]
  },
  {
   "cell_type": "code",
   "execution_count": null,
   "metadata": {},
   "outputs": [],
   "source": [
    "0+\\1 2 3 4 5 6 7 8 9 10\n",
    "(*\\)1 2 3 4 5 6 7 8 9 10\n",
    "(|\\)7 8 4 3 10 2 1 9 5 6\n",
    "(&\\)7 8 4 3 10 2 1 9 5 6\n",
    "10 f\\1 2 3 4 5 6 7 8 9 10\n",
    "(f\\)1 2 3 4 5 6 7 8 9 10"
   ]
  },
  {
   "cell_type": "markdown",
   "metadata": {},
   "source": [
    "### 6.7.9. Each previous (':)"
   ]
  },
  {
   "cell_type": "markdown",
   "metadata": {},
   "source": [
    "- the adverb each previous provides a declarative way to provide a dyadic operation on each item of a list with its predecessor\n",
    "- in a dyadic form, the left operand is the initializer value:"
   ]
  },
  {
   "cell_type": "code",
   "execution_count": null,
   "metadata": {},
   "outputs": [],
   "source": [
    "5 -':5 4 3 2 1"
   ]
  },
  {
   "cell_type": "markdown",
   "metadata": {},
   "source": [
    "- in a monadic form, there is no initializer value, it returns the first element unaltered:"
   ]
  },
  {
   "cell_type": "code",
   "execution_count": null,
   "metadata": {},
   "outputs": [],
   "source": [
    "(-':)9 8 7 6 5 4"
   ]
  },
  {
   "cell_type": "code",
   "execution_count": null,
   "metadata": {},
   "outputs": [],
   "source": [
    "deltas 9 8 7 6 5 4"
   ]
  },
  {
   "cell_type": "markdown",
   "metadata": {},
   "source": [
    "### SUMMARY"
   ]
  },
  {
   "cell_type": "markdown",
   "metadata": {},
   "source": [
    "- each\n",
    "- each both ('):\n",
    "    - joint: (,')\n",
    "- each left (\\:)\n",
    "- each right (/:)\n",
    "- over (/)\n",
    "    - (+/) sum\n",
    "- scan (\\)\n",
    "    - (+\\) sums\n",
    "- each previous (':)\n",
    "    - (-':) deltas\n",
    "    - (~':) differ"
   ]
  },
  {
   "cell_type": "code",
   "execution_count": null,
   "metadata": {},
   "outputs": [],
   "source": [
    "(~':) 1 1 1 2 2 3 4 5 5 5 6 6\n",
    "not (~':) 1 1 1 2 2 3 4 5 5 5 6 6\n",
    "differ 1 1 1 2 2 3 4 5 5 5 6 6"
   ]
  },
  {
   "cell_type": "markdown",
   "metadata": {},
   "source": [
    "- An idiom with differ: to cut a list along its identical values"
   ]
  },
  {
   "cell_type": "code",
   "execution_count": null,
   "metadata": {},
   "outputs": [],
   "source": [
    "L:1 1 1 2 2 3 4 5 5 5 6 6\n",
    "differ L / list of booleans where item differs from previous one\n",
    "where differ L / indices of elements which are different from their predecessors\n",
    "(where differ L) cut L / cut original list where different items start"
   ]
  },
  {
   "cell_type": "code",
   "execution_count": null,
   "metadata": {},
   "outputs": [],
   "source": [
    "show runs:(where differ L) cut L / store runs\n",
    "show ct:count each runs / store count of each run\n",
    "runs where ct=max ct / find the runs of maximum length"
   ]
  },
  {
   "cell_type": "markdown",
   "metadata": {},
   "source": [
    "- find runs of increasing or decreasing integer values"
   ]
  },
  {
   "cell_type": "code",
   "execution_count": null,
   "metadata": {},
   "outputs": [],
   "source": [
    "L:9 8 7 11 10 12 13\n",
    "(where -0W>':L) cut L\n",
    "(where 0W<':L) cut L"
   ]
  },
  {
   "cell_type": "markdown",
   "metadata": {},
   "source": [
    "## 6.8. General application (of functions)"
   ]
  },
  {
   "cell_type": "markdown",
   "metadata": {},
   "source": [
    "- The syntacic forms, square brackets and juxtaposition (used with list indexing, key lookup and function application) are both syntactic sugars\n",
    "- __q actually treats function application as a higher-order function that takes a function and value(s) and evaluates the function at the values__\n",
    "- the simpler forms of general application are usually written infix and considered to be verbs"
   ]
  },
  {
   "cell_type": "code",
   "execution_count": null,
   "metadata": {},
   "outputs": [],
   "source": [
    "fsq:{x*x}"
   ]
  },
  {
   "cell_type": "code",
   "execution_count": null,
   "metadata": {},
   "outputs": [],
   "source": [
    "fsq[2 4]"
   ]
  },
  {
   "cell_type": "markdown",
   "metadata": {},
   "source": [
    "### 6.8.1. The @ verb"
   ]
  },
  {
   "cell_type": "markdown",
   "metadata": {},
   "source": [
    "- univalent mathematical mapping:\n",
    "    - in case of lists: retreive a list item by index\n",
    "    - dictionaries: looking up a value by a key\n",
    "    - functions: evaluating a monadic function\n",
    "        - @ applies a monadic mapping to an argument\n",
    "- both infix and prefix notation is acceptable\n",
    "- applying a niladic function with @:\n",
    "    - niladic@(::)\n",
    "    - @[niladic;::]"
   ]
  },
  {
   "cell_type": "code",
   "execution_count": null,
   "metadata": {},
   "outputs": [],
   "source": [
    "GL: 10 20 30 40 50"
   ]
  },
  {
   "cell_type": "code",
   "execution_count": null,
   "metadata": {},
   "outputs": [],
   "source": [
    "GL@1"
   ]
  },
  {
   "cell_type": "code",
   "execution_count": null,
   "metadata": {},
   "outputs": [],
   "source": [
    "@[GL;3]"
   ]
  },
  {
   "cell_type": "code",
   "execution_count": null,
   "metadata": {},
   "outputs": [],
   "source": [
    "gd:`a`b`c!11 22 33"
   ]
  },
  {
   "cell_type": "code",
   "execution_count": null,
   "metadata": {},
   "outputs": [],
   "source": [
    "gd@`b"
   ]
  },
  {
   "cell_type": "code",
   "execution_count": null,
   "metadata": {},
   "outputs": [],
   "source": [
    "@[gd;`a]"
   ]
  },
  {
   "cell_type": "code",
   "execution_count": null,
   "metadata": {},
   "outputs": [],
   "source": [
    "gf:{x*x}"
   ]
  },
  {
   "cell_type": "code",
   "execution_count": null,
   "metadata": {},
   "outputs": [],
   "source": [
    "gf@3"
   ]
  },
  {
   "cell_type": "code",
   "execution_count": null,
   "metadata": {},
   "outputs": [],
   "source": [
    "@[gf;6]"
   ]
  },
  {
   "cell_type": "markdown",
   "metadata": {},
   "source": [
    "- general application with a non-atomic argument\n",
    "    - for lists, dictionaries and atomic functions, @ yields an output that conforms to the shape of the input\n",
    "    - an aggregate function collapses the top level of nesting from the input\n",
    "    - a uniform function has the same length of output as the input list"
   ]
  },
  {
   "cell_type": "code",
   "execution_count": null,
   "metadata": {},
   "outputs": [],
   "source": [
    "t:([]c1:1 2 3; c2:`a`b`c)\n",
    "t@1\n",
    "d:`a`b`c!10 20 30\n",
    "d@`b\n",
    "kt:([k:`a`b`c] v:1.1 2.2 3.3)\n",
    "kt@`c"
   ]
  },
  {
   "cell_type": "markdown",
   "metadata": {},
   "source": [
    "6.8.2. Verb Dot ."
   ]
  },
  {
   "cell_type": "markdown",
   "metadata": {},
   "source": [
    "- Indexing a list at depth, retrieving a nested value from a dictionary and evaluating a function with multiple parameters are all instances of applying a __multi-variate mapping__.\n",
    "- The higher-order function . is the true form of multi-variate application in q.\n",
    "- It applies a multi-variate mapping to multiple arguments and can be written infix or prefix."
   ]
  },
  {
   "cell_type": "code",
   "execution_count": null,
   "metadata": {},
   "outputs": [],
   "source": [
    "gln:((2 3 4);(6 7 9))"
   ]
  },
  {
   "cell_type": "code",
   "execution_count": null,
   "metadata": {},
   "outputs": [],
   "source": [
    "gln[0][1]"
   ]
  },
  {
   "cell_type": "code",
   "execution_count": null,
   "metadata": {},
   "outputs": [],
   "source": [
    "gln[0;1]"
   ]
  },
  {
   "cell_type": "code",
   "execution_count": null,
   "metadata": {},
   "outputs": [],
   "source": [
    "gln . 0 1"
   ]
  },
  {
   "cell_type": "code",
   "execution_count": null,
   "metadata": {},
   "outputs": [],
   "source": [
    "gcd:`a`b`c!(10 20 30; 40 50; enlist 60)"
   ]
  },
  {
   "cell_type": "code",
   "execution_count": null,
   "metadata": {},
   "outputs": [],
   "source": [
    "gcd . (`c;0)"
   ]
  },
  {
   "cell_type": "code",
   "execution_count": null,
   "metadata": {},
   "outputs": [],
   "source": [
    "gmvf:{x*y}"
   ]
  },
  {
   "cell_type": "markdown",
   "metadata": {},
   "source": [
    "- the dot verb allows us to apply a multi-variate function to a list of arguments instead of multiple individual arguments\n",
    "    - this means that the function is defined on a vector instead of its indivudial components\n",
    "    - use case: dynamic dispatch: where we cannot know the valence of the function in advance\n",
    "        - similar to *args in Python and ... in Java\n",
    "- you can apply a monadic function with the dot verb, only you have to enlist its only argument to be a singleton vector\n",
    "    - thus, the dot verb makes the @ verb redundant in q"
   ]
  },
  {
   "cell_type": "code",
   "execution_count": null,
   "metadata": {},
   "outputs": [],
   "source": [
    "gmvf . 33 22"
   ]
  },
  {
   "cell_type": "markdown",
   "metadata": {},
   "source": [
    "- to denote an elided index with ., use nil instead of empty index"
   ]
  },
  {
   "cell_type": "code",
   "execution_count": null,
   "metadata": {},
   "outputs": [],
   "source": [
    "gln . (::;1)"
   ]
  },
  {
   "cell_type": "code",
   "execution_count": null,
   "metadata": {},
   "outputs": [],
   "source": [
    "GL . enlist 0"
   ]
  },
  {
   "cell_type": "code",
   "execution_count": null,
   "metadata": {},
   "outputs": [],
   "source": [
    "t:([]c1:1 2 3;c2:`a`b`c)\n",
    "t . (1; `c2)"
   ]
  },
  {
   "cell_type": "code",
   "execution_count": null,
   "metadata": {},
   "outputs": [],
   "source": [
    "kt:([k:`a`b`c] v:1.1 2.2 3.3)\n",
    "kt . `b`v"
   ]
  },
  {
   "cell_type": "code",
   "execution_count": null,
   "metadata": {},
   "outputs": [],
   "source": [
    "kt"
   ]
  },
  {
   "cell_type": "markdown",
   "metadata": {},
   "source": [
    "- indexing at depth with a table with nested field values"
   ]
  },
  {
   "cell_type": "code",
   "execution_count": null,
   "metadata": {},
   "outputs": [],
   "source": [
    "t:([] c1:`a`b`c; c2:(1 2; 100 200 400; enlist 1000))\n",
    "t . (1; `c2)\n",
    "t . (1; `c2; 1)"
   ]
  },
  {
   "cell_type": "markdown",
   "metadata": {},
   "source": [
    "### 6.8.3. General form of verb application"
   ]
  },
  {
   "cell_type": "markdown",
   "metadata": {},
   "source": [
    "- dot and @ verbs written in prefix form:"
   ]
  },
  {
   "cell_type": "code",
   "execution_count": null,
   "metadata": {},
   "outputs": [],
   "source": [
    "L:10 20 30 40 50\n",
    "@[L; 1]\n",
    "@[L; 0 2]\n",
    "m:(10 20 30; 100 200 300)\n",
    ".[m;0 2] / note the lack of semi-colons between the two indices"
   ]
  },
  {
   "cell_type": "markdown",
   "metadata": {},
   "source": [
    "### 6.8.4. General apply (@) with monadic functions"
   ]
  },
  {
   "cell_type": "markdown",
   "metadata": {},
   "source": [
    "- general apply: applies a function on the sub-domain of the data structure\n",
    "- notation: @[data_structure;indices;function_to_apply]\n",
    "- this allows the result to be chained into further operations\n",
    "- general application of @ accurs along a sub-domain at the top-level (HOW TO REACH DOWN?)"
   ]
  },
  {
   "cell_type": "markdown",
   "metadata": {},
   "source": [
    "- The syntax for general application of a monadic atomic function on a list is,\n",
    "    - @[L;I;f]\n",
    "    - where L is the list and I is a collection of indices into L and f is the function to apply on I sub-domain of L.\n",
    "- Viewing L as a mapping, I is a top-level sub-domain of L. In fact, this form generalizes to any data structure viewed as a mapping. "
   ]
  },
  {
   "cell_type": "code",
   "execution_count": null,
   "metadata": {},
   "outputs": [],
   "source": [
    "L:10 20 30 40 50"
   ]
  },
  {
   "cell_type": "code",
   "execution_count": null,
   "metadata": {},
   "outputs": [],
   "source": [
    "@[L;2 4;neg] / general application returns the entire input data structure with the specified item changed"
   ]
  },
  {
   "cell_type": "code",
   "execution_count": null,
   "metadata": {},
   "outputs": [],
   "source": [
    "neg L@2 / normal applicaton only returns the selected item"
   ]
  },
  {
   "cell_type": "markdown",
   "metadata": {},
   "source": [
    "- to modify the original data structure in-place, use pass-by-name"
   ]
  },
  {
   "cell_type": "code",
   "execution_count": null,
   "metadata": {},
   "outputs": [],
   "source": [
    "L"
   ]
  },
  {
   "cell_type": "code",
   "execution_count": null,
   "metadata": {},
   "outputs": [],
   "source": [
    "@[`L;2;neg]"
   ]
  },
  {
   "cell_type": "code",
   "execution_count": null,
   "metadata": {},
   "outputs": [],
   "source": [
    "L"
   ]
  },
  {
   "cell_type": "markdown",
   "metadata": {},
   "source": [
    "### 6.8.5. General apply (@) dyadic functions"
   ]
  },
  {
   "cell_type": "markdown",
   "metadata": {},
   "source": [
    "- the shape of the supplied operand must conform to the specified sub-domain of the input data"
   ]
  },
  {
   "cell_type": "markdown",
   "metadata": {},
   "source": [
    "- The general form of functional @ for a dyadic atomic function is:\n",
    "    - @[L; I; g; v]\n",
    "    - where I is a top-level sub-domain of L; g is a dyadic function; and v is an atom or list conforming to I.\n",
    "- example use case: assigning multiple values to multiple items in a list\n",
    "- in-place modification works the same as with the genral apply on monadic functions"
   ]
  },
  {
   "cell_type": "code",
   "execution_count": null,
   "metadata": {},
   "outputs": [],
   "source": [
    "@[L;1 4;+; 100 200]"
   ]
  },
  {
   "cell_type": "markdown",
   "metadata": {},
   "source": [
    "### 6.8.6. General apply (.) for monadic functions"
   ]
  },
  {
   "cell_type": "markdown",
   "metadata": {},
   "source": [
    "- In contrast with @, the vector argument of . reaches down into the data structure and picks out a single point in the domain. Here we target that point with a monadic function.\n",
    "- The general form of . for monadic functions is:\n",
    "    - .[L; I; f]\n",
    "    - Here L is a data structure, I is an in-depth sub-domain of L and f is a monadic atomic function."
   ]
  },
  {
   "cell_type": "code",
   "execution_count": null,
   "metadata": {},
   "outputs": [],
   "source": [
    "m:(10 20 30; 100 200 300)\n",
    ".[m;(0;1)]\n",
    ".[m;(0;::)] / using nil, we apply the function on all items at that level\n",
    ".[m;(0;::);neg]\n",
    "d:`a`b`c!(10 20 30; 40 50; enlist 60)\n",
    ".[d; (`a; 1)]"
   ]
  },
  {
   "cell_type": "markdown",
   "metadata": {},
   "source": [
    "### 6.8.7. General apply (.) for dyadic functions"
   ]
  },
  {
   "cell_type": "code",
   "execution_count": 93,
   "metadata": {},
   "outputs": [
    {
     "name": "stdout",
     "output_type": "stream",
     "text": [
      "10 20 30 40\n",
      "100 200 300 400 500\n"
     ]
    }
   ],
   "source": [
    "show mm:(10 20 30 40;100 200 300 400 500)"
   ]
  },
  {
   "cell_type": "code",
   "execution_count": 95,
   "metadata": {},
   "outputs": [
    {
     "data": {
      "text/plain": [
       "10 20 30 40\n",
       "101 202 303 404 505\n"
      ]
     },
     "execution_count": 95,
     "metadata": {},
     "output_type": "execute_result"
    }
   ],
   "source": [
    ".[mm;(1;::);+;1 2 3 4 5]"
   ]
  }
 ],
 "metadata": {
  "kernelspec": {
   "display_name": "Q (kdb+)",
   "language": "q",
   "name": "qpk"
  },
  "language_info": {
   "file_extension": ".q",
   "mimetype": "text/x-q",
   "name": "q",
   "version": "3.6.0"
  }
 },
 "nbformat": 4,
 "nbformat_minor": 2
}
