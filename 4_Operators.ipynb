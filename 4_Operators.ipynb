{
 "cells": [
  {
   "cell_type": "markdown",
   "metadata": {},
   "source": [
    "# 4. Operators"
   ]
  },
  {
   "cell_type": "markdown",
   "metadata": {},
   "source": [
    "- Operators are_\n",
    "    - also called verbs in q\n",
    "    - are built-in functions\n",
    "    - can beused with in-fix or prefix notation\n",
    "    - can have purely symbolic names\n",
    "    - atomic functions act recursively on data structures"
   ]
  },
  {
   "cell_type": "markdown",
   "metadata": {},
   "source": [
    "### 4.0.2 Primitives, verbs and functional notation"
   ]
  },
  {
   "cell_type": "markdown",
   "metadata": {},
   "source": [
    "- Primitive operators: basic arithmetic, relation and comparison operators\n",
    "    - they can have names: simple ASCII symbol, compound operator, names"
   ]
  },
  {
   "cell_type": "markdown",
   "metadata": {},
   "source": [
    "- Extension of atomic functions to items in a list"
   ]
  },
  {
   "cell_type": "markdown",
   "metadata": {},
   "source": [
    "## 4.1. Operator precedence"
   ]
  },
  {
   "cell_type": "markdown",
   "metadata": {},
   "source": [
    "- q has no rule for operator precedence\n",
    "- q expressions are evaluated from left of right (right to left)\n",
    "    - -> no ambibuity from the compiler's perspective\n",
    "- having no operator precedence renders analyzing all components of an expression before evaluation moot"
   ]
  },
  {
   "cell_type": "markdown",
   "metadata": {},
   "source": [
    "## 4.2. Match ~"
   ]
  },
  {
   "cell_type": "markdown",
   "metadata": {},
   "source": [
    "- ~ is the identity evaluator operator\n",
    "- if two q entities are identical (x ~ y = 1b), then they have the same:\n",
    "    - shape\n",
    "    - type\n",
    "    - value, but\n",
    "    - they may occupy separate storage locations\n",
    "    - -> clones are considered identical in q"
   ]
  },
  {
   "cell_type": "markdown",
   "metadata": {},
   "source": [
    "## 4.3. Equality and relational operators"
   ]
  },
  {
   "cell_type": "markdown",
   "metadata": {},
   "source": [
    "- relational operators\n",
    "    - are atomic functions\n",
    "    - the types of operands do not have to match"
   ]
  },
  {
   "cell_type": "code",
   "execution_count": null,
   "metadata": {},
   "outputs": [],
   "source": [
    "1 2 3<10 20 30"
   ]
  },
  {
   "cell_type": "markdown",
   "metadata": {},
   "source": [
    "### 4.3.1. Equality = and disequality <>"
   ]
  },
  {
   "cell_type": "markdown",
   "metadata": {},
   "source": [
    "- The equality operator is atomic in both of its operands (the match operator is not): it tests its operands atom-wise\n",
    "- Numeric, temporal and char types are all compatible for equality comparison\n",
    "    - When comparing a numeric type with a character type, their underlying bit pattern is compared\n",
    "- Symbols only compatible with symbols when it comes to comparison\n",
    "- Disequality can be tested in two ways:\n",
    "    - a<>b\n",
    "    - not a=b\n",
    "- When comparing floating point numbers, multiplicative tolerance vor non-zero values is used: 1=(1%3)+(1%3)+(1%3)"
   ]
  },
  {
   "cell_type": "code",
   "execution_count": null,
   "metadata": {},
   "outputs": [],
   "source": [
    "42=\"*\"\n",
    "`a<=`a"
   ]
  },
  {
   "cell_type": "code",
   "execution_count": null,
   "metadata": {},
   "outputs": [],
   "source": [
    "r:1%3\n",
    "2=r+r+r+r+r+r"
   ]
  },
  {
   "cell_type": "markdown",
   "metadata": {},
   "source": [
    "- not is applicable not only to boolean values but to numberic temporal and character types\n",
    "- not generalizes the reversal of true and false to any entity having an underlying numeric value"
   ]
  },
  {
   "cell_type": "code",
   "execution_count": null,
   "metadata": {},
   "outputs": [],
   "source": [
    "not 0.00001\n",
    "not 0xff\n",
    "\"i\"$0xff\n",
    "not \" \"\n",
    "not \"\\000\""
   ]
  },
  {
   "cell_type": "markdown",
   "metadata": {},
   "source": [
    "### 4.3.3. Order: <;<=;>;>="
   ]
  },
  {
   "cell_type": "markdown",
   "metadata": {},
   "source": [
    "- Same rules apply as in case of equality comparison\n",
    "- Symbol comparison is based on lexicographical order"
   ]
  },
  {
   "cell_type": "code",
   "execution_count": null,
   "metadata": {},
   "outputs": [],
   "source": [
    " / Entire ASCII collation sequence\n",
    "16 16#\"c\"$til 256"
   ]
  },
  {
   "cell_type": "markdown",
   "metadata": {},
   "source": [
    "## 4.4 Basic arithmetic: + - * %"
   ]
  },
  {
   "cell_type": "markdown",
   "metadata": {},
   "source": [
    "- Arithmetic operators are defined for all numeric and temporal types\n",
    "- the result of division is always a float\n",
    "- when a floating point type occurs in an expression, the result is a float\n",
    "- Type promotion rules:\n",
    "    - bynary types are promoted to int\n",
    "    - the result type of an operation is the narrowest type that will accomodate both operands\n",
    "- the minus sign can only be used with numeric values, but not on variables. use neg instead\n",
    "- arithmetic operators and their promotion are performed atom-wise on lists"
   ]
  },
  {
   "cell_type": "markdown",
   "metadata": {},
   "source": [
    "## 4.5. Minimum, maximum, | and &"
   ]
  },
  {
   "cell_type": "markdown",
   "metadata": {},
   "source": [
    "- These atomic dyadic operators follow the same type promotion and compatibility rules as arithmetic operators.\n",
    "- They are defined for all values with underlying numeric values but are not defined for symbols and GUIDs.\n",
    "- | reduces to OR (notation: or) and & reduces to AND (notation: and) for binary data types as operands"
   ]
  },
  {
   "cell_type": "markdown",
   "metadata": {},
   "source": [
    "## 4.6. Amend"
   ]
  },
  {
   "cell_type": "markdown",
   "metadata": {},
   "source": [
    "- An overload of : which assigns in place\n",
    "- +: is the same as += in C or Java (increment)\n",
    "- you can amend lists with indexing: list[x]+:1\n",
    "- idiom: appent to list in place: list,:item_n, item_n+1"
   ]
  },
  {
   "cell_type": "code",
   "execution_count": null,
   "metadata": {},
   "outputs": [],
   "source": [
    "aaa:5\n",
    "aaa\n",
    "aaa+:1\n",
    "aaa\n",
    "LL:1 2 3 4\n",
    "LL,:5 6\n",
    "LL"
   ]
  },
  {
   "cell_type": "markdown",
   "metadata": {},
   "source": [
    "## 4.7. Exponential primitives: sqrt, exp, xexp, log, xlog"
   ]
  },
  {
   "cell_type": "markdown",
   "metadata": {},
   "source": [
    "- exp num: base e raised to the power of num\n",
    "- num1 xexp num2: num1 raised to the power of num2\n",
    "- log x: returns the natural logarithm of x\n",
    "- x xexp y: returns the x base logarithm of y"
   ]
  },
  {
   "cell_type": "code",
   "execution_count": null,
   "metadata": {},
   "outputs": [],
   "source": [
    "-2 xexp 0.5"
   ]
  },
  {
   "cell_type": "markdown",
   "metadata": {},
   "source": [
    "## 4.8. More numeric primitives"
   ]
  },
  {
   "cell_type": "markdown",
   "metadata": {},
   "source": [
    "- x div y: integer division\n",
    "- x mod y: modulo, remainder division\n",
    "- signum x: returns the sign of any numeric and temporal type input: 1i - positive, -1i - negative, 0i - zero\n",
    "- reciprocal x : 1.0 % x (returns float type)\n",
    "- floor x: largest long that is less than or equal to x (domain: numeric types)\n",
    "- ceiling x: smallest long that is greater than or equal to x\n",
    "    - floor and ceiling do not apply to short type\n",
    "- abs x: absolute value"
   ]
  },
  {
   "cell_type": "markdown",
   "metadata": {},
   "source": [
    "## 4.9. Operations on temporal values"
   ]
  },
  {
   "cell_type": "markdown",
   "metadata": {},
   "source": [
    "- there is no concept of time zones in q"
   ]
  },
  {
   "cell_type": "markdown",
   "metadata": {},
   "source": [
    "### 4.9.1. Temporal comparison"
   ]
  },
  {
   "cell_type": "markdown",
   "metadata": {},
   "source": [
    "- To compare temporal values of different types, q converts to the most granular type and then does a straight comparison of the underlying values."
   ]
  },
  {
   "cell_type": "markdown",
   "metadata": {},
   "source": [
    "### 4.9.2. Temporal arithmetic"
   ]
  },
  {
   "cell_type": "markdown",
   "metadata": {},
   "source": [
    "## 4.10. Operations on infinties and null"
   ]
  },
  {
   "cell_type": "markdown",
   "metadata": {},
   "source": [
    "- An __infinity value__ equals or matches only itself.\n",
    "- All __nulls__ are equal (they represent missing data)\n",
    "- Different type __nulls__ do not match (type matters).\n",
    "- In contrast to some languages, such as C, separate instances of NaN are equal.\n",
    "- The not operator returns 0b for all infinities and nulls since they all fail the test of equality with 0.\n",
    "- The neg operator reverses the sign of infinities but does nothing to nulls since sign is meaningless for missing data.\n",
    "- for any numeric type\n",
    "    - null < negative infinity < normal value < positive infinity\n",
    "    - Nulls of different type, while equal, are not otherwise comparable – i.e., any relational comparison results in 0b.\n",
    "    - Infinities of different type are ordered by their width. For positive infinities:\n",
    "        - short < int < long < real < float\n",
    "    - For negative infinities\n",
    "        - -float < -real < -long < -int < -short"
   ]
  },
  {
   "cell_type": "code",
   "execution_count": null,
   "metadata": {},
   "outputs": [],
   "source": [
    "0Wi&0W"
   ]
  },
  {
   "cell_type": "markdown",
   "metadata": {},
   "source": [
    "## 4.11. Alias ::"
   ]
  },
  {
   "cell_type": "markdown",
   "metadata": {},
   "source": [
    "- the :: alias is a variable that is an expression itself\n",
    "- the alias can be used to defer the evaluation of an expression\n",
    "- 0N! is the same as show? use it to inspect the inner workings of an in-flight evaluation"
   ]
  },
  {
   "cell_type": "markdown",
   "metadata": {},
   "source": [
    "### 4.11.2. Alias vs function"
   ]
  },
  {
   "cell_type": "markdown",
   "metadata": {},
   "source": [
    "- Two key differentces:\n",
    "    - To evaluate an expression wrapped in a function you explicitly provide the arguments and apply the function all in one step. With an alias you set the variables at any point in the program and __the expression is evaluated when, and only when, the alias variable is referenced__.\n",
    "    - __The function does not memoize its result__, so it recalculates on every application, even if the arguments do not change."
   ]
  },
  {
   "cell_type": "markdown",
   "metadata": {},
   "source": [
    "### 4.11.3. Dependencies"
   ]
  },
  {
   "cell_type": "markdown",
   "metadata": {},
   "source": [
    "- A list of all dependencies of an alias is maintained in the system dictionary (.z.b)"
   ]
  },
  {
   "cell_type": "markdown",
   "metadata": {},
   "source": [
    "### 4.11.4. Views"
   ]
  },
  {
   "cell_type": "markdown",
   "metadata": {},
   "source": [
    "- Aliases are commonly used to provide a database view by specifying a query as the expression"
   ]
  },
  {
   "cell_type": "code",
   "execution_count": null,
   "metadata": {},
   "outputs": [],
   "source": [
    "t:([]c1:`a`b`c`a;c2:20 15 10 20;c3:99.5 99.45 99.42 99.4)\n",
    "v::select sym:c1,px:c3 from t where c1=`a\n",
    "v\n",
    "update c3:42.0 from `t where c1=`a\n",
    "v"
   ]
  },
  {
   "cell_type": "code",
   "execution_count": 31,
   "metadata": {},
   "outputs": [
    {
     "data": {
      "text/plain": [
       "t| v\n"
      ]
     },
     "execution_count": 31,
     "metadata": {},
     "output_type": "execute_result"
    }
   ],
   "source": [
    ".z.b / dependencies are maintained in the system dictionary"
   ]
  }
 ],
 "metadata": {
  "kernelspec": {
   "display_name": "Q (kdb+)",
   "language": "q",
   "name": "qpk"
  },
  "language_info": {
   "file_extension": ".q",
   "mimetype": "text/x-q",
   "name": "q",
   "version": "3.6.0"
  }
 },
 "nbformat": 4,
 "nbformat_minor": 2
}
