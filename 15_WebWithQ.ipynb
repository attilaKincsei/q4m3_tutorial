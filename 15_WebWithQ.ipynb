{
 "cells": [
  {
   "cell_type": "markdown",
   "metadata": {},
   "source": [
    "## Shock and awe: 1.19. [Inter-process communication (IPC sockets): synchronous callbacks](https://code.kx.com/q4m3/1_Q_Shock_and_Awe/#119-interprocess-communication-101)"
   ]
  },
  {
   "cell_type": "markdown",
   "metadata": {},
   "source": [
    "Server side:\n",
    "- opening a port \\p 30210\n",
    "- \\p checking if port is open\n",
    "- assign the port to a host: It has the same syntax as file handling:\n",
    "    - `:localhost:30210\n",
    "\n",
    "Client side:\n",
    "- open connection on client and assign it to a variable:\n",
    "    - h:hopen `:localhost:30210\n",
    "    - calling the h variable / function handles a synchronous request to the server\n",
    "    - variable h is called an open handle: it holds a function to send and receive requests to / from the server\n",
    "    - e.g.: h \"4*6\" sends the string to the server which calculates it and sends it back\n",
    "- close connection: hclose h\n",
    "\n",
    "Synchronous means that the client blocks until receives the response from the server"
   ]
  },
  {
   "cell_type": "code",
   "execution_count": null,
   "metadata": {},
   "outputs": [],
   "source": [
    ".simbud.conn: hopen hsym `$\"localhost:8060\""
   ]
  },
  {
   "cell_type": "code",
   "execution_count": null,
   "metadata": {},
   "outputs": [],
   "source": [
    "2+3"
   ]
  },
  {
   "cell_type": "markdown",
   "metadata": {},
   "source": [
    "Send expressions to or call functions on server:\n",
    "h (`func_name;param1;param2...)"
   ]
  },
  {
   "cell_type": "markdown",
   "metadata": {},
   "source": [
    "## I/O: 11.6. [Inter-process communication](https://code.kx.com/q4m3/11_IO/#116-interprocess-communication)"
   ]
  },
  {
   "cell_type": "markdown",
   "metadata": {},
   "source": [
    "- Basic terminology:\n",
    "    - Client: the process that initiates the communication\n",
    "    - Server: the process receiving and processing requests.The server process can be on the same machine, same or different network or on the Internet\n",
    "    Synchronous communication: waits for a result to be returned\n",
    "    Asynchronous communication: does not wait and no result returned"
   ]
  },
  {
   "cell_type": "markdown",
   "metadata": {},
   "source": [
    "### 11.6.1 Communication Handle"
   ]
  },
  {
   "cell_type": "markdown",
   "metadata": {},
   "source": [
    "- A symbolic communication handle (a.k.a network handle) has the general form: `:[serverIdentifier]:port.\n",
    "- A server identifier can refer to:\n",
    "    - your localhost `:localhost:5042 (omitted server identifier also refers to localhost: `::5042)\n",
    "    - a machine on the network:\n",
    "        - by name: `:aerowing:5042\n",
    "    - the IP address of a machine: `:198.162.0.2:5042\n",
    "    - a URL: `:www.myurl.com:5042"
   ]
  },
  {
   "cell_type": "markdown",
   "metadata": {},
   "source": [
    "### 11.6.2 Operning a connection Handle"
   ]
  },
  {
   "cell_type": "markdown",
   "metadata": {},
   "source": [
    "- open communication handle on server: `:server:port\n",
    "- open connection handle on client: h:hopen `:server:port\n",
    "- send query: h\"3+4\" / UNSAFE!!\n",
    "- close connection when communication with the server is finished: hclose h"
   ]
  },
  {
   "cell_type": "markdown",
   "metadata": {},
   "source": [
    "### 11.6.3 Remote Execution"
   ]
  },
  {
   "cell_type": "markdown",
   "metadata": {},
   "source": [
    "- connHandle (functionName;arg1;arg2;arg3) / function passed by value to call it on client side\n",
    "    - UNSAFE to let an arbitrary function be executed on your server!!\n",
    "- connHandle (`functionName;arg1;arg2;arg3) / function passed by name to call it on server side\n",
    "    - SAFE: because lets only functions be executed on the server that has already defined on the server.\n",
    "- format: function application: (list; indices) or (map; keys)"
   ]
  },
  {
   "cell_type": "markdown",
   "metadata": {},
   "source": [
    "- Q analogue of a remote stored procedure: when the remote function (defined on the server) performs an operation on a table (on the server) and returns the result.\n",
    "- The difference from SQL stored procedures is that the remote procedure can be any q function on the server, making the full power of q available remotely."
   ]
  },
  {
   "cell_type": "markdown",
   "metadata": {},
   "source": [
    "### 11.6.4 Synchronous and Asynchronous Messages"
   ]
  },
  {
   "cell_type": "markdown",
   "metadata": {},
   "source": [
    "- During a synchronous IPC, upon application of the connection handle, the client process blocks, waiting for a result from the server before proceeding and\n",
    "- the value returned from the server becomes the __return value of the open handle application__.\n",
    "- When the message passing is synchronous, the following steps occur in sequence:\n",
    "    - __The client__\n",
    "        - sends a message containing the argument(s) of the handle application to the server and\n",
    "        - and waits for a return message.\n",
    "    - __The server__\n",
    "        - receives the message\n",
    "        - interprets it as the appropriate function application\n",
    "        - and obtains the result.\n",
    "        - Then, it sends a message containing the result back to the client.\n",
    "    - __The client__\n",
    "        - receives the result and\n",
    "        - resumes execution from the point it left off.\n",
    "- When a client sends multiple messages to a server in synchronous message passing,\n",
    "    - __the next message is not sent until the result of the previous message is received__. Consequently\n",
    "    - the messages always arrive at the server in the order in which they are sent.\n",
    "    - Also, __the results from the server arrive back at the client in the order in which the original messages were sent__."
   ]
  },
  {
   "cell_type": "markdown",
   "metadata": {},
   "source": [
    "- During asynchronous IPC,\n",
    "    - the message is sent to the server and execution on the client continues immediately.\n",
    "    - __There is no return value from the server__!!\n",
    "    - Use case: initiate a task on the server when you don’t care about the result. E.g.:\n",
    "        - initiate a long running operation or\n",
    "        - send a message that the server will route to other processes."
   ]
  },
  {
   "cell_type": "code",
   "execution_count": null,
   "metadata": {},
   "outputs": [],
   "source": [
    "neg[h] (`functionOnServer;arg1;arg2) / asynchronous syntax on client side"
   ]
  },
  {
   "cell_type": "markdown",
   "metadata": {},
   "source": [
    "- Important!!\n",
    "    - When sending asynchronous messages, __always send an empty “chaser” message immediately before applying hclose__ to the open handle.\n",
    "    - If you do not do this, buffered messages may not be sent when the connection is closed."
   ]
  },
  {
   "cell_type": "markdown",
   "metadata": {},
   "source": [
    "- Because a q session is single threaded by default, the server will process messages in the order in which they are received.\n",
    "- However, in asynchronous messaging there is no guarantee that the messages arrive at the server in the order in which they are sent."
   ]
  },
  {
   "cell_type": "markdown",
   "metadata": {},
   "source": [
    "## Shock and awe: 1.20. [Example: Asynchronous callbacks](https://code.kx.com/q4m3/1_Q_Shock_and_Awe/#120-example-asynchronous-callbacks)"
   ]
  },
  {
   "cell_type": "markdown",
   "metadata": {},
   "source": [
    "- in case of anychronous callbacks the client does not block while it waits for the server's response: the application of the open handle returns immediately\n",
    "- there are no built-in callbacks, but we can create our own\n",
    "- calling the the \"neg h\" function handles an asynchronous request to the server\n",
    "    - (neg h) (`remote_function;param1;param2)\n",
    "    - (neg .z.w): asynchronously calls back the sender (.z.w: \"who is?\")"
   ]
  },
  {
   "cell_type": "code",
   "execution_count": null,
   "metadata": {},
   "outputs": [],
   "source": [
    "rsvp:{[arg;cb] show arg; (neg .z.w) (cb; 43); show `done;} / function to call on server.\n",
    " / (neg .z.w)(callback_name;callback_param) is the real callback function\n",
    "echo:{show x} / function to call back on client\n",
    "(neg h)(`rsvp;\"waiting for callback\";`echo)"
   ]
  },
  {
   "cell_type": "markdown",
   "metadata": {},
   "source": [
    "### 11.6.5 Processing messages"
   ]
  },
  {
   "cell_type": "markdown",
   "metadata": {},
   "source": [
    "- During evaluation of a call from the client, the communication handle of the client process is available in the system variable __.z.w__ ( “who” called).\n",
    "    - For an asynchronous call, this can be used to send messages back to the client during the function application on the server.\n",
    "    - When performing asynchronous messaging, always use neg[.z.w] to ensure that all messages are asynchronous. Otherwise you will get a deadlock as each process waits for the other."
   ]
  },
  {
   "cell_type": "code",
   "execution_count": null,
   "metadata": {},
   "outputs": [],
   "source": [
    "f:{show \"Received \",string x; neg[.z.w] (`mycallback; x+1)} / asynchronous callback from server to client"
   ]
  },
  {
   "cell_type": "code",
   "execution_count": null,
   "metadata": {},
   "outputs": [],
   "source": [
    "/ callback function on client side which is triggered by the message sent by the server when it finished evaluating the call\n",
    "mycallback:{show \"Returned \",string x;}"
   ]
  },
  {
   "cell_type": "markdown",
   "metadata": {},
   "source": [
    "- Both the client and the server have connection handles when a connection between them is opened. However, these handles are assigned independently and their int values are not equal in general."
   ]
  },
  {
   "cell_type": "markdown",
   "metadata": {},
   "source": [
    "- You can override the default behavior of message processing in q by assigning your own handler(s) to the appropriate system variables.\n",
    "- .z.pg (process get, IPC synchronous messages): assigning a function to .z.pg traps and processes synchronous messages on server side.\n",
    "    - This makes any connHandle\"expression\" type messages evaluated by the .pg function\n",
    "- .z.ps (process set, IPC asynchronous messages): assigning a function to .z.ps traps and processes asynchronous messages on server side.\n",
    "    - This makes any neg[h] \"expression\" type messages evaluated by the .ps function."
   ]
  },
  {
   "cell_type": "code",
   "execution_count": null,
   "metadata": {},
   "outputs": [],
   "source": [
    ".z.pg:{$[-11h=type first x; .[value first x; 1_x; ::]; `unsupported]} / on server\n",
    "h (`sq; 5) / 25 on client\n",
    "h (`sq; `5) / \"type\"\n",
    "h \"6*7\" / `unsupported\n",
    "h ({x*y};6;7) / `unsupported"
   ]
  },
  {
   "cell_type": "markdown",
   "metadata": {},
   "source": [
    "- Useful system variables to handle IPC communication.\n",
    "- Define functions to be executed when:\n",
    "    - the connection opens: .z.po\n",
    "    - the connection closes: .z.pc\n",
    "- Their sole parameter is the connection handle of the client process.\n",
    "- Use case: tracking connections of client processes to allow them to register callbacks with the servers."
   ]
  },
  {
   "cell_type": "markdown",
   "metadata": {},
   "source": [
    "- An awesome example for creating registered callback functions from clients on server side\n",
    "https://code.kx.com/q4m3/11_IO/#1165-processing-messages"
   ]
  },
  {
   "cell_type": "markdown",
   "metadata": {},
   "source": [
    "### 11.6.6. [Remote queries](https://code.kx.com/q4m3/11_IO/#1166-remote-queries)"
   ]
  },
  {
   "cell_type": "markdown",
   "metadata": {},
   "source": [
    "[Implementation of a remote query](https://code.kx.com/q4m3/11_IO/#1166-remote-queries)"
   ]
  },
  {
   "cell_type": "markdown",
   "metadata": {},
   "source": [
    "## 11.7. HTTP and Websockets"
   ]
  },
  {
   "cell_type": "markdown",
   "metadata": {},
   "source": [
    "### 11.7.1. HTTP connections"
   ]
  },
  {
   "cell_type": "code",
   "execution_count": null,
   "metadata": {},
   "outputs": [],
   "source": [
    " / open a port and create an socket handle\n",
    "\\p 8889\n",
    "`:localhost:8889"
   ]
  },
  {
   "cell_type": "code",
   "execution_count": null,
   "metadata": {},
   "outputs": [],
   "source": [
    " / rewrite the default GET request handler namespace .z.ph\n",
    ".z.ph:{show x 0; show x 1; ; string value 1_x 0}"
   ]
  },
  {
   "cell_type": "markdown",
   "metadata": {},
   "source": [
    "## Shock and awe: 1.21. [Websockets 101](https://code.kx.com/q4m3/1_Q_Shock_and_Awe/#121-websockets-101)"
   ]
  },
  {
   "cell_type": "markdown",
   "metadata": {},
   "source": [
    "- [WebSockets](https://en.wikipedia.org/wiki/WebSocket) can be used to put a browser front end on traditional applications, replacing both the web server and proprietary GUI packages\n",
    "- The key idea of WebSockets:\n",
    "    - the client makes an initial HTTP request to upgrade the protocol.\n",
    "    - If the request is accepted, subsequent communication occurs over TCP/IP sockets protocol.\n",
    "    - Once the WebSockets connection is made, either the client or server can initiate messaging."
   ]
  },
  {
   "cell_type": "code",
   "execution_count": null,
   "metadata": {},
   "outputs": [],
   "source": [
    "\\p 5042 / open port\n",
    "\n",
    "/\n",
    ".z.ws: web socket handler\n",
    "sets the ws handler to a function that will be called on receipt of each message from the browser\n",
    "-8!\"answer\" serializes the answer\n",
    "\\\n",
    ".z.ws:{0N!-9!x; neg[.z.w] -8!42}"
   ]
  },
  {
   "cell_type": "code",
   "execution_count": null,
   "metadata": {
    "ExecuteTime": {
     "end_time": "2019-02-05T18:26:22.606033000Z",
     "start_time": "2019-02-05T18:26:22.603Z"
    }
   },
   "outputs": [],
   "source": [
    " / broken yahoo link for drawing a chart (ws101.q)"
   ]
  },
  {
   "cell_type": "markdown",
   "metadata": {},
   "source": [
    "### 11.7.2. Basic WebSockets"
   ]
  },
  {
   "cell_type": "markdown",
   "metadata": {},
   "source": [
    "- WebSockets is a network protocol that upgrades an initial HTTP handshake into a TCP/IP socket connection.\n",
    "- It was initially used to enhance communication capability between browsers and web servers\n",
    "    - but it can be used for general client-server applications.\n",
    "- Once the WebSocket connection is established, either the client or server can message the other;\n",
    "    - in particular, this provides the capability for the server to push data to the client.\n",
    "- Communication through a websocket in q is limited to async messages."
   ]
  },
  {
   "cell_type": "code",
   "execution_count": null,
   "metadata": {},
   "outputs": [],
   "source": [
    "\\p 5042"
   ]
  },
  {
   "cell_type": "code",
   "execution_count": null,
   "metadata": {},
   "outputs": [],
   "source": [
    ".z.ws:{neg[.z.w]x} // default implementation"
   ]
  },
  {
   "cell_type": "code",
   "execution_count": null,
   "metadata": {},
   "outputs": [],
   "source": [
    ".z.ws:{0N!-9!x; neg[.z.w] -8!42}a"
   ]
  },
  {
   "cell_type": "code",
   "execution_count": null,
   "metadata": {},
   "outputs": [],
   "source": [
    "path:\"/home/akincsei/00_datasets/kaggle__price-volume-data-for-all-us-stocks-etfs/csv_data/Stocks/\"\n",
    "ticker_list:(`aapl;`amzn;`baba;`fb;`fox;`googl;`ibm;`intc;`lmt;`lhm;`ms;`msft;`orcl;`tmus)\n",
    "ticker:string ticker_list[1]\n",
    "ext:\".us.csv\"\n",
    "pattern:\"DFFFFII\"\n",
    "pth_fn:hsym `$path,ticker,ext\n",
    "pth_fn"
   ]
  },
  {
   "cell_type": "code",
   "execution_count": null,
   "metadata": {},
   "outputs": [],
   "source": [
    "rd_csv:{[pth;tck;ext;ptrn] (ptrn;enlist \",\") 0: hsym `$pth,tck,ext}"
   ]
  },
  {
   "cell_type": "code",
   "execution_count": null,
   "metadata": {},
   "outputs": [],
   "source": [
    "aapl_table:rd_csv[path;ticker;ext;pattern]"
   ]
  },
  {
   "cell_type": "code",
   "execution_count": null,
   "metadata": {},
   "outputs": [],
   "source": [
    "aapl_table"
   ]
  },
  {
   "cell_type": "code",
   "execution_count": null,
   "metadata": {},
   "outputs": [],
   "source": [
    "amzn_str:read0 hsym `$path,ticker,ext"
   ]
  },
  {
   "cell_type": "code",
   "execution_count": null,
   "metadata": {},
   "outputs": [],
   "source": [
    ".z.ws:{0N!-9!x; neg[.z.w] -8!amzn_str}"
   ]
  },
  {
   "cell_type": "markdown",
   "metadata": {},
   "source": [
    "### 14.7.3. Pushing data to the browser"
   ]
  },
  {
   "cell_type": "markdown",
   "metadata": {},
   "source": [
    "- In WebSockets the browser initiates the connection, but once the WebSocket request for protocol upgrade is successful, the browser – i.e., client – and the server are on equal footing:\n",
    "    - Either side can send messsages to the other.\n",
    "    - All interaction is async in q websocket implementation.\n",
    "    - Browsers and q is single-threaded by default -> no race conditions and deadlocks.\n",
    "    - You have to set-up your own callbacks.\n",
    "- In this section we demonstrate how the q server can push data to the browser, beginning with the browser script."
   ]
  },
  {
   "cell_type": "code",
   "execution_count": null,
   "metadata": {},
   "outputs": [],
   "source": [
    "\\p 4242"
   ]
  },
  {
   "cell_type": "code",
   "execution_count": null,
   "metadata": {},
   "outputs": [],
   "source": [
    "\\p"
   ]
  },
  {
   "cell_type": "code",
   "execution_count": null,
   "metadata": {},
   "outputs": [],
   "source": [
    " / `:localhost:4242"
   ]
  },
  {
   "cell_type": "code",
   "execution_count": null,
   "metadata": {},
   "outputs": [],
   "source": [
    "answer:42"
   ]
  },
  {
   "cell_type": "code",
   "execution_count": null,
   "metadata": {},
   "outputs": [],
   "source": [
    ".z.po:{`requestor set x; system \"t 1000\";}"
   ]
  },
  {
   "cell_type": "code",
   "execution_count": null,
   "metadata": {},
   "outputs": [],
   "source": [
    ".z.ts:{neg[requestor] -8!answer;; answer+:1;}"
   ]
  },
  {
   "cell_type": "markdown",
   "metadata": {},
   "source": [
    "[More on websockets](https://code.kx.com/q/wp/websockets/#what-are-websockets)"
   ]
  },
  {
   "cell_type": "code",
   "execution_count": null,
   "metadata": {},
   "outputs": [],
   "source": [
    "345+4"
   ]
  },
  {
   "cell_type": "code",
   "execution_count": null,
   "metadata": {},
   "outputs": [],
   "source": [
    "# 234+4555"
   ]
  }
 ],
 "metadata": {
  "kernelspec": {
   "display_name": "Q (kdb+)",
   "language": "q",
   "name": "qpk"
  },
  "language_info": {
   "file_extension": ".q",
   "mimetype": "text/x-q",
   "name": "q",
   "version": "3.6.0"
  }
 },
 "nbformat": 4,
 "nbformat_minor": 4
}
