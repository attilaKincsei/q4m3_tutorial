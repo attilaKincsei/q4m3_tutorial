{
 "cells": [
  {
   "cell_type": "markdown",
   "metadata": {},
   "source": [
    "# 12. [WORKSPACE ORGANIZATION](https://code.kx.com/q4m3/12_Workspace_Organization/)"
   ]
  },
  {
   "cell_type": "markdown",
   "metadata": {},
   "source": [
    "__The problem of global variables__\n",
    "- In q, there is no lexical scope\n",
    "- In q there are local variables (within a function) and global variables that exist in the entire workspace.\n",
    "- Mutable shared state is the root of all evil:\n",
    "    - q is single-threaded by default\n",
    "    - multi-threading is q is implemented so that it does not support mutating global variables\n",
    "- However, the existence of global variables can lead to name clashes in q."
   ]
  },
  {
   "cell_type": "markdown",
   "metadata": {},
   "source": [
    "## 12.1. Namespaces"
   ]
  },
  {
   "cell_type": "markdown",
   "metadata": {},
   "source": [
    "- A partial solution to name clashes is namespaces:\n",
    "    - Namespaces is a hierarchical structure of names separated by a specific separating character\n",
    "        - E.g.: forward/back\\slash in file systems\n",
    "        - Java package hierarchy\n",
    "        - Web address hierarchy\n",
    "    - In q, the dot (.) is the separator, which separates the containers from their contents:\n",
    "        - In q, the containers are called _contexts_\n",
    "        - E.g.: .jab.x, where\n",
    "            - .jab is the context, which has the symbolic name `.jab and x is the variable name\n",
    "            - and the fully qualified name of the variable is ˙.jab.x\n",
    "            - .jab refers to the context called jab in the root context\n",
    "            - varName would refer to a global variable in the root context\n",
    "        - From within a function you cannot differentiate between a local and a global variable with the same name:\n",
    "            - .jab, in this case holds all q entities inside the .jab context in a dictionary form, which can be overwritten"
   ]
  },
  {
   "cell_type": "markdown",
   "metadata": {},
   "source": [
    "## 12.2. Contexts"
   ]
  },
  {
   "cell_type": "markdown",
   "metadata": {},
   "source": [
    "- q contexts are dictionaries the keys of which are variables in the given context\n",
    "- you can have nested contexts in the form of .ctx1.ctx2.ctx3.varName\n",
    "- distinction between a context and a variable name is made based on if it is a properly constructed context dictionary or not?\n",
    "- reserved namespaces by Kx Systems:\n",
    "    - .kx (for their own use)\n",
    "    - .h [Markup output of http](https://code.kx.com/v2/ref/#h)\n",
    "    - .j [Json serialization/ deserialization](https://code.kx.com/v2/ref/#j)\n",
    "    - .o\n",
    "    - .q (buil-in functions written not in C)\n",
    "    - .u\n",
    "    - .z [System variables, callbacks](https://code.kx.com/v2/ref/#z)\n",
    "    - .Q [Utilities functions](https://code.kx.com/v2/ref/#q):\n",
    "        - general\n",
    "        - environment\n",
    "        - InterProcess Communication\n",
    "        - datatype\n",
    "        - database\n",
    "        - partitioned database"
   ]
  },
  {
   "cell_type": "code",
   "execution_count": 5,
   "metadata": {},
   "outputs": [
    {
     "data": {
      "text/plain": [
       "\"<R>\"\n",
       "\"<r><id>0</id><col1>a</col1><col2>1</col2></r>\"\n",
       "\"<r><id>1</id><col1>b</col1><col2>2</col2></r>\"\n",
       "\"<r><id>2</id><col1>c</col1><col2>3</col2></r>\"\n",
       "\"<r><id>3</id><col1>d</col1><col2>4</col2></r>\"\n",
       "\"</R>\"\n"
      ]
     },
     "execution_count": 5,
     "metadata": {},
     "output_type": "execute_result"
    }
   ],
   "source": [
    ".h.xd xmlTable:([id:til 4] col1:`a`b`c`d; col2:(1;2;3;4))"
   ]
  },
  {
   "cell_type": "markdown",
   "metadata": {},
   "source": [
    "## 12.3. Creating contexts"
   ]
  },
  {
   "cell_type": "markdown",
   "metadata": {},
   "source": [
    "- When we create the first variable in a namespace, the context is automatically created, in this case, foo: .foo.a"
   ]
  },
  {
   "cell_type": "code",
   "execution_count": 7,
   "metadata": {},
   "outputs": [
    {
     "data": {
      "text/plain": [
       "`q`Q`h`j`o`qpk`P`p`b64\n"
      ]
     },
     "execution_count": 7,
     "metadata": {},
     "output_type": "execute_result"
    }
   ],
   "source": [
    "key ` / returns all contexts in the root context"
   ]
  },
  {
   "cell_type": "code",
   "execution_count": 12,
   "metadata": {},
   "outputs": [
    {
     "data": {
      "text/plain": [
       "``neg`not`null`string`reciprocal`floor`ceiling`signum`mod`xbar`xlog`and`or`ea..\n"
      ]
     },
     "execution_count": 12,
     "metadata": {},
     "output_type": "execute_result"
    }
   ],
   "source": [
    "key `.q / returns all variables in the `.q context"
   ]
  },
  {
   "cell_type": "code",
   "execution_count": 18,
   "metadata": {},
   "outputs": [
    {
     "data": {
      "text/plain": [
       "k){x*y div x:$[16h=abs[@x];\"j\"$x;x]}\n"
      ]
     },
     "execution_count": 18,
     "metadata": {},
     "output_type": "execute_result"
    }
   ],
   "source": [
    "value `.q.xbar"
   ]
  },
  {
   "cell_type": "markdown",
   "metadata": {},
   "source": [
    "## 12.4. Context as dictionary"
   ]
  },
  {
   "cell_type": "markdown",
   "metadata": {},
   "source": []
  }
 ],
 "metadata": {
  "kernelspec": {
   "display_name": "Q (kdb+)",
   "language": "q",
   "name": "qpk"
  },
  "language_info": {
   "file_extension": ".q",
   "mimetype": "text/x-q",
   "name": "q",
   "version": "3.6.0"
  }
 },
 "nbformat": 4,
 "nbformat_minor": 2
}
