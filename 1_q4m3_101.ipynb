{
 "cells": [
  {
   "cell_type": "markdown",
   "metadata": {},
   "source": [
    "# 0.0. List of keyboard shortcuts and basic functions\n",
    "- getting help on keyword: shift tab\n",
    "- count a_list: length of list"
   ]
  },
  {
   "cell_type": "code",
   "execution_count": null,
   "metadata": {},
   "outputs": [],
   "source": [
    "x:10 20 30\n",
    "y:(1;2;3)\n",
    "x*y"
   ]
  },
  {
   "cell_type": "markdown",
   "metadata": {},
   "source": [
    "# 1.0 Shock and awe"
   ]
  },
  {
   "cell_type": "code",
   "execution_count": null,
   "metadata": {},
   "outputs": [],
   "source": [
    "\"c\"$0x57656c6c20646f6e6521"
   ]
  },
  {
   "cell_type": "markdown",
   "metadata": {},
   "source": [
    "- the = sign tests for equality (q does not abuse the = sign)\n",
    "- the colon (:) is used for assigning values to variables (assignables). reads is assigned or gets.\n",
    "- assignment does not echo per se. use show command to echo the value while assigning"
   ]
  },
  {
   "cell_type": "code",
   "execution_count": null,
   "metadata": {},
   "outputs": [],
   "source": [
    "show a: 42 / to show the value of an assignable together with the assigning"
   ]
  },
  {
   "cell_type": "markdown",
   "metadata": {},
   "source": [
    "## 1.6. assignment"
   ]
  },
  {
   "cell_type": "code",
   "execution_count": null,
   "metadata": {},
   "outputs": [],
   "source": [
    "show a:42 / intended to be a comment\n",
    "1+b:11 / In q an assignment carries the value being assigned and can be used as part of a larger expression\n",
    "b:1+a:42 / value of assignment can be propagated onward\n",
    "b"
   ]
  },
  {
   "cell_type": "markdown",
   "metadata": {},
   "source": [
    "## 1.7. Order of evaluation:\n",
    "- expressions are evaluated right to left as in mathematics\n",
    "- but list of expressions, delimited by semi-colons, are evaluated from left to right"
   ]
  },
  {
   "cell_type": "markdown",
   "metadata": {},
   "source": [
    "## 1.8. Data types 101"
   ]
  },
  {
   "cell_type": "markdown",
   "metadata": {},
   "source": [
    "- long: the basic data type is a 64-bit, long, signed integer (range: -2^63 - 2^63-1)"
   ]
  },
  {
   "cell_type": "code",
   "execution_count": null,
   "metadata": {},
   "outputs": [],
   "source": [
    "show a:2 xexp 8 / exponentiation\n",
    "show b:2 xlog a"
   ]
  },
  {
   "cell_type": "markdown",
   "metadata": {},
   "source": [
    "- float: 64 bit signed floating point number (same as double in Java) (conforming to IEEE specification)\n",
    "    forward slash is for comments therefore division is written as %!!!!!!!!!"
   ]
  },
  {
   "cell_type": "code",
   "execution_count": null,
   "metadata": {},
   "outputs": [],
   "source": [
    "10 % 2 / division always result in a float"
   ]
  },
  {
   "cell_type": "markdown",
   "metadata": {},
   "source": [
    "- boolean values\n",
    "    true: 1b\n",
    "    false: 0b"
   ]
  },
  {
   "cell_type": "code",
   "execution_count": null,
   "metadata": {},
   "outputs": [],
   "source": [
    "1 = 0\n",
    "1 = 1"
   ]
  },
  {
   "cell_type": "code",
   "execution_count": null,
   "metadata": {},
   "outputs": [],
   "source": [
    "2000.01.01 / this is actually 0\n",
    "2014.11.19 / this is actually 5436\n",
    "2019.01.31\n",
    "1999.12.31 / this is actually -1\n",
    "1999.12.31+1\n",
    "2000.01.01 = 1999.12.31+1"
   ]
  },
  {
   "cell_type": "markdown",
   "metadata": {},
   "source": [
    "## Temporal types: date, timespan\n",
    "- date is the number of days since the millennium (2000.01.01 00:00:00), positive for post and negative for pre\n",
    "- timespan: represents a time value. It is a long integer count of the number of nanoseconds (10 xexp -9) since midnight\n",
    "    (metric prefixes: https://en.wikipedia.org/wiki/Metric_prefix)\n",
    "    you can carry out arithmetic calculations with temporal types:"
   ]
  },
  {
   "cell_type": "code",
   "execution_count": null,
   "metadata": {},
   "outputs": [],
   "source": [
    "00:00:00.999999999+00:00:00.000000001\n",
    "00:00:00.999999000+1000\n",
    "\n",
    "2000.01.01=0\n",
    "12:00:00.000000000=12*60*60*1000000000"
   ]
  },
  {
   "cell_type": "markdown",
   "metadata": {},
   "source": [
    "Textual data\n",
    "- \"symbol\" is an atomic data type: same as VARCHAR in SQL and string in other languages\n",
    "    (in q, strings mean something different)\n",
    "    notation: back tick followed by characters: `iamasymbol\n"
   ]
  },
  {
   "cell_type": "code",
   "execution_count": null,
   "metadata": {},
   "outputs": [],
   "source": [
    "`aaa=`aab\n",
    "`aaa=`aaa"
   ]
  },
  {
   "cell_type": "markdown",
   "metadata": {},
   "source": [
    "## 1.9 Lists"
   ]
  },
  {
   "cell_type": "markdown",
   "metadata": {},
   "source": [
    "- lists are the fundamental data type in q\n",
    "- lists are an ordered collection of items sequenced from left to right, separated by semi-colons"
   ]
  },
  {
   "cell_type": "code",
   "execution_count": null,
   "metadata": {},
   "outputs": [],
   "source": [
    "show l:(1;2;21;22;4)+1\n",
    "l,10,11 / appending en element or another list to a list"
   ]
  },
  {
   "cell_type": "markdown",
   "metadata": {},
   "source": [
    "- simple lists (homogeneous lists): can contain data of the same type\n",
    "    - simplified format for storage and display\n",
    "- heterogenious lists: can contain different atomic data types (and data structures?). (to be avoided, processing is slower)"
   ]
  },
  {
   "cell_type": "markdown",
   "metadata": {},
   "source": [
    "- list construction in general and simplified forms:"
   ]
  },
  {
   "cell_type": "code",
   "execution_count": null,
   "metadata": {},
   "outputs": [],
   "source": [
    "(1;2.3;`one) / heterogenious list\n",
    "s_list:(1;2;3;4;55) / simple list\n",
    "show a_list:(1; 2; 3; 4; s_list)\n",
    "show \"b list\"\n",
    "show b_list:4 3 5 2 / simple list definied in a simplified form (works only with simple lists)\n",
    "(2000.01.01; 2000.01.02; 2001.01.03) / date list\n",
    "(2019.01.30; 2019.01.31+1; 3033.10.20) / date list\n",
    "(1b;0b;0b) / a list of booleans\n",
    "(`john;`jack;`jane) / a list of symbols"
   ]
  },
  {
   "cell_type": "markdown",
   "metadata": {},
   "source": [
    "- Constucting lists with operations and list manipulation\n",
    "    - til: same as range() in Python"
   ]
  },
  {
   "cell_type": "code",
   "execution_count": null,
   "metadata": {},
   "outputs": [],
   "source": [
    "til 10\n",
    "1+til 10\n",
    "2*til 10 / first ten even numbers\n",
    "1+2*til 10 / first ten odd numbers\n",
    "42+2*til 10 / ten even numbers starting from 42\n",
    "2*42+til 10"
   ]
  },
  {
   "cell_type": "markdown",
   "metadata": {},
   "source": [
    "- joining lists with a comma: ,"
   ]
  },
  {
   "cell_type": "code",
   "execution_count": null,
   "metadata": {},
   "outputs": [],
   "source": [
    "l2:10 20 30\n",
    "l3:1 2 3\n",
    "show l2,l3\n",
    "l2+l3"
   ]
  },
  {
   "cell_type": "markdown",
   "metadata": {},
   "source": [
    "- extracting elements with the take operator (#) and indexing\n",
    "    the hashtag always returns a list\n",
    "    + takes from the front\n",
    "    - takes from the back\n",
    "    0#list returns an empty list with the same type of the original list"
   ]
  },
  {
   "cell_type": "code",
   "execution_count": null,
   "metadata": {},
   "outputs": [],
   "source": [
    "ll2:11 12 33 43 55 632\n",
    "1#l2\n",
    "-2#l2\n",
    "0#l2\n",
    "0#`\n",
    "10#l2 / extracts more elements than the count of the list by iterating over and over the list\n",
    "10#2 / # can be used to create a list of the same atom or the same sequence of numbers\n",
    "\n",
    "-2#l2 / how to extract last but one element of a list?\n",
    "l2[1]\n",
    "\n",
    "l2[4] / outputs ON. WHAT IS IT?\n",
    "1 4 sublist ll2 / returns a sublist of a list starting from the first parameter with a length of the second parameter"
   ]
  },
  {
   "cell_type": "markdown",
   "metadata": {},
   "source": [
    "## 1.10. Functions"
   ]
  },
  {
   "cell_type": "markdown",
   "metadata": {},
   "source": [
    "- all built-in q operations are functions\n",
    "- built-ins are optimized in k or C\n",
    "- all built-ins can be used within infix notation (operator)\n",
    "- custom functions can only be used in prefix form\n",
    "- functions in q are the same as lambda / anonymous functions in other languages\n",
    "- functions are first class citizens of the q language just as atomic data types\n",
    "- conceptually, a q function is a sequence of steps that produces an output value from input value(s)\n",
    "- q is not a purely functional language. q functions can have side effects (data exchange with the outside world)\n",
    "- function definition is delimited by {}\n",
    "- formal parameters are names enclosed in [] and separated by ;\n",
    "- functions can take x;y;z as implicit parameters\n",
    "- function juxtaposition: []s can be omitted from function call if it has only one parameter"
   ]
  },
  {
   "cell_type": "code",
   "execution_count": null,
   "metadata": {},
   "outputs": [],
   "source": [
    "l1:(1;2;3)\n",
    "l2\n",
    "sq:{[x] x*x}\n",
    "sq 5\n",
    "s_sq:{[x;y] a:x*x;b:y*y;a+b}\n",
    "s_sq2:{a:x xexp 2;b:y xexp 2;a+b}\n",
    "s_sq2[2;4]\n",
    "s_sq[3;5]\n",
    "avrg:{(x+y)%2}\n",
    "avrg[1;3]\n",
    "\n",
    "s_sq3:{x xexp 2}\n",
    "s_sq3[l2]\n",
    "s_sq[l1;l2]"
   ]
  },
  {
   "cell_type": "markdown",
   "metadata": {},
   "source": [
    "## 1.11. Functions on lists 101"
   ]
  },
  {
   "cell_type": "markdown",
   "metadata": {},
   "source": [
    "- q is a vector language, so most built-in operators work on list data structure as well. functions recursively burrow into lists until they find atomic data types and apply the operation on them"
   ]
  },
  {
   "cell_type": "code",
   "execution_count": null,
   "metadata": {},
   "outputs": [],
   "source": [
    "1+10 20 30\n",
    "100 100 20 20=100 100 20 30\n",
    "100 100 20 20<100 100 20 30"
   ]
  },
  {
   "cell_type": "markdown",
   "metadata": {},
   "source": [
    "- higher order functions (adverbs): functions that have the same essence of another function but applied in a different manner. take e.g. the sum function and the addition operator\n",
    "- over (+/): elementwise addition of a list, which folds the list into one value"
   ]
  },
  {
   "cell_type": "code",
   "execution_count": null,
   "metadata": {},
   "outputs": [],
   "source": [
    "0 +/ 1 2, 3, 4\n",
    "0 +/ 1+til 10\n",
    "1*/2_til 6\n",
    "(*/) 2_til 6\n",
    "fact:{(*/) 1+til x} / factorial function\n",
    "fact2:{$[x=0;1;x*.z.s[x-1]]} /  with recursion\n",
    "fact 5\n",
    "fact2 5"
   ]
  },
  {
   "cell_type": "code",
   "execution_count": null,
   "metadata": {},
   "outputs": [],
   "source": [
    "4&5 / minimum for two values\n",
    "4|5 / maximum for two values\n",
    "(|/) 1 2 3 4 5 6 / = max\n",
    "(&/) 1 2 3 4 5 6 / = min\n",
    "(+/) / = sum\n",
    "(*/) / = prd"
   ]
  },
  {
   "cell_type": "code",
   "execution_count": null,
   "metadata": {},
   "outputs": [],
   "source": [
    "2#3 / makes a two elelment list of 3\n",
    "5#3 4 / creates a five-element list of two element list\n",
    "2#3\n",
    "(*/) 2#3 / 2nd power of 3"
   ]
  },
  {
   "cell_type": "markdown",
   "metadata": {},
   "source": [
    "\\ scan: transforms built-in operators to higher order functions. the sibling of over (/)\n",
    "- returns not only the final result, but the intermediate elements\n",
    "- scan converts a dyadic function into a monadic uniform function"
   ]
  },
  {
   "cell_type": "code",
   "execution_count": null,
   "metadata": {},
   "outputs": [],
   "source": [
    "a:1+til 5\n",
    "b:5 10 1 2 3 2\n",
    "(+/) a / = sum (returns the sum of the elements of a list)\n",
    "(+\\) a / = sums (accumulative sum)\n",
    "\n",
    "(*/) a / = prd (returns the product of all elements in a list)\n",
    "(*\\) a / = prds (accumulative product and then creating a list from them)\n",
    "\n",
    "(&/) b / = min (returns the smallest element in a list)\n",
    "(&\\) b / = mins (returns a list of the smaller element resulting from pairwise comparison)\n",
    "\n",
    "(|/) b / = max (returns the largest element in a list)\n",
    "(|\\) b / = maxs (returns a list of the larger elements resulting from pairwise comparison of elements in the list)\n",
    "\n"
   ]
  },
  {
   "cell_type": "markdown",
   "metadata": {},
   "source": [
    "## 1.12. Exercise: Fibonacci numbers"
   ]
  },
  {
   "cell_type": "code",
   "execution_count": null,
   "metadata": {},
   "outputs": [],
   "source": [
    "fib:{[n;sig] n {x,sum -2#x}/ sig} / fibonacci function without recursion\n",
    "fib[15; 0 1]"
   ]
  },
  {
   "cell_type": "code",
   "execution_count": null,
   "metadata": {},
   "outputs": [],
   "source": [
    "fib_seq:{[n] n-1; $[n=0;1;.z.s[x,{sum -2#x}]/ 1 1]} / does not work\n",
    "fib_seq 5"
   ]
  },
  {
   "cell_type": "markdown",
   "metadata": {},
   "source": [
    "## 1.13. Exercise: Newton's method for nth roots"
   ]
  },
  {
   "cell_type": "code",
   "execution_count": null,
   "metadata": {},
   "outputs": [],
   "source": [
    "{[xn] xn-((xn*xn)-2)%2*xn}[1.0]\n",
    "\\P 0 / sets the floating point display to maximum\n",
    "{[xn] xn-((xn*xn)-2)%2*xn}/[1.0] / using over to make higher order function from initial function\n",
    "\n",
    "{[c; xn] xn-((xn*xn)-c)%2*xn}[4.0;]/[1.0]\n",
    "{[p; c; xn] xn-(((*/)p#xn)-c)%p*(*/)(p-1)#xn}[2; 3.0;]/[1.0] / square root of 3\n",
    "{[p; c; xn] xn-(((*/)p#xn)-c)%p*(*/)(p-1)#xn}[5; 7.0;]/[1.0] / 5th root of 7"
   ]
  },
  {
   "cell_type": "markdown",
   "metadata": {},
   "source": [
    "## 1.14 Exercise: [FIFO allocation](https://code.kx.com/q4m3/1_Q_Shock_and_Awe/#114-example-fifo-allocation)"
   ]
  },
  {
   "cell_type": "code",
   "execution_count": null,
   "metadata": {},
   "outputs": [],
   "source": [
    "show buys:2 1 4 3 5 4f\n",
    "show sell:12f\n",
    "show allocation:2 1 4 3 2 0\n",
    "show sums allocation\n",
    "sell&sums buys\n",
    "\n",
    "deltas buys / returns the difference of successive elements in a list (the initial element is untouched)\n",
    " / (inverse sums)\n",
    "\n",
    "deltas sell&sums buys / FIFO ALLOCATION"
   ]
  },
  {
   "cell_type": "markdown",
   "metadata": {},
   "source": [
    "- TO BE CONTINUED: THE same thing only applied to multiple element buy and sell lists"
   ]
  },
  {
   "cell_type": "code",
   "execution_count": null,
   "metadata": {},
   "outputs": [],
   "source": [
    "buys:2 1 4 3 5 4f\n",
    "sells:2 4 3 2\n",
    "\n",
    "/\n",
    "desired output\n",
    "allocations\n",
    "2 0 0 0 0 0\n",
    "0 1 3 0 0 0\n",
    "0 0 1 2 0 0\n",
    "0 0 0 1 1 0\n",
    "\\"
   ]
  },
  {
   "cell_type": "code",
   "execution_count": null,
   "metadata": {},
   "outputs": [],
   "source": [
    "sums buys\n",
    "sums sells\n",
    "2&sums[buys]\n",
    "6&sums[buys]\n",
    "9&sums[buys]\n",
    "11&sums[buys]"
   ]
  },
  {
   "cell_type": "code",
   "execution_count": null,
   "metadata": {},
   "outputs": [],
   "source": [
    "sums[sells]&\\:sums[buys] / \\: is the 'each left' notation"
   ]
  },
  {
   "cell_type": "code",
   "execution_count": null,
   "metadata": {},
   "outputs": [],
   "source": [
    "count (1 2 4 5;6 2 5 3 6)\n",
    "count each (1 2 4 5;6 2 5 3 6) / example for 'each' with count"
   ]
  },
  {
   "cell_type": "code",
   "execution_count": null,
   "metadata": {},
   "outputs": [],
   "source": [
    "sums buys\n",
    "sums sells\n",
    "sums[sells]&\\:sums[buys] / take the lesser value when comparing buys with sells elementwise\n",
    "deltas sums[sells]&\\:sums[buys] / unwind allocation across columns\n",
    "deltas each sums[sells] &\\: sums[buys] / unwind allocation across all rows\n",
    "deltas each deltas sums[sells] &\\: sums[buys] / unwind allocation across all columns and rows"
   ]
  },
  {
   "cell_type": "markdown",
   "metadata": {},
   "source": [
    "## 1.15. Dictionaries and Tables 101"
   ]
  },
  {
   "cell_type": "code",
   "execution_count": null,
   "metadata": {},
   "outputs": [],
   "source": [
    "/ dictionaries are constructed from two lists of the same length with the ! operator\n",
    "d:`a`b`c!1 2 3 / left of ! are the keys (not forced to be unique)\n",
    "d[`a]"
   ]
  },
  {
   "cell_type": "markdown",
   "metadata": {},
   "source": [
    "- 'named columns': a named collections of columns, which is a named list of lists basically\n",
    "    - count\n",
    "    - indexing\n",
    "    - indexing at depth: reflects that dictionary is a two dimensional entity\n",
    "    - omitting indexing\n",
    "    - transposing"
   ]
  },
  {
   "cell_type": "code",
   "execution_count": null,
   "metadata": {},
   "outputs": [],
   "source": [
    "d1:`a`b!(10 20 30;11 22) / named columns can have different counts\n",
    "count each d1\n",
    "d2:`a`b!(10 20 30;1.1 2.2 3.3)\n",
    "d2\n",
    "d2[`a][0] / extracting an element from the value of a key in a dictionary\n",
    "d2[`a;0]\n",
    "d2[`a;] / = d2[`a]\n",
    "d2[;2]\n",
    "td2:flip d2 / named columns can only be transposed if they have the same length\n",
    "d2[`a;0] / column first;row second in a dictionary of lists\n",
    "td2[0;`a] / row first;column second in a transposed dict of lists (follows convention of indexing order)"
   ]
  },
  {
   "cell_type": "markdown",
   "metadata": {},
   "source": [
    "- table: is a _flipped column dictionary_\n",
    "    - tables are first class entities in q\n",
    "    - syntactically, a table is a list of record dictionaries\n",
    "    - physically, a table is always stored as a collection of names columns"
   ]
  },
  {
   "cell_type": "code",
   "execution_count": null,
   "metadata": {},
   "outputs": [],
   "source": [
    "d2:`a`b!(10 20 30;1.1 2.2 3.3)\n",
    "td2:flip d2\n",
    "d2\n",
    "d2[`a]\n",
    "td2\n",
    "td2[0] / this first row in transposed column dictionary corresponds to a record of an sql table"
   ]
  },
  {
   "cell_type": "markdown",
   "metadata": {},
   "source": [
    "- another way to create a flipped column dictionary:\n",
    "    - square brackets signals that it is a table\n",
    "    - colon is a separator (another meaning next to assignment)\n",
    "    - column names are converted to symbol type implicitly"
   ]
  },
  {
   "cell_type": "code",
   "execution_count": null,
   "metadata": {},
   "outputs": [],
   "source": [
    "flip `C1`C2!(333 444 555;2.3 4.4 7.6)\n",
    "([] c1: 100 110 130;c2: 3.3 5.6 7.2) / used with keyed tables"
   ]
  },
  {
   "cell_type": "markdown",
   "metadata": {},
   "source": [
    "## 1.16 q-sql 101\n",
    "- different ways to operate on tables:\n",
    "    - perform dictionary operations on tables as column dictionaries\n",
    "    - use sql like q-sql syntax"
   ]
  },
  {
   "cell_type": "markdown",
   "metadata": {},
   "source": [
    "### select template\n",
    "- mimics sql select, but not entirely:\n",
    "    - sql operates on fields by a row-by-row basis\n",
    "    - kdb+ stores data in tables on a column-by column basis and\n",
    "        - q-sql select performs vector operations on column lists\n",
    "- it is not evaluated from right to left\n",
    "- : in select template is not assignment but a separation of the column name from the q expression\n",
    "- by: group by\n",
    "- where = where"
   ]
  },
  {
   "cell_type": "code",
   "execution_count": null,
   "metadata": {},
   "outputs": [],
   "source": [
    "t:([] c1:1000+til 6; c2:`a`b`c`a`b`a; c3:10*1+til 6)\n",
    "t\n",
    "select from t / select * from t\n",
    "select c1 from t / select c1 from t\n",
    "select c1, val:2*c3 from t / select c1, (2 * c3) as val from t\n",
    "select c1 from t where c1 > 1001 / same in sql\n",
    "select count c1, sum c3 from t\n",
    "select count c1, sum c3 by c2 from t / select c2, count(c1), sum(c3) from t group by c2\n",
    "select count c2 by ovrund:c3<=40 from t / you can group by on a computed column"
   ]
  },
  {
   "cell_type": "markdown",
   "metadata": {},
   "source": [
    "### update template\n",
    "- mimics UPDATE TABLE table_name SET column_name WHERE condition;\n"
   ]
  },
  {
   "cell_type": "code",
   "execution_count": null,
   "metadata": {},
   "outputs": [],
   "source": [
    "update c3:10*c3 from t where c2=`a / UPDATE t SET c3 = c3 * 100 WHERE c1 = 'a'\n",
    "update c3:10*c3 from `c2 xasc t where c2=`a / UPDATE t SET c3 = c3 * 100 WHERE c1 = 'a' + SELECT * FROM t ORDER BY c2 ACS"
   ]
  },
  {
   "cell_type": "code",
   "execution_count": null,
   "metadata": {},
   "outputs": [],
   "source": [
    "`c2 xasc t"
   ]
  },
  {
   "cell_type": "markdown",
   "metadata": {},
   "source": [
    "## 1.17. Trades Table"
   ]
  },
  {
   "cell_type": "markdown",
   "metadata": {},
   "source": [
    "- ? (roll, as infix): x?y generates x numbers from a list ranging from zero to y:\n",
    "- example codes:"
   ]
  },
  {
   "cell_type": "code",
   "execution_count": null,
   "metadata": {},
   "outputs": [],
   "source": [
    "5?10\n",
    "5?10.0\n",
    "5?`a`b`c`d`e`f`g\n",
    "5?(0b;1b)"
   ]
  },
  {
   "cell_type": "code",
   "execution_count": null,
   "metadata": {
    "ExecuteTime": {
     "end_time": "2019-02-05T17:44:28.312639000Z",
     "start_time": "2019-02-05T17:44:28.133Z"
    }
   },
   "outputs": [],
   "source": [
    " / creating the columns of the table separately\n",
    "dts:2015.01.01+1000000?31 / creating 1 million random dates in January of 2015.\n",
    "tms:1000000?24:00:00.000000000\n",
    "syms:1000000?`aapl`goog`ibm\n",
    "vols:10*1+1000000?1000\n",
    "pxs:90.0+(1000000?2001)%100\n",
    "trades:([] dt:dts;tm:tms;sym:syms;vol:vols;px:pxs)\n",
    "trades:`dt`tm xasc trades / sorted by colulmn dt first and then column tm\n",
    "5#trades / print only the first 5 rows of a table"
   ]
  },
  {
   "cell_type": "code",
   "execution_count": null,
   "metadata": {},
   "outputs": [],
   "source": [
    " / some q-sql code\n",
    "trades:update px:6*px from trades where sym=`goog\n",
    "trades:update px:2*px from trades where sym=`ibm"
   ]
  },
  {
   "cell_type": "code",
   "execution_count": null,
   "metadata": {},
   "outputs": [],
   "source": [
    "select avg px, avg vol by sym from trades"
   ]
  },
  {
   "cell_type": "code",
   "execution_count": null,
   "metadata": {},
   "outputs": [],
   "source": [
    "select min px, max px by sym from trades"
   ]
  },
  {
   "cell_type": "code",
   "execution_count": null,
   "metadata": {},
   "outputs": [],
   "source": [
    "/\n",
    "helper functions for bucketed weighted average calculations\n",
    "- x xbar y (rounding): returns the numeric y rounded down to the nearest multiple of integer x\n",
    "    use case: creating intervals in a q-sql query\n",
    "- l1 wavg l2 (weighted average): left operands = weights, right operands: values\n",
    "\\\n",
    "3 xbar til 15\n",
    "1 2 3 wavg 100 100 500\n",
    "\n",
    " / computing the 100-millisecond bucketed volume-weighted average price (VWAP)\n",
    "select vwap:vol wavg px by sym,bkt:100000000 xbar tm from trades\n",
    " / the result is the maximum profit realizable over the trading period"
   ]
  },
  {
   "cell_type": "code",
   "execution_count": null,
   "metadata": {},
   "outputs": [],
   "source": [
    " / find the largest difference in price where the minimum precedes the maximum:\n",
    "select max px-mins px by sym from trades\n",
    "select pxmin:min px by sym,dt,tm,px from trades where px = min px / find date and time to buy and sell"
   ]
  },
  {
   "cell_type": "code",
   "execution_count": null,
   "metadata": {},
   "outputs": [],
   "source": [
    " / find the maximum of the differences between the current price and the minimum up to that point\n",
    "max trades[`px] - mins trades[`px]\n",
    " / this would give the maximum value regardless of which occurred earlier: the maximum or the minimum\n",
    "(max trades[`px]) - mins trades[`px]"
   ]
  },
  {
   "cell_type": "markdown",
   "metadata": {},
   "source": [
    "## 1.18. [File I/O 101](https://code.kx.com/q4m3/1_Q_Shock_and_Awe/#118-file-io-101)\n",
    "#### [More on file handling](https://code.kx.com/q4m3/11_IO/)"
   ]
  },
  {
   "cell_type": "markdown",
   "metadata": {},
   "source": [
    "data types:\n",
    "- char\n",
    "    - primitive data type\n",
    "    - single ASCII character in double quotes\n",
    "- string:\n",
    "    - a simple list of characters\n",
    "    - not an atomic data type\n",
    "    - not a first class entity of the q language\n",
    "    - different from symbol atomic type: count \"string\" has a length of the number of characters in it, symbol does not"
   ]
  },
  {
   "cell_type": "code",
   "execution_count": 1,
   "metadata": {},
   "outputs": [
    {
     "data": {
      "text/plain": [
       "\"a\"\n"
      ]
     },
     "execution_count": 1,
     "metadata": {},
     "output_type": "execute_result"
    },
    {
     "data": {
      "text/plain": [
       "\" \"\n"
      ]
     },
     "execution_count": 1,
     "metadata": {},
     "output_type": "execute_result"
    },
    {
     "data": {
      "text/plain": [
       "\"_\"\n"
      ]
     },
     "execution_count": 1,
     "metadata": {},
     "output_type": "execute_result"
    },
    {
     "data": {
      "text/plain": [
       "6\n"
      ]
     },
     "execution_count": 1,
     "metadata": {},
     "output_type": "execute_result"
    },
    {
     "data": {
      "text/plain": [
       "\"stringstring\"\n"
      ]
     },
     "execution_count": 1,
     "metadata": {},
     "output_type": "execute_result"
    },
    {
     "data": {
      "text/plain": [
       "1\n"
      ]
     },
     "execution_count": 1,
     "metadata": {},
     "output_type": "execute_result"
    }
   ],
   "source": [
    "\"a\"\n",
    "\" \"\n",
    "\"_\"\n",
    "str:(\"s\";\"t\";\"r\";\"i\";\"n\";\"g\")\n",
    "count str\n",
    "(2*(count str))#str\n",
    "count `string"
   ]
  },
  {
   "cell_type": "markdown",
   "metadata": {},
   "source": [
    "#### Writing binary files with set and get\n",
    "- no instantiation of readers, writers or serializers\n",
    "- \"symbolic handles\": a simbolic file handle is a symbol of a particular form that represents a particular resource on the file system\n",
    "- notation of symbolic handels: `: (backtick + colon)` `:path/filename.ext\n",
    "- set: save / write function, which saves the data in a serialized binary data file (if success, echos symbolic file handle to stdout)\n",
    "- get: read function to read in a file (if successful, echos nothing)"
   ]
  },
  {
   "cell_type": "code",
   "execution_count": null,
   "metadata": {},
   "outputs": [],
   "source": [
    "tio:([] c1:`a`b`c; c2:1.1 2.2 3.3)\n",
    "tio\n",
    "`:/home/akincsei/Downloads/tio2 set tio"
   ]
  },
  {
   "cell_type": "code",
   "execution_count": null,
   "metadata": {},
   "outputs": [],
   "source": [
    "gee:get `:tio"
   ]
  },
  {
   "cell_type": "code",
   "execution_count": null,
   "metadata": {},
   "outputs": [],
   "source": [
    "gee"
   ]
  },
  {
   "cell_type": "markdown",
   "metadata": {},
   "source": [
    "#### [Handling txt files](http://178.62.21.29/q/ref/filenumbers/#0-text-files)\n",
    "- saving strings to text files: \"0:\" operator\n",
    "- syntax: symbolic file handle 0: operator list of strings (chars)\n",
    "- 0: will write the elements of the string list in separate lines in the file\n",
    "- reading text files to strings: read0 `simbolic_file_handle\n",
    "- read0 will read the lines of a txt file as elements of a string list"
   ]
  },
  {
   "cell_type": "code",
   "execution_count": null,
   "metadata": {},
   "outputs": [],
   "source": [
    "`:life.txt 0: (\"Meaning\";\"of\";\"life\")"
   ]
  },
  {
   "cell_type": "code",
   "execution_count": null,
   "metadata": {},
   "outputs": [],
   "source": [
    "lf:read0 `:life.txt\n",
    "lf"
   ]
  },
  {
   "cell_type": "markdown",
   "metadata": {},
   "source": [
    "#### [Handling csv files](http://178.62.21.29/q/ref/filenumbers/#load-csv)\n",
    "- three different overloads of the 0: operator\n",
    "    1. prepares the tables as text\n",
    "        - q handles the quoting and escaping of special characters\n",
    "    2. writes list of strings to text files\n",
    "    3. parsing formatted csv into q table"
   ]
  },
  {
   "cell_type": "code",
   "execution_count": null,
   "metadata": {},
   "outputs": [],
   "source": [
    " / 1. preparing the tables as list of strings\n",
    "csv 0: tio"
   ]
  },
  {
   "cell_type": "code",
   "execution_count": null,
   "metadata": {},
   "outputs": [],
   "source": [
    " / 2. writing the string to a csv file\n",
    "`tio.csv 0: csv 0: tio"
   ]
  },
  {
   "cell_type": "code",
   "execution_count": null,
   "metadata": {},
   "outputs": [],
   "source": [
    " / reading .csv file into memory as list of strings\n",
    "read0 `tio.csv"
   ]
  },
  {
   "cell_type": "code",
   "execution_count": null,
   "metadata": {},
   "outputs": [],
   "source": [
    "/\n",
    "3. parsing formatted csv directly into q table\n",
    "- first argument: data type of columns (S: String, F:float)\n",
    "- second argument:\n",
    "    - type of delimiter (,)\n",
    "    - enlist: means the first line of our csv file contains headers\n",
    "\\\n",
    "tio_read:(\"SF\"; enlist \",\") 0: `tio.csv\n",
    "tio_read"
   ]
  },
  {
   "cell_type": "markdown",
   "metadata": {},
   "source": [
    "## 1.19. [Interprocess communication: synchronous callbacks](https://code.kx.com/q4m3/1_Q_Shock_and_Awe/#119-interprocess-communication-101)"
   ]
  },
  {
   "cell_type": "markdown",
   "metadata": {},
   "source": [
    "Server side:\n",
    "- opening a port \\p 30210\n",
    "- \\p checking if port is open\n",
    "- assign the port to a host: It has the same syntax as file handling:\n",
    "    - `:localhost:30210\n",
    "\n",
    "Client side:\n",
    "- open connection on client and assign it to a variable:\n",
    "    h:hopen `:localhost:30210\n",
    "    calling the the h variable / function handles a synchronous request to the server\n",
    "    variable h is called an open handle: it holds a function to send and receive requests to / from the server\n",
    "    e.g.: h \"4*6\" sends the string to the server which calculates it and sends it back\n",
    "- close connection: hclose h\n",
    "Synchronous means that the client blocks until receives the response from the server"
   ]
  },
  {
   "cell_type": "markdown",
   "metadata": {},
   "source": [
    "Send expressions to or call functions on server:\n",
    "h (`func_name;param1;param2...)"
   ]
  },
  {
   "cell_type": "markdown",
   "metadata": {},
   "source": [
    "## 1.20. [Example: Asynchronous callbacks](https://code.kx.com/q4m3/1_Q_Shock_and_Awe/#120-example-asynchronous-callbacks)"
   ]
  },
  {
   "cell_type": "markdown",
   "metadata": {},
   "source": [
    "- in case of anychronous callbacks the client does not block while it waits for the server's response: the application of the open handle returns immediately\n",
    "- there are no built-in callbacks, but we can create our own\n",
    "- calling the the \"neg h\" function handles an asynchronous request to the server\n",
    "    - (neg h) (`remote_function;param1;param2)\n",
    "    - (neg .z.w): asynchronously calls back the sender (.z.w: \"who is?\")"
   ]
  },
  {
   "cell_type": "code",
   "execution_count": null,
   "metadata": {},
   "outputs": [],
   "source": [
    "rsvp:{[arg;cb] show arg; (neg .z.w) (cb; 43); show `done;} / function to call on server.\n",
    " / (neg .z.w)(callback_name;callback_param) is the real callback function\n",
    "echo:{show x} / function to call back on client\n",
    "(neg h)(`rsvp;\"waiting for callback\";`echo)"
   ]
  },
  {
   "cell_type": "markdown",
   "metadata": {},
   "source": [
    "## 1.21. [Websockets 101](https://code.kx.com/q4m3/1_Q_Shock_and_Awe/#121-websockets-101)"
   ]
  },
  {
   "cell_type": "markdown",
   "metadata": {},
   "source": [
    "- [WebSockets](https://en.wikipedia.org/wiki/WebSocket) can be used to put a browser front end on traditional applications, replacing both the web server and proprietary GUI packages\n",
    "- The key idea of WebSockets:\n",
    "    - the client makes an initial HTTP request to upgrade the protocol.\n",
    "    - If the request is accepted, subsequent communication occurs over TCP/IP sockets protocol.\n",
    "    - Once the WebSockets connection is made, either the client or server can initiate messaging."
   ]
  },
  {
   "cell_type": "code",
   "execution_count": null,
   "metadata": {},
   "outputs": [],
   "source": [
    "\\p 5042 / open port\n",
    "\n",
    "/\n",
    ".z.ws: web socket handler\n",
    "sets the ws handler to a function that will be called on receipt of each message from the browser\n",
    "-8!\"answer\" serializes the answer\n",
    "\\\n",
    ".z.ws:{0N!-9!x; neg[.z.w] -8!42}"
   ]
  },
  {
   "cell_type": "code",
   "execution_count": null,
   "metadata": {
    "ExecuteTime": {
     "end_time": "2019-02-05T18:26:22.606033000Z",
     "start_time": "2019-02-05T18:26:22.603Z"
    }
   },
   "outputs": [],
   "source": [
    " / broken yahoo link for drawing a chart (ws101.q)"
   ]
  },
  {
   "cell_type": "markdown",
   "metadata": {},
   "source": [
    "# Function collection"
   ]
  },
  {
   "cell_type": "code",
   "execution_count": null,
   "metadata": {
    "ExecuteTime": {
     "end_time": "2019-02-05T17:45:45.137909000Z",
     "start_time": "2019-02-05T17:45:45.134Z"
    }
   },
   "outputs": [],
   "source": [
    "fact:{[n] (*/) 1+til n} / factorial without recursion\n",
    "fact_rec:{$[x=0;1;x*.z.s[x-1]]} / factorial with recursion\n",
    "fib:{[n;sig] n {x,sum -2#x}/ sig} / fibonacci function without recursion"
   ]
  },
  {
   "cell_type": "code",
   "execution_count": null,
   "metadata": {
    "ExecuteTime": {
     "end_time": "2019-02-05T17:47:50.088951000Z",
     "start_time": "2019-02-05T17:47:50.086Z"
    }
   },
   "outputs": [],
   "source": [
    "fact 30"
   ]
  },
  {
   "cell_type": "code",
   "execution_count": null,
   "metadata": {
    "ExecuteTime": {
     "end_time": "2019-02-05T17:46:38.120752000Z",
     "start_time": "2019-02-05T17:46:38.115Z"
    }
   },
   "outputs": [],
   "source": [
    "fact_rec 30"
   ]
  }
 ],
 "metadata": {
  "kernelspec": {
   "display_name": "Q (kdb+)",
   "language": "q",
   "name": "qpk"
  },
  "language_info": {
   "file_extension": ".q",
   "mimetype": "text/x-q",
   "name": "q",
   "version": "3.6.0"
  },
  "toc": {
   "base_numbering": 1,
   "nav_menu": {},
   "number_sections": true,
   "sideBar": true,
   "skip_h1_title": false,
   "title_cell": "Table of Contents",
   "title_sidebar": "Contents",
   "toc_cell": false,
   "toc_position": {},
   "toc_section_display": true,
   "toc_window_display": false
  },
  "varInspector": {
   "cols": {
    "lenName": 16,
    "lenType": 16,
    "lenVar": 40
   },
   "kernels_config": {
    "python": {
     "delete_cmd_postfix": "",
     "delete_cmd_prefix": "del ",
     "library": "var_list.py",
     "varRefreshCmd": "print(var_dic_list())"
    },
    "r": {
     "delete_cmd_postfix": ") ",
     "delete_cmd_prefix": "rm(",
     "library": "var_list.r",
     "varRefreshCmd": "cat(var_dic_list()) "
    }
   },
   "types_to_exclude": [
    "module",
    "function",
    "builtin_function_or_method",
    "instance",
    "_Feature"
   ],
   "window_display": false
  }
 },
 "nbformat": 4,
 "nbformat_minor": 2
}
