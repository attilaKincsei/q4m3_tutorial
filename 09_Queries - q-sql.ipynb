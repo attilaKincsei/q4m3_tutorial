{
 "cells": [
  {
   "cell_type": "markdown",
   "metadata": {},
   "source": [
    "# 9. Queries - q-sql"
   ]
  },
  {
   "cell_type": "markdown",
   "metadata": {},
   "source": [
    "some text here, maybe telatex can parse this"
   ]
  },
  {
   "cell_type": "markdown",
   "metadata": {},
   "source": [
    "\\l data/mysp.q"
   ]
  },
  {
   "cell_type": "code",
   "execution_count": null,
   "metadata": {},
   "outputs": [],
   "source": [
    "mktrades:{[tickers; sz]\n",
    "    dt:2015.01.01+sz?31;\n",
    "    tm:sz?24:00:00.000;\n",
    "    sym:sz?tickers;\n",
    "    qty:10*1+sz?1000;\n",
    "    px:90.0+(sz?2001)%100;\n",
    "    t:([] dt; tm; sym; qty; px);\n",
    "    t:`dt`tm xasc t;\n",
    "    t:update px:6*px from t where sym=`goog;\n",
    "    t:update px:2*px from t where sym=`ibm;\n",
    "    t}"
   ]
  },
  {
   "cell_type": "code",
   "execution_count": null,
   "metadata": {},
   "outputs": [],
   "source": [
    "trades:mktrades[`aapl`googl`ibm`fb`tmobil`amazn`ms; 10]"
   ]
  },
  {
   "cell_type": "code",
   "execution_count": null,
   "metadata": {},
   "outputs": [],
   "source": [
    "trades"
   ]
  },
  {
   "cell_type": "markdown",
   "metadata": {},
   "source": [
    "- [The execution order of sql queries](https://blog.jooq.org/2016/12/09/a-beginners-guide-to-the-true-order-of-sql-operations/):\n",
    "    - FROM (all the join clauses belong here)\n",
    "    - WHERE\n",
    "    - GROUP BY\n",
    "    - HAVING\n",
    "    - WINDOW\n",
    "    - SELECT\n",
    "    - DISTINCT\n",
    "    - UNION, INTERSECT, EXCEPT\n",
    "    - ORDER BY\n",
    "    - OFFSET\n",
    "    - LIMIT, FETCH, TOP"
   ]
  },
  {
   "cell_type": "markdown",
   "metadata": {},
   "source": [
    "## 9.1. Inserting records"
   ]
  },
  {
   "cell_type": "markdown",
   "metadata": {},
   "source": [
    "- Syntax rules for amend (,:):\n",
    "    - pass-by-value only: it can be used only with global tables\n",
    "    - despite pbv: in-place modification\n",
    "    - accepts only full list syntax\n",
    "- Syntax rules for insert:\n",
    "    - pass-by-name only\n",
    "    - in-place modification\n",
    "    - accepts only full list syntax"
   ]
  },
  {
   "cell_type": "code",
   "execution_count": null,
   "metadata": {},
   "outputs": [],
   "source": [
    "s"
   ]
  },
  {
   "cell_type": "code",
   "execution_count": null,
   "metadata": {},
   "outputs": [],
   "source": [
    "s,:(`s6; `kincsei; 40; `budapest)"
   ]
  },
  {
   "cell_type": "code",
   "execution_count": null,
   "metadata": {},
   "outputs": [],
   "source": [
    "s"
   ]
  },
  {
   "cell_type": "code",
   "execution_count": null,
   "metadata": {},
   "outputs": [],
   "source": [
    "`s insert (`s7; `kincsei; 40; `budapest)"
   ]
  },
  {
   "cell_type": "code",
   "execution_count": null,
   "metadata": {},
   "outputs": [],
   "source": [
    "delete from `s where name=`kincsei"
   ]
  },
  {
   "cell_type": "code",
   "execution_count": null,
   "metadata": {},
   "outputs": [],
   "source": [
    "s"
   ]
  },
  {
   "cell_type": "markdown",
   "metadata": {},
   "source": [
    "### 9.1.2. Bulk columnar insert"
   ]
  },
  {
   "cell_type": "markdown",
   "metadata": {},
   "source": [
    "- You can insert multiple records but only as a list of __COLUMNS__!!"
   ]
  },
  {
   "cell_type": "code",
   "execution_count": null,
   "metadata": {},
   "outputs": [],
   "source": [
    "`s insert ((`s6;`s7);(`bincsei; `kincsei);(11; 40);(`colcata; `budapest))"
   ]
  },
  {
   "cell_type": "code",
   "execution_count": null,
   "metadata": {},
   "outputs": [],
   "source": [
    "s"
   ]
  },
  {
   "cell_type": "markdown",
   "metadata": {},
   "source": [
    "### 9.1.4. Insert and foreign keys"
   ]
  },
  {
   "cell_type": "markdown",
   "metadata": {},
   "source": [
    "- Defining a foreign key in a table. Syntax:\n",
    "    - ([] primaryKeyColumnNameInReferencedTable:`referencedTableNameAsSymbol$values list; other columns)\n",
    "- After this, you can insert only keys that referenced primary key columns contains"
   ]
  },
  {
   "cell_type": "code",
   "execution_count": null,
   "metadata": {},
   "outputs": [],
   "source": [
    "kt:([eid:1001 1002 1003] name:`Dent`Beeblebrox`Prefect; iq:98 42 126)\n",
    "tdetails:([] eid:`kt$1003 1002 1001 1002 1001; sc:126 36 92 39 98)"
   ]
  },
  {
   "cell_type": "code",
   "execution_count": null,
   "metadata": {},
   "outputs": [],
   "source": [
    "kt\n",
    "tdetails"
   ]
  },
  {
   "cell_type": "code",
   "execution_count": null,
   "metadata": {},
   "outputs": [],
   "source": [
    "`tdetails insert 1001 133"
   ]
  },
  {
   "cell_type": "code",
   "execution_count": null,
   "metadata": {},
   "outputs": [],
   "source": [
    "tdetails"
   ]
  },
  {
   "cell_type": "markdown",
   "metadata": {},
   "source": [
    "### 9.1.5. Insert into keyed tables"
   ]
  },
  {
   "cell_type": "markdown",
   "metadata": {},
   "source": [
    "- You can only insert a row only if the table does not contain the would-be-inserted value"
   ]
  },
  {
   "cell_type": "markdown",
   "metadata": {},
   "source": [
    "## 9.2. Upsert"
   ]
  },
  {
   "cell_type": "markdown",
   "metadata": {},
   "source": [
    "- Upsert:\n",
    "    - Inserts if private key not among existing private keys\n",
    "    - Updates if private key already among existing private keys\n",
    "- Reference type both: it can be used with global, local and anonymous tables\n",
    "    - table pass-by-value: view, does not modify table\n",
    "    - table pass-by-name: in-place modification\n",
    "- For bulk insert, user rows instead of columns"
   ]
  },
  {
   "cell_type": "code",
   "execution_count": null,
   "metadata": {},
   "outputs": [],
   "source": [
    "s upsert (`s19; `pozsi; 111; `harkany)"
   ]
  },
  {
   "cell_type": "markdown",
   "metadata": {},
   "source": [
    "- You can upsert into serialized and splayed tables:\n",
    "    - by using a file handle instead of table name"
   ]
  },
  {
   "cell_type": "markdown",
   "metadata": {},
   "source": [
    "## 9.3. The select template"
   ]
  },
  {
   "cell_type": "markdown",
   "metadata": {},
   "source": [
    "__NOTES IN MS & ON PAPER__"
   ]
  },
  {
   "cell_type": "code",
   "execution_count": null,
   "metadata": {},
   "outputs": [],
   "source": [
    "aaa:3?`3"
   ]
  },
  {
   "cell_type": "code",
   "execution_count": null,
   "metadata": {},
   "outputs": [],
   "source": [
    "aaa"
   ]
  },
  {
   "cell_type": "code",
   "execution_count": null,
   "metadata": {},
   "outputs": [],
   "source": [
    "mytb:([id:100+til 10] name:10?`5;iq:10?80+til 40)"
   ]
  },
  {
   "cell_type": "code",
   "execution_count": null,
   "metadata": {},
   "outputs": [],
   "source": [
    "mytb"
   ]
  },
  {
   "cell_type": "code",
   "execution_count": null,
   "metadata": {},
   "outputs": [],
   "source": [
    "select[(2;0W)] from mytb"
   ]
  },
  {
   "cell_type": "markdown",
   "metadata": {},
   "source": [
    "### 9.3.3. Filtering with where"
   ]
  },
  {
   "cell_type": "code",
   "execution_count": null,
   "metadata": {},
   "outputs": [],
   "source": [
    "select from mytb where[like[name;\"*oo*\"]] / in SQL: where name like '*dd*'"
   ]
  },
  {
   "cell_type": "markdown",
   "metadata": {},
   "source": [
    "- i is like serial in SQL. you can use it to select a range of records from a table based on their index"
   ]
  },
  {
   "cell_type": "code",
   "execution_count": null,
   "metadata": {},
   "outputs": [],
   "source": [
    "select from mytb where i within 3 5 / selecting a range based on implicit index of table"
   ]
  },
  {
   "cell_type": "markdown",
   "metadata": {},
   "source": [
    "#### 9.3.3.3. multiple where subhrases"
   ]
  },
  {
   "cell_type": "markdown",
   "metadata": {},
   "source": [
    "- subphrases are sequenced from left-to-right, their order affects the actual processing.\n",
    "- the net effect is a progressively narrowed sublist of rows to consider.\n",
    "- Consequently, there is often an optimal order that significantly narrows in the first one or few subphrases -> reduces the amount of processing.\n",
    "    - Place the most limiting where subphrase first, followed by others in decreasing strictness"
   ]
  },
  {
   "cell_type": "code",
   "execution_count": null,
   "metadata": {},
   "outputs": [],
   "source": [
    "select from mytb where[like[name;\"*j*\"]&iq>100]"
   ]
  },
  {
   "cell_type": "code",
   "execution_count": null,
   "metadata": {},
   "outputs": [],
   "source": [
    "select from mytb where[like[name;\"*j*\"]|iq>100]"
   ]
  },
  {
   "cell_type": "markdown",
   "metadata": {},
   "source": [
    "#### __Nested columns in where__"
   ]
  },
  {
   "cell_type": "markdown",
   "metadata": {},
   "source": [
    "- Use one of the maps iterators: each('), each left(\\:), each right (/:), each parallel, each prior (':), case ('                                                                                                                                                                                                                                                                                                                                                                                                                                                                                                  )\n",
    "    - cross: each left and each right combined \\:/:"
   ]
  },
  {
   "cell_type": "code",
   "execution_count": null,
   "metadata": {},
   "outputs": [],
   "source": [
    "t:([] f:1.1 2.2 3.3; s:(\"abc\";enlist \"d\";\"ef\"))"
   ]
  },
  {
   "cell_type": "code",
   "execution_count": null,
   "metadata": {},
   "outputs": [],
   "source": [
    "select from t where s=\"ef\" / will fail"
   ]
  },
  {
   "cell_type": "code",
   "execution_count": null,
   "metadata": {},
   "outputs": [],
   "source": [
    "select from t where s~\"ef\""
   ]
  },
  {
   "cell_type": "code",
   "execution_count": null,
   "metadata": {},
   "outputs": [],
   "source": [
    "select from t where s~\\:\"ef\""
   ]
  },
  {
   "cell_type": "code",
   "execution_count": null,
   "metadata": {},
   "outputs": [],
   "source": [
    "select from t where \"ef\"~/:s"
   ]
  },
  {
   "cell_type": "code",
   "execution_count": null,
   "metadata": {},
   "outputs": [],
   "source": [
    "1 2 3 in'(1 0 1;til 100;5 6 7)"
   ]
  },
  {
   "cell_type": "markdown",
   "metadata": {},
   "source": [
    "#### __9.3.3.5. fby in where__"
   ]
  },
  {
   "cell_type": "markdown",
   "metadata": {},
   "source": [
    "- fby is the equivalent of HAVING in SQL\n",
    "- fby returns the vaue of the aggregate across each group"
   ]
  },
  {
   "cell_type": "markdown",
   "metadata": {},
   "source": [
    "- syntax: (f_agg;expr_col) fby colname\n",
    "    - f_agg: aggregate function\n",
    "    - expr_col: column expression on which f_agg is applied\n",
    "    - colname: is the column to be grouped"
   ]
  },
  {
   "cell_type": "markdown",
   "metadata": {},
   "source": [
    "- __what fby does__: Since it returns the value of the aggregate across each group, you simply compare the target column to the fby result to get a boolean vector with 1b at precisely the records whose fields match the aggregate on the group."
   ]
  },
  {
   "cell_type": "code",
   "execution_count": null,
   "metadata": {},
   "outputs": [],
   "source": [
    "p"
   ]
  },
  {
   "cell_type": "code",
   "execution_count": null,
   "metadata": {},
   "outputs": [],
   "source": [
    "select from p where weight=max weight"
   ]
  },
  {
   "cell_type": "code",
   "execution_count": null,
   "metadata": {},
   "outputs": [],
   "source": [
    "select max weight by city from p"
   ]
  },
  {
   "cell_type": "code",
   "execution_count": null,
   "metadata": {},
   "outputs": [],
   "source": [
    "select name, color, max weight by city from p"
   ]
  },
  {
   "cell_type": "code",
   "execution_count": null,
   "metadata": {},
   "outputs": [],
   "source": [
    "select first name, first color, max weight by city from p"
   ]
  },
  {
   "cell_type": "code",
   "execution_count": null,
   "metadata": {},
   "outputs": [],
   "source": [
    "select from p where weight=(max;weight) fby city"
   ]
  },
  {
   "cell_type": "code",
   "execution_count": null,
   "metadata": {},
   "outputs": [],
   "source": [
    "select from p where weight=fby[(max;weight);city]"
   ]
  },
  {
   "cell_type": "markdown",
   "metadata": {},
   "source": [
    "- The right solution with multiple where phrases:"
   ]
  },
  {
   "cell_type": "code",
   "execution_count": null,
   "metadata": {},
   "outputs": [],
   "source": [
    "select from p where weight=fby[(max;weight);city],color=`blue"
   ]
  },
  {
   "cell_type": "markdown",
   "metadata": {},
   "source": [
    "- __Grouping on multiple columns__\n",
    "    - encapsulate multiple columns in an anonymous table"
   ]
  },
  {
   "cell_type": "code",
   "execution_count": null,
   "metadata": {},
   "outputs": [],
   "source": [
    "select from p where weight=fby[(max;weight);([] city;color)]"
   ]
  },
  {
   "cell_type": "markdown",
   "metadata": {},
   "source": [
    "### __9.3.4. Grouping and aggregation__"
   ]
  },
  {
   "cell_type": "markdown",
   "metadata": {},
   "source": [
    "- grouping and aggregation is performed together in SQL\n",
    "- grouping and aggregation is performed independently in q-sql"
   ]
  },
  {
   "cell_type": "markdown",
   "metadata": {},
   "source": [
    "#### 9.3.4.1. Aggregation without grouping"
   ]
  },
  {
   "cell_type": "markdown",
   "metadata": {},
   "source": [
    "- aggregation by one column -> result atom\n",
    "- aggregation by multiple columns -> result a table with a single record"
   ]
  },
  {
   "cell_type": "code",
   "execution_count": null,
   "metadata": {},
   "outputs": [],
   "source": [
    "sp"
   ]
  },
  {
   "cell_type": "code",
   "execution_count": null,
   "metadata": {},
   "outputs": [],
   "source": [
    "select sum qty from sp"
   ]
  },
  {
   "cell_type": "code",
   "execution_count": null,
   "metadata": {},
   "outputs": [],
   "source": [
    "select total:sum qty, mean:avg qty from sp"
   ]
  },
  {
   "cell_type": "markdown",
   "metadata": {},
   "source": [
    "#### 9.3.4.2. Grouping without aggregation"
   ]
  },
  {
   "cell_type": "markdown",
   "metadata": {},
   "source": [
    "- similar to GROUP BY in SQL\n",
    "- the _by_ phrase groups rows having common values in specified columns\n",
    "- the result of a by phrase query is a __keyed table__ whise key columns are in the by phrase\n",
    "- the by phrase is a generalization of the _group_ function on lists\n",
    "- result: nested columns\n",
    "- not advised to do this. nested columns are:\n",
    "    - slower\n",
    "    - more cumbersome to work with (need adverbs)\n",
    "    - unnecessary\n",
    "- _ungroup_ reverses the nested result of grouping without aggregation (cannot be used on lists groupped with _group_)"
   ]
  },
  {
   "cell_type": "code",
   "execution_count": null,
   "metadata": {},
   "outputs": [],
   "source": [
    "s"
   ]
  },
  {
   "cell_type": "code",
   "execution_count": null,
   "metadata": {},
   "outputs": [],
   "source": [
    "select by s from sp / by not specifying any non-group by columns, the last elements of these columns are selected"
   ]
  },
  {
   "cell_type": "code",
   "execution_count": null,
   "metadata": {},
   "outputs": [],
   "source": [
    "spGrouped:select p,qty by s from sp"
   ]
  },
  {
   "cell_type": "code",
   "execution_count": null,
   "metadata": {},
   "outputs": [],
   "source": [
    "select p,qty by s from sp"
   ]
  },
  {
   "cell_type": "code",
   "execution_count": null,
   "metadata": {},
   "outputs": [],
   "source": [
    "`s xgroup sp / is the same as the above select phrase except it is not ordered by the group by columns"
   ]
  },
  {
   "cell_type": "code",
   "execution_count": null,
   "metadata": {},
   "outputs": [],
   "source": [
    "select p,total:sum qty by s from sp"
   ]
  },
  {
   "cell_type": "code",
   "execution_count": null,
   "metadata": {},
   "outputs": [],
   "source": [
    "ungroup spGrouped"
   ]
  },
  {
   "cell_type": "code",
   "execution_count": null,
   "metadata": {},
   "outputs": [],
   "source": [
    "groupped:group 1 3 2 5 7 1 3 5 7 2 1"
   ]
  },
  {
   "cell_type": "markdown",
   "metadata": {},
   "source": [
    "#### 9.3.4.3. Grouping with aggregation"
   ]
  },
  {
   "cell_type": "markdown",
   "metadata": {},
   "source": [
    "- usual usage of _by_\n",
    "- use case: aggregate col1 by col2 in _the by_ phrase\n",
    "- result: a keyed table whose keys are the values of the grouped _by_ column\n",
    "- grouping on multiple columns -> a table with composite keys"
   ]
  },
  {
   "cell_type": "code",
   "execution_count": null,
   "metadata": {},
   "outputs": [],
   "source": [
    "select total:sum qty by s from sp"
   ]
  },
  {
   "cell_type": "code",
   "execution_count": null,
   "metadata": {},
   "outputs": [],
   "source": [
    "select total:sum qty by s,p from sp"
   ]
  },
  {
   "cell_type": "markdown",
   "metadata": {},
   "source": [
    "- you can group on computed columns (a _by_ subphrase can contain a q expression)\n",
    "    - and use the computed column as a new column in the query\n",
    "- a frequent expression is xbar which can be used to create intervals from a list containing numeric atoms"
   ]
  },
  {
   "cell_type": "code",
   "execution_count": null,
   "metadata": {},
   "outputs": [],
   "source": [
    "trade:([] c1:00:00:00.000+til 1000000;c2:1000000?`a`b;c3:1000000?100.)"
   ]
  },
  {
   "cell_type": "code",
   "execution_count": null,
   "metadata": {},
   "outputs": [],
   "source": [
    "trade"
   ]
  },
  {
   "cell_type": "code",
   "execution_count": null,
   "metadata": {},
   "outputs": [],
   "source": [
    "select avg c3 by 100 xbar c1 from trade"
   ]
  },
  {
   "cell_type": "markdown",
   "metadata": {},
   "source": [
    "## 9.4. __The _exec_ template__"
   ]
  },
  {
   "cell_type": "markdown",
   "metadata": {},
   "source": [
    "- the syntax of the exed template is identical to that of select:\n",
    "    - exec <p_s> by <p_b> from t_exp where <p_w>\n",
    "- the selut type of exec depends on the number of columns in its select phrase\n",
    "    - one columns yields a list\n",
    "    - two or more columns yields a dictionary\n",
    "- the resulting columns lists do not have to be rectangular!!!\n",
    "- when selecting only one column with exec, you can still place constraints on other columns"
   ]
  },
  {
   "cell_type": "markdown",
   "metadata": {},
   "source": [
    "## 9.5. The update template"
   ]
  },
  {
   "cell_type": "markdown",
   "metadata": {},
   "source": [
    "- syntax (identical to select): update <p_u> <by p_b> from t_exp where <p_w>"
   ]
  },
  {
   "cell_type": "markdown",
   "metadata": {},
   "source": [
    "- upsert semantics:\n",
    "    - if the column exists, it is updated (you can omit the column names)\n",
    "    - if it does not, it is inserted\n",
    "- column can be upserted with specifying only one scalar\n",
    "- If you __add a new column__ in update with a where phrase, the fields in the non-selected rows will have the __null value__ of the appropriate type."
   ]
  },
  {
   "cell_type": "code",
   "execution_count": null,
   "metadata": {},
   "outputs": [],
   "source": [
    "t:([] c1:`a`b`c; c2:10 20 30)"
   ]
  },
  {
   "cell_type": "code",
   "execution_count": null,
   "metadata": {},
   "outputs": [],
   "source": [
    "t"
   ]
  },
  {
   "cell_type": "code",
   "execution_count": null,
   "metadata": {},
   "outputs": [],
   "source": [
    "update c3:42 from t / table is passed by value -> it is not modified"
   ]
  },
  {
   "cell_type": "code",
   "execution_count": null,
   "metadata": {},
   "outputs": [],
   "source": [
    "update c3:42 from `t / table is passed by name -> it is modified in-place"
   ]
  },
  {
   "cell_type": "code",
   "execution_count": null,
   "metadata": {},
   "outputs": [],
   "source": [
    "update c3+10 from t"
   ]
  },
  {
   "cell_type": "code",
   "execution_count": null,
   "metadata": {},
   "outputs": [],
   "source": [
    "update c4:10 from `t where c2>20"
   ]
  },
  {
   "cell_type": "code",
   "execution_count": null,
   "metadata": {},
   "outputs": [],
   "source": [
    "update c5:101 from `t where c1=`c"
   ]
  },
  {
   "cell_type": "code",
   "execution_count": null,
   "metadata": {},
   "outputs": [],
   "source": [
    "update c5:303 from `t where null c5"
   ]
  },
  {
   "cell_type": "markdown",
   "metadata": {},
   "source": [
    "### 9.5.2. Update-by"
   ]
  },
  {
   "cell_type": "code",
   "execution_count": null,
   "metadata": {},
   "outputs": [],
   "source": [
    "update avg c5, avg c4 by c1 from t"
   ]
  },
  {
   "cell_type": "code",
   "execution_count": null,
   "metadata": {},
   "outputs": [],
   "source": [
    "update cumqty:sums qty by s from sp / update with aggreagate and uniform functions updates all fields of the column"
   ]
  },
  {
   "cell_type": "markdown",
   "metadata": {},
   "source": [
    "## 9.6. The delete template"
   ]
  },
  {
   "cell_type": "markdown",
   "metadata": {},
   "source": [
    "- reference: both pass-by-value and pass-by-name can be used\n",
    "- both rows and columns can be deleted\n",
    "- syntax: simplified select\n",
    "    - delete <p_cols> from t_exp <where p_w>\n",
    "- pass by name have to be used to modify table in-place"
   ]
  },
  {
   "cell_type": "markdown",
   "metadata": {},
   "source": [
    "- use __delete instead of select__ if you want to select a lot of columns\n",
    "    - but use pass by value!!!"
   ]
  },
  {
   "cell_type": "code",
   "execution_count": null,
   "metadata": {},
   "outputs": [],
   "source": [
    "delete c5 from t / deletes column from table"
   ]
  },
  {
   "cell_type": "code",
   "execution_count": null,
   "metadata": {},
   "outputs": [],
   "source": [
    "delete from t where c2=40 / deletes row from table"
   ]
  },
  {
   "cell_type": "markdown",
   "metadata": {},
   "source": [
    "## 9.7. Sorting"
   ]
  },
  {
   "cell_type": "markdown",
   "metadata": {},
   "source": [
    "- Tables are ordered in q tables by the time of their insertion into the table\n",
    "- they can be reordered by sorting in the select template -> there are no order by clause in q-sql\n",
    "- syntax: `colName1 `colname2 xasc (xdesc) tableName (use pbn to modify in-place)\n",
    "- mixed sort: colName1 xasc colname2 xdesc tableName"
   ]
  },
  {
   "cell_type": "code",
   "execution_count": null,
   "metadata": {},
   "outputs": [],
   "source": [
    "exec c4 from t where c1=`a"
   ]
  },
  {
   "cell_type": "code",
   "execution_count": null,
   "metadata": {},
   "outputs": [],
   "source": [
    "update c4:33,c5:44 from `t where c4=0N and c5=0N"
   ]
  },
  {
   "cell_type": "code",
   "execution_count": null,
   "metadata": {},
   "outputs": [],
   "source": [
    "`c2`c5 xdesc t"
   ]
  },
  {
   "cell_type": "code",
   "execution_count": null,
   "metadata": {},
   "outputs": [],
   "source": [
    "`c1 xdesc `c4 xasc t / xasc and xdesc are stable sorts, which can be used in mixed sorts"
   ]
  },
  {
   "cell_type": "markdown",
   "metadata": {},
   "source": [
    "## 9.8. Renaming and rearranging columns"
   ]
  },
  {
   "cell_type": "markdown",
   "metadata": {},
   "source": [
    "- Syntax:\n",
    "    - `newColName xcol tableName: renames first column in tableName\n",
    "- Tables can only be passed by value -> to modify table, reassign it"
   ]
  },
  {
   "cell_type": "markdown",
   "metadata": {},
   "source": [
    "- cols y: get column names of a table as a symbol list, where y is a table\n",
    "- x xcol y: rename column names in a table, where x is a symbol scalar or list\n",
    "- x xcols y: rearrange columns of a table, where x is a symbol list of column names in y\n",
    "    - column names in x are ordered at the beginning of the table, not included columns left untouched at the end of the table\n",
    "    - y cannot be a keyed table\n",
    "    - only pbv -> reassign to modify table"
   ]
  },
  {
   "cell_type": "code",
   "execution_count": null,
   "metadata": {},
   "outputs": [],
   "source": [
    "reTable:([] c1:`a`b`c; c2:10 20 30; c3:1.1 2.2 3.3)"
   ]
  },
  {
   "cell_type": "code",
   "execution_count": null,
   "metadata": {},
   "outputs": [],
   "source": [
    "reTable"
   ]
  },
  {
   "cell_type": "code",
   "execution_count": null,
   "metadata": {},
   "outputs": [],
   "source": [
    "`newCol`new2 xcol reTable"
   ]
  },
  {
   "cell_type": "markdown",
   "metadata": {},
   "source": [
    "- To __rename columns__ in the middle of the table: xcol"
   ]
  },
  {
   "cell_type": "code",
   "execution_count": null,
   "metadata": {},
   "outputs": [],
   "source": [
    "@[cols[t]; where cols[t]=`c2; :; `new2] xcol t"
   ]
  },
  {
   "cell_type": "code",
   "execution_count": null,
   "metadata": {},
   "outputs": [],
   "source": [
    "t"
   ]
  },
  {
   "cell_type": "code",
   "execution_count": null,
   "metadata": {},
   "outputs": [],
   "source": [
    "@[cols[t]; where cols[t] in `c1`c4; :; `new1`new3] xcol t"
   ]
  },
  {
   "cell_type": "markdown",
   "metadata": {},
   "source": [
    "- To rearrange columns: xcols"
   ]
  },
  {
   "cell_type": "markdown",
   "metadata": {},
   "source": [
    "## 9.9 Joins"
   ]
  },
  {
   "cell_type": "markdown",
   "metadata": {},
   "source": [
    "- __IN SQL__:\n",
    "    - Relational structure is static: primary and foreign keys are defined in DDL before data can be used\n",
    "- __IN Q__:\n",
    "    - You can define tables and relations both statically and dynamically\n",
    "    - You can join tables that do not have a relation predefined\n",
    "    - left and right join is achieved in q by reversing the operands in the join\n",
    "    - Equijoins: the primary and the foreign keys must be equal\n",
    "    - Non-equijoin (as of join): less-than-or-equal to the primary keys in another table"
   ]
  },
  {
   "cell_type": "markdown",
   "metadata": {},
   "source": [
    "### 9.9.1. Implicit joins"
   ]
  },
  {
   "cell_type": "markdown",
   "metadata": {},
   "source": [
    "- __implicit left join__: you can retrieve columns from the implicitly joined table by using dot notation on the foreign key column of the base table\n",
    "- __implicit right join__: does not work here, because the table with the primary key does not know which tables a related to it"
   ]
  },
  {
   "cell_type": "code",
   "execution_count": null,
   "metadata": {},
   "outputs": [],
   "source": [
    "sp"
   ]
  },
  {
   "cell_type": "code",
   "execution_count": null,
   "metadata": {},
   "outputs": [],
   "source": [
    "p"
   ]
  },
  {
   "cell_type": "code",
   "execution_count": null,
   "metadata": {},
   "outputs": [],
   "source": [
    "select sname:s.name, p.color, qty from sp"
   ]
  },
  {
   "cell_type": "code",
   "execution_count": null,
   "metadata": {},
   "outputs": [],
   "source": [
    "select s, name from s"
   ]
  },
  {
   "cell_type": "markdown",
   "metadata": {},
   "source": [
    "- Multiple joins: you can reference a table related to your table only through the table with the primary key"
   ]
  },
  {
   "cell_type": "code",
   "execution_count": null,
   "metadata": {},
   "outputs": [],
   "source": [
    "emaster:([eid:1001 1002 1003 1004 1005] currency:`gbp`eur`eur`gbp`eur)"
   ]
  },
  {
   "cell_type": "code",
   "execution_count": null,
   "metadata": {},
   "outputs": [],
   "source": [
    "emaster"
   ]
  },
  {
   "cell_type": "code",
   "execution_count": null,
   "metadata": {},
   "outputs": [],
   "source": [
    "s\n",
    "p\n",
    "sp\n",
    "emaster"
   ]
  },
  {
   "cell_type": "code",
   "execution_count": null,
   "metadata": {},
   "outputs": [],
   "source": [
    "update eid:`emaster$1001 1002 1005 1004 1003 1001 1002 1005 1004 from `s"
   ]
  },
  {
   "cell_type": "code",
   "execution_count": null,
   "metadata": {},
   "outputs": [],
   "source": [
    "s"
   ]
  },
  {
   "cell_type": "code",
   "execution_count": null,
   "metadata": {},
   "outputs": [],
   "source": [
    "select sname:s.name, s.eid.currency, qty from sp"
   ]
  },
  {
   "cell_type": "markdown",
   "metadata": {},
   "source": [
    "### 9.9. 2. __Ad hoc left join (lj)__:\n",
    "- dynamically joins two tables regardless of a foreign relation being present\n",
    "    - if there is a relation, it is used\n",
    "    - if there isn't, the linkage is constructed dynamically\n",
    "- use case: if you want to join the two tables only once or twice\n",
    "- syntax: sourceTable jl targetTable\n",
    "    - result: all the columns and records of the source table augmented by the matching columns and records of the target table:\n",
    "        - augmented values in the source fields contain null values\n",
    "-  __when the source table has a foreign key__, an ad-hoc left join is equivalent to listing all columns from both tables in an implicit join.\n",
    "- When the tables source and target have duplicate non-key columns, the operation has upsert semantics.\n",
    "    - The values in the right operand (target) columns prevail over those in the left operand (source).\n",
    "    - In SQL, the result contains both columns with suffixes to ensure unique names."
   ]
  },
  {
   "cell_type": "markdown",
   "metadata": {},
   "source": [
    "### 9.9.3. Column lookup"
   ]
  },
  {
   "cell_type": "markdown",
   "metadata": {},
   "source": [
    "- Joins two tables where there are no matching column names by renaming the column names in the target columns\n",
    "- Method:\n",
    "    -  Choose the fields from the target table by indexing while renaming the common column by defining an anonymous table with the matching column name and assigning the old values from the target table"
   ]
  },
  {
   "cell_type": "code",
   "execution_count": null,
   "metadata": {},
   "outputs": [],
   "source": []
  },
  {
   "cell_type": "code",
   "execution_count": null,
   "metadata": {},
   "outputs": [],
   "source": [
    "t:([] k:1 2 3 4; c:10 20 30 40)\n",
    "kt:([k1:2 3 4 5]; v:2.2 3.3 4.4 5.5)"
   ]
  },
  {
   "cell_type": "code",
   "execution_count": null,
   "metadata": {},
   "outputs": [],
   "source": [
    "t\n",
    "kt"
   ]
  },
  {
   "cell_type": "code",
   "execution_count": null,
   "metadata": {},
   "outputs": [],
   "source": [
    "kt[2;`v]"
   ]
  },
  {
   "cell_type": "code",
   "execution_count": null,
   "metadata": {},
   "outputs": [],
   "source": [
    "select c, v:kt[([] k1:k); `v] from t"
   ]
  },
  {
   "cell_type": "code",
   "execution_count": null,
   "metadata": {},
   "outputs": [],
   "source": [
    "select c,v from t lj `k xkey select k:k1,v from kt / same thing with left join"
   ]
  },
  {
   "cell_type": "markdown",
   "metadata": {},
   "source": [
    "### 9.9.4. __Ad hoc inner join (ij)__:"
   ]
  },
  {
   "cell_type": "markdown",
   "metadata": {},
   "source": [
    "- The two inner joined table do not have to have a relation defined by primary/foreign keys (same as lj)\n",
    "- x ij y where x is the source (keyed) table and y is the target (keyed) table\n",
    "    - they have pr/fg keys or\n",
    "    - have columns that are exactly matching (same column name, type and values)\n",
    "- For duplicate columns, upsert semantics holds (target column values prevail when non-key columns match)"
   ]
  },
  {
   "cell_type": "markdown",
   "metadata": {},
   "source": [
    "### 9.9.5. Equijoin (ej)"
   ]
  },
  {
   "cell_type": "markdown",
   "metadata": {},
   "source": [
    "- ej corresponds to an SQL inner join\n",
    "- triadic function\n",
    "- syntax: ej[commonColumn;sourceTable;targetTable]"
   ]
  },
  {
   "cell_type": "markdown",
   "metadata": {},
   "source": [
    "- x xkey y sets column x as primary key of table y"
   ]
  },
  {
   "cell_type": "code",
   "execution_count": null,
   "metadata": {},
   "outputs": [],
   "source": [
    "t1:([] k:1 2 3 4; c:10 20 30 40)\n",
    "t2:([] k:2 2 3 4 5; c:200 222 300 400 500; v:2.2 22.22 3.3 4.4 5.5)"
   ]
  },
  {
   "cell_type": "code",
   "execution_count": null,
   "metadata": {},
   "outputs": [],
   "source": [
    "t1 ij `k xkey t2 / sets k column as primary key then inner joins it with source table"
   ]
  },
  {
   "cell_type": "code",
   "execution_count": null,
   "metadata": {},
   "outputs": [],
   "source": [
    "ej[`k;t2;t1] / inner joins the two tables on column k"
   ]
  },
  {
   "cell_type": "code",
   "execution_count": null,
   "metadata": {},
   "outputs": [],
   "source": [
    "ej[`k;t1;t2]"
   ]
  },
  {
   "cell_type": "markdown",
   "metadata": {},
   "source": [
    "### 9.9.6. Plus join (pj)"
   ]
  },
  {
   "cell_type": "markdown",
   "metadata": {},
   "source": [
    "- is a lj that replaces upsert semantics for duplicate column names with __addition__\n",
    "- two tables must have the identical schemas\n",
    "- all non-key columns must be numeric\n",
    "- missing and null values are treated as zeros"
   ]
  },
  {
   "cell_type": "markdown",
   "metadata": {},
   "source": [
    "### 9.9.6. Unoin join (uj)"
   ]
  },
  {
   "cell_type": "markdown",
   "metadata": {},
   "source": [
    "- In q, the equivalent of a SQL union is x,y where:\n",
    "    - it joins two tables with matching schemas\n",
    "    - and the result is the sum of records in the two tables\n",
    "- The __uj__ in q, however, is more powerful:\n",
    "    - uj vertically combines __any__ two (keyes) tables\n",
    "    - x uj y:\n",
    "        - records for common columns in y are appended to x\n",
    "        - records for unmatched columns are also appended, but missing fields are filled with zero values"
   ]
  },
  {
   "cell_type": "markdown",
   "metadata": {},
   "source": [
    "__The operation of uj is expensive__ so it should only be used when necessary; in particular, when the tables conform, use , or raze. Be especially cautious when low latency is paramount."
   ]
  },
  {
   "cell_type": "code",
   "execution_count": null,
   "metadata": {},
   "outputs": [],
   "source": [
    "t1:([] c1:`a`b`c; c2: 10 20 30)\n",
    "t2:([] c1:`x`y; c3:8.8 9.9)"
   ]
  },
  {
   "cell_type": "code",
   "execution_count": null,
   "metadata": {},
   "outputs": [],
   "source": [
    "t1 uj t2"
   ]
  },
  {
   "cell_type": "markdown",
   "metadata": {},
   "source": [
    "- union join can be applied to more than two tables with the over adverb"
   ]
  },
  {
   "cell_type": "code",
   "execution_count": null,
   "metadata": {},
   "outputs": [],
   "source": [
    "t3:([] c1:`e`f`g; c2:50 60 70; c3:5.5 6.6 7.7)"
   ]
  },
  {
   "cell_type": "code",
   "execution_count": null,
   "metadata": {},
   "outputs": [],
   "source": [
    "(uj/) (t1; t2; t3)"
   ]
  },
  {
   "cell_type": "markdown",
   "metadata": {},
   "source": [
    "### 9.9.8. As-of joins (aj, aj0, asof)"
   ]
  },
  {
   "cell_type": "markdown",
   "metadata": {},
   "source": [
    "- As-of joins are so-named because they most often join tables along time columns to obtain a value in one table that is __current as of a time in another table__\n",
    "- non-equijoin: tney match on less-than-or-equal\n",
    "- however, it is mostly used on time values, aj are not restricted to time values\n",
    "    - it can be used on non-numeric data. e.g.: what is the job title of a person as of now\n",
    "- syntax: aj[`c1...`c2;t_1;t_2] where:\n",
    "    - first operand is a simple list of symbols referencing common column names in the tables to be joined\n",
    "    - second operand: source table\n",
    "    - third operand: target table\n",
    "- Characteristics:\n",
    "    - Common columns do not have to be keys, but\n",
    "        - aj on keys are __faser__\n",
    "    - returns all columns in both tables\n",
    "- Semantics:\n",
    "    - The match on all specified columns is by equals,\n",
    "    - except the last, which is less-than-or-equal: Assuming the records are sequenced by cn in both tables, for a given cn value in t1, the match picks __the greatest cn in t2 less than or equal to the given value in t1__"
   ]
  },
  {
   "cell_type": "markdown",
   "metadata": {},
   "source": [
    "- The canonical example for aj is matching trades with quotes.\n",
    "- To know if a trade represents best execution, you want to compare the trade price to the current quote – i.e., the most recent quote up to and including the time of the trade.\n",
    "- You clearly want an __equi-join on the date and symbol, but a non-equijoin on the time__ when matching the trades and quotes."
   ]
  },
  {
   "cell_type": "code",
   "execution_count": null,
   "metadata": {},
   "outputs": [],
   "source": [
    "show t:([] ti:10:01:01 10:01:03 10:01:04;sym:`msft`ibm`ge;qty:100 200 150)"
   ]
  },
  {
   "cell_type": "code",
   "execution_count": null,
   "metadata": {},
   "outputs": [],
   "source": [
    "show q:([] ti:10:01:00 10:01:01 10:01:01 10:01:02;sym:`ibm`msft`msft`ibm;px:100 99 101 98)"
   ]
  },
  {
   "cell_type": "code",
   "execution_count": null,
   "metadata": {},
   "outputs": [],
   "source": [
    "aj[enlist `ti;t;q]"
   ]
  },
  {
   "cell_type": "code",
   "execution_count": null,
   "metadata": {},
   "outputs": [],
   "source": [
    "aj[`ti`sym;t;q]"
   ]
  },
  {
   "cell_type": "code",
   "execution_count": null,
   "metadata": {},
   "outputs": [],
   "source": [
    "aj[`sym`ti;t;q]"
   ]
  },
  {
   "cell_type": "markdown",
   "metadata": {},
   "source": [
    "- while aj joins the two tables on the source table's time value,\n",
    "- aj0 joins the tables on the time of the target table"
   ]
  },
  {
   "cell_type": "code",
   "execution_count": null,
   "metadata": {},
   "outputs": [],
   "source": [
    "aj0[`sym`ti;t;q]"
   ]
  },
  {
   "cell_type": "markdown",
   "metadata": {},
   "source": [
    "- __asof__ performs the same match as aj, but with a table and a single record (can be a table as well) as parameters"
   ]
  },
  {
   "cell_type": "code",
   "execution_count": null,
   "metadata": {},
   "outputs": [],
   "source": [
    "show t:([] ti:10:01:01 10:01:03 10:01:04; sym:`msft`ibm`ge; qty:100 200 150; px:45 160 55)"
   ]
  },
  {
   "cell_type": "code",
   "execution_count": null,
   "metadata": {},
   "outputs": [],
   "source": [
    "t asof `sym`ti!(`ibm;10:01:03)"
   ]
  },
  {
   "cell_type": "markdown",
   "metadata": {},
   "source": [
    "### 9.9.9. Window join (wj, wj1)"
   ]
  },
  {
   "cell_type": "markdown",
   "metadata": {},
   "source": [
    "- window joins are a generalization of as-of joins\n",
    "- wj a especially geared for analyzing the relationship between trades and quotes in finance:\n",
    "    - wj is a built-in function that allows for looking at the behaviour of quotes in a neighborhood of each trade\n",
    "- Semantics:\n",
    "    - works on unkeyed tabels\n",
    "- To use wj, we need to setup fixed-width windows\n",
    "- Syntax:\n",
    "    - wj[w;c;t;(q;(f0;c0);(f1;c1))], where\n",
    "        - w is a list of windows in the form of a nested list which contains two lists: one the start times and the other the end times\n",
    "        - c is a list of column names by which to join the two tables (same as first parameter of aj)\n",
    "        - t is the source table\n",
    "        - a list of 3 items:\n",
    "            - 1. q is the target table\n",
    "            - 2. a list of an aggregate function and a column name to be aggregated\n",
    "            - 3. a list of another aggregate function and another column name to be aggregated\n",
    "                - to wj without aggregation, use the identity function: ::"
   ]
  },
  {
   "cell_type": "code",
   "execution_count": null,
   "metadata": {},
   "outputs": [],
   "source": [
    "show t:([]sym:3#`aapl;time:09:30:01 09:30:04 09:30:08;price:100 103 101)"
   ]
  },
  {
   "cell_type": "code",
   "execution_count": null,
   "metadata": {},
   "outputs": [],
   "source": [
    "show q:([] sym:8#`aapl;\n",
    "    time:09:30:01+(til 5),7 8 9;\n",
    "    ask:101 103 103 104 104 103 102 100;\n",
    "    bid:98 99 102 103 103 100 100 99)"
   ]
  },
  {
   "cell_type": "code",
   "execution_count": null,
   "metadata": {},
   "outputs": [],
   "source": [
    "show w:-2 1+\\:t `time / takes the values in the time column and adds 1 and subtracts 2 from them and creates two separate lists"
   ]
  },
  {
   "cell_type": "code",
   "execution_count": null,
   "metadata": {},
   "outputs": [],
   "source": [
    "c:`sym`time"
   ]
  },
  {
   "cell_type": "code",
   "execution_count": null,
   "metadata": {},
   "outputs": [],
   "source": [
    "wj[w;c;t;(q;(::;`ask);(::;`bid))]"
   ]
  },
  {
   "cell_type": "code",
   "execution_count": null,
   "metadata": {},
   "outputs": [],
   "source": [
    "wj[w;c;t;(q;(avg;`ask);(avg;`bid))]"
   ]
  },
  {
   "cell_type": "markdown",
   "metadata": {},
   "source": [
    "- __wj1__: includes current values (just) outside of the specified windows\n",
    "    - wj1 comes handy when there are no values within the specified windows\n",
    "- wj1 syntax is identical to wj"
   ]
  },
  {
   "cell_type": "code",
   "execution_count": null,
   "metadata": {},
   "outputs": [],
   "source": [
    "wj1[w;c;t;(q;(::;`ask);(::;`bid))]"
   ]
  },
  {
   "cell_type": "markdown",
   "metadata": {},
   "source": [
    "## 9.10. Parameterized queries"
   ]
  },
  {
   "cell_type": "markdown",
   "metadata": {},
   "source": [
    "- In relational databases, stored procedures are used to save recurring database transactions through user defined custom functions.\n",
    "- To be able to do this, you need to learn either\n",
    "    - a proprietary query language (pl/sql, mysql, t/sql, postgresql) to place functionality close to data or\n",
    "    - extract the data into an application server to perform calculations.\n",
    "    - Various multi-tier architechtures have evolved to address this problem, but they increase system cost and complexity\n",
    "- In q, this is a non-issue as q\n",
    "    - is the stored procedure language\n",
    "    - and it has the power and perfomance to process big data.\n",
    "    - any q function that operates on a table is a stored procedure.\n",
    "- Function parameters can be used to supply specific values for queries.\n",
    "- In particular, the select, exec, update and delete templates can be invoked within a function with parameters to yield a parameterized query.\n",
    "    - values and tables can be passed in as well. The latter can be passed as pbv or pbn"
   ]
  },
  {
   "cell_type": "markdown",
   "metadata": {},
   "source": [
    "- Restrictions on parameterized queries with templates:\n",
    "    - columns cannot be passed as parameters: they are only syntactic sugar of the template\n",
    "    - multiple parameters must be declared explicitly. Recommended to __make all parameters explicit__."
   ]
  },
  {
   "cell_type": "code",
   "execution_count": null,
   "metadata": {},
   "outputs": [],
   "source": [
    "tpq:([] c1:`a`b`c; c2:10 20 30; c3:1.1 2.2 3.3)"
   ]
  },
  {
   "cell_type": "code",
   "execution_count": null,
   "metadata": {},
   "outputs": [],
   "source": [
    "select from tpq where c2>15"
   ]
  },
  {
   "cell_type": "code",
   "execution_count": null,
   "metadata": {},
   "outputs": [],
   "source": [
    "proc:{[sc] select from tpq where c2>sc}\n",
    "proc 15"
   ]
  },
  {
   "cell_type": "code",
   "execution_count": null,
   "metadata": {},
   "outputs": [],
   "source": [
    "proc2:{[nms;sc] select from tpq where c1 in nms, c2>sc}"
   ]
  },
  {
   "cell_type": "code",
   "execution_count": null,
   "metadata": {},
   "outputs": [],
   "source": [
    "proc2[`a`c; 15]"
   ]
  },
  {
   "cell_type": "code",
   "execution_count": null,
   "metadata": {},
   "outputs": [],
   "source": [
    "proc3:{[sc;t] select from t where c2>sc}"
   ]
  },
  {
   "cell_type": "code",
   "execution_count": null,
   "metadata": {},
   "outputs": [],
   "source": [
    "proc3[20; `tpq]"
   ]
  },
  {
   "cell_type": "code",
   "execution_count": null,
   "metadata": {},
   "outputs": [],
   "source": [
    "tpq"
   ]
  },
  {
   "cell_type": "markdown",
   "metadata": {},
   "source": [
    "- Workarounds to parameterize column names:\n",
    "    - Slow and dangerous method: Pass the query as string with the value function\n",
    "    - Fast and safe method: functional form of queries:\n",
    "        - any component of a query can be passed as an argument in functional form\n",
    "        - e.g.: all columns are referred to by symbolic name -> column names can be passed as symbols"
   ]
  },
  {
   "cell_type": "code",
   "execution_count": null,
   "metadata": {},
   "outputs": [],
   "source": [
    "sd1:{[sc;table;cmn] select from table where sc<value ssr[;\"p2\";string table] ssr[\"exec p1 from p2\";\"p1\"; string cmn]}"
   ]
  },
  {
   "cell_type": "code",
   "execution_count": null,
   "metadata": {},
   "outputs": [],
   "source": [
    "sd1[20;`tpq;`c2]"
   ]
  },
  {
   "cell_type": "markdown",
   "metadata": {},
   "source": [
    "## 9.11. Views (::)"
   ]
  },
  {
   "cell_type": "markdown",
   "metadata": {},
   "source": [
    "- In SQL, a view is effectively is a query expression whose reslit set can be used like a table\n",
    "- Views are used to encapsulate data: hiding columns or simplifying simple queries\n",
    "- In q-sql, a view is a named table expression created as an alias with the double-colon operator\n",
    "- syntax viewVariable::select template\n",
    "- variable vs view:\n",
    "    - a select assigned to a variable:\n",
    "        - a variable is a separate copy of the table\n",
    "    - a select assigned to a view is:\n",
    "        - a named table expression created as an __alias__\n",
    "        - it is a query expression itself\n",
    "        - it is mutable: it changes when the underlying table changes\n",
    "- view: get the underlying query of a view alias\n",
    "- views `. lists all view aliases in the root"
   ]
  },
  {
   "cell_type": "code",
   "execution_count": null,
   "metadata": {},
   "outputs": [],
   "source": [
    "trades"
   ]
  },
  {
   "cell_type": "code",
   "execution_count": null,
   "metadata": {},
   "outputs": [],
   "source": [
    "show copy:select from trades where qty>7000"
   ]
  },
  {
   "cell_type": "code",
   "execution_count": null,
   "metadata": {},
   "outputs": [],
   "source": [
    "vue::select from trades where qty>7000"
   ]
  },
  {
   "cell_type": "code",
   "execution_count": null,
   "metadata": {},
   "outputs": [],
   "source": [
    "update qty:101 from `trades where qty>7000"
   ]
  },
  {
   "cell_type": "code",
   "execution_count": null,
   "metadata": {},
   "outputs": [],
   "source": [
    "trades"
   ]
  },
  {
   "cell_type": "code",
   "execution_count": null,
   "metadata": {},
   "outputs": [],
   "source": [
    "copy"
   ]
  },
  {
   "cell_type": "code",
   "execution_count": null,
   "metadata": {},
   "outputs": [],
   "source": [
    "view `vue"
   ]
  },
  {
   "cell_type": "code",
   "execution_count": null,
   "metadata": {},
   "outputs": [],
   "source": [
    "views `."
   ]
  },
  {
   "cell_type": "code",
   "execution_count": null,
   "metadata": {},
   "outputs": [],
   "source": [
    "t:([] c1:`a`b`c; c2:10 20 30)\n",
    "u:select from t where c2>15\n",
    "v::select from t where c2>15"
   ]
  },
  {
   "cell_type": "code",
   "execution_count": null,
   "metadata": {},
   "outputs": [],
   "source": [
    "u"
   ]
  },
  {
   "cell_type": "code",
   "execution_count": null,
   "metadata": {},
   "outputs": [],
   "source": [
    "v"
   ]
  },
  {
   "cell_type": "code",
   "execution_count": null,
   "metadata": {},
   "outputs": [],
   "source": [
    "update c2:15 from `t where c1=`b"
   ]
  },
  {
   "cell_type": "code",
   "execution_count": null,
   "metadata": {},
   "outputs": [],
   "source": [
    "u"
   ]
  },
  {
   "cell_type": "code",
   "execution_count": null,
   "metadata": {},
   "outputs": [],
   "source": [
    "v"
   ]
  },
  {
   "cell_type": "markdown",
   "metadata": {},
   "source": [
    "## 9.12. Functional forms"
   ]
  },
  {
   "cell_type": "markdown",
   "metadata": {},
   "source": [
    "- Functional forms of queries are hard to grasp for the following reasons:\n",
    "    - There is a high level of abstraction and generalization in them\n",
    "    - There no analogies for it in SQL or other programming languages\n",
    "    - Information density is maximized in functional forms of q-queries"
   ]
  },
  {
   "cell_type": "markdown",
   "metadata": {},
   "source": [
    "- Advantages of the functional forms of the select, exec, update and delete templates:\n",
    "    - can be parameterized\n",
    "    - useful for queries that are generated or completed programmatically\n",
    "- There is no performance difference between these templates and the functional form??????"
   ]
  },
  {
   "cell_type": "markdown",
   "metadata": {},
   "source": [
    "- There are two functional forms:\n",
    "    - One for select and exec templates: ?[t;c;b;a;n;iv;co]\n",
    "    - Another one for update and delete templates: ![t;c;b;a]\n",
    "    - where:\n",
    "        - t -> the from phrase (table)\n",
    "        - c -> the where phrase, which is a list of constraints (comparison operators, like, within, and, or)\n",
    "        - b -> the by phrase, a dictionary of groupbys or a flag contolling other aspects of the query\n",
    "            - 1b means select distinct in place of the group by phrase\n",
    "        - a -> the select phrase, which is a dictionary of aggregates\n",
    "    - c, b, a can contain columns of t and any variables in scope\n",
    "        - n (limit; optional) -> select[n]: 5th parameter to the functional form; __type scalar long__\n",
    "        - iv (p1 for order by; optional) -> select[>c1]: 6th parameter as the initial value of the sort\n",
    "            - usually long infinity: 0W\n",
    "        - co (p1 for order by; optional) -> select[>c1]: 7th parameter as the comparison operator for the sort\n",
    "            - a list comprising of the comparison operator in k form and the column name for the sort (>:;`c1)"
   ]
  },
  {
   "cell_type": "markdown",
   "metadata": {},
   "source": [
    "- Rules for expression interpretation:\n",
    "    - Columns are always represented by their symbolic names (`col1`col2)\n",
    "    - To distinquish literal symbols (or lists of symbols) appearing in expression from symbolic column names,\n",
    "        - you have to enlist them"
   ]
  },
  {
   "cell_type": "markdown",
   "metadata": {},
   "source": [
    "- Semantics:\n",
    "    - t: the table can be pbn or any expression that returns a table or a keyed table"
   ]
  },
  {
   "cell_type": "code",
   "execution_count": 1,
   "metadata": {},
   "outputs": [],
   "source": [
    "fqt:([] c1:`a`b`a`c`a`b`c; c2:10*1+til 7; c3:1.1*1+til 7)"
   ]
  },
  {
   "cell_type": "code",
   "execution_count": null,
   "metadata": {},
   "outputs": [],
   "source": [
    "fqt"
   ]
  },
  {
   "cell_type": "code",
   "execution_count": null,
   "metadata": {},
   "outputs": [],
   "source": [
    "fqfn:{([] c1:`a`b`a`c`a`b`c; c2:10*1+til 7; c3:1.1*1+til 7)}"
   ]
  },
  {
   "cell_type": "code",
   "execution_count": null,
   "metadata": {},
   "outputs": [],
   "source": [
    "fqfn[]"
   ]
  },
  {
   "cell_type": "markdown",
   "metadata": {},
   "source": [
    "### 9.12.1. Functional select"
   ]
  },
  {
   "cell_type": "code",
   "execution_count": 3,
   "metadata": {},
   "outputs": [
    {
     "data": {
      "text/plain": [
       "1b\n"
      ]
     },
     "execution_count": 3,
     "metadata": {},
     "output_type": "execute_result"
    }
   ],
   "source": [
    "?[`fqt;();0b;()]~select from fqt / table with no constraints, no group by phrase and no aggregate phrase"
   ]
  },
  {
   "cell_type": "code",
   "execution_count": 7,
   "metadata": {},
   "outputs": [
    {
     "data": {
      "text/plain": [
       "1b\n"
      ]
     },
     "execution_count": 7,
     "metadata": {},
     "output_type": "execute_result"
    }
   ],
   "source": [
    "?[`fqt;();();`c1]~exec c1 from fqt // exec syntax"
   ]
  },
  {
   "cell_type": "code",
   "execution_count": null,
   "metadata": {},
   "outputs": [],
   "source": [
    " / multiple constrainst should be in a list form\n",
    "?[`fqt; ((>;`c2;35); (in;`c1;enlist `b`c)); 0b; ()]~select from fqt where c2>35,c1 in `b`c"
   ]
  },
  {
   "cell_type": "code",
   "execution_count": null,
   "metadata": {},
   "outputs": [],
   "source": [
    " / aggregating without grouping\n",
    "?[`fqt; (); 0b; `maxc2`wtavg!((max;`c2); (wavg;`c2;`c3))]~select maxc2:max c2, wtavg:c2 wavg c3 from fqt"
   ]
  },
  {
   "cell_type": "code",
   "execution_count": null,
   "metadata": {},
   "outputs": [],
   "source": [
    " / grouping without aggregation: column names are enlisted because of dictionary format, not because they are symbolic literals\n",
    "?[fqt; (); (enlist `c1)!enlist `c1; ()]~select by c1 from fqt"
   ]
  },
  {
   "cell_type": "code",
   "execution_count": null,
   "metadata": {},
   "outputs": [],
   "source": [
    "fqc:((>;`c2;35); (in;`c1;enlist `b`c))\n",
    "fqb:(enlist `c1)!enlist `c1\n",
    "fqa:`maxc2`wtavg!((max;`c2); (wavg;`c2;`c3))"
   ]
  },
  {
   "cell_type": "code",
   "execution_count": null,
   "metadata": {},
   "outputs": [],
   "source": [
    " / putting it alltogether: constraints (fqc), group by (fqb), aggregation (fqa)\n",
    "?[`fqt;fqc;fqb;fqa]~select maxc2:max c2, wtavg:c2 wavg c3 by c1 from fqt where c2>35,c1 in `b`c"
   ]
  },
  {
   "cell_type": "code",
   "execution_count": null,
   "metadata": {},
   "outputs": [],
   "source": [
    " / select distinct: put 1b in place of the group by phrase\n",
    "?[`fqt; (); 1b; `c1`c2!`c1`c2]~select distinct c1,c2 from fqt"
   ]
  },
  {
   "cell_type": "markdown",
   "metadata": {},
   "source": [
    "### 9.12.2. Functional exec"
   ]
  },
  {
   "cell_type": "markdown",
   "metadata": {},
   "source": [
    "- it is nearly identical to functional select\n",
    "    - slight variations in the parameters indicate which is intended\n",
    "- c, the constraint parameter is unchanged (not discussed here)"
   ]
  },
  {
   "cell_type": "markdown",
   "metadata": {},
   "source": [
    "- Semantics of exec on a single column:\n",
    "    - t: the same\n",
    "    - c: the same, not discussed\n",
    "    - b: if there is no grouping, use () as opposed to 0b in case of select\n",
    "    - a: here you specify the return type as a list or a dictionary (in select you always have to specify a dictioary as you always get a table returnd which has column dictionaries)\n",
    "        - to return a list, specify the aggregate as a __parse tree__ (distinct;`c1)\n",
    "        - to return a dictionary, specify a dictionary (enlist `newName2)!enlist (distinct;`c1)"
   ]
  },
  {
   "cell_type": "markdown",
   "metadata": {},
   "source": [
    "- To exec on multiple columns, no grouping:\n",
    "    - b:() generalempty list\n",
    "    - a:(`c1`c2)!((distinct;`c1); `c2) - same as in select\n",
    "- To group on a single column:\n",
    "    - b: specify the symbol name in the by parameter. e.g., ?[`t;();`c1;`c2] (you do not need to enlist the column names)"
   ]
  },
  {
   "cell_type": "code",
   "execution_count": null,
   "metadata": {},
   "outputs": [],
   "source": [
    "?[`fqt;();`c1;`c2]"
   ]
  },
  {
   "cell_type": "markdown",
   "metadata": {},
   "source": [
    "### 9.12.3. Functional update"
   ]
  },
  {
   "cell_type": "markdown",
   "metadata": {},
   "source": [
    "- The syntax of functional update is identical to that of functional select, except:\n",
    "    - ! is used of ?\n",
    "    - t can be both passed by value and name\n",
    "- Using enlisting for 3 different purposes:\n",
    "    - Making a list of parse trees from a single parse expression\n",
    "    - Creating singleton dictionaries\n",
    "    - Distinguishing literal symbols from column names"
   ]
  },
  {
   "cell_type": "code",
   "execution_count": 8,
   "metadata": {},
   "outputs": [],
   "source": [
    "c:enlist (=;`c1;enlist `a)\n",
    "b:0b\n",
    "a:(enlist `c2)!enlist 100"
   ]
  },
  {
   "cell_type": "code",
   "execution_count": 9,
   "metadata": {},
   "outputs": [
    {
     "data": {
      "text/plain": [
       "c1 c2  c3 \n",
       "----------\n",
       "a  100 1.1\n",
       "b  20  2.2\n",
       "a  100 3.3\n",
       "c  40  4.4\n",
       "a  100 5.5\n",
       "b  60  6.6\n",
       "c  70  7.7\n"
      ]
     },
     "execution_count": 9,
     "metadata": {},
     "output_type": "execute_result"
    }
   ],
   "source": [
    "![fqt;c;b;a]"
   ]
  },
  {
   "cell_type": "code",
   "execution_count": 10,
   "metadata": {},
   "outputs": [
    {
     "data": {
      "text/plain": [
       "c1 c2 c3 \n",
       "---------\n",
       "a  10 1.1\n",
       "b  20 2.2\n",
       "a  30 3.3\n",
       "c  40 4.4\n",
       "a  50 5.5\n",
       "b  60 6.6\n",
       "c  70 7.7\n"
      ]
     },
     "execution_count": 10,
     "metadata": {},
     "output_type": "execute_result"
    }
   ],
   "source": [
    "fqt"
   ]
  },
  {
   "cell_type": "code",
   "execution_count": null,
   "metadata": {},
   "outputs": [],
   "source": [
    "update c2:sums c2 by c1 from t\n",
    "![`t; (); (enlist `c1)!enlist `c1; (enlist `c2)!enlist(sums; `c2)] / does not work"
   ]
  },
  {
   "cell_type": "markdown",
   "metadata": {},
   "source": [
    "### 9.12.4. Functional delete"
   ]
  },
  {
   "cell_type": "markdown",
   "metadata": {},
   "source": [
    "- The syntax of functional delete is a simplified form of functional update: ![t;c;0b;a]\n",
    "    - t: table name can be passed by value and by name\n",
    "        - pbv: returns the table after deletion\n",
    "        - pbn: does not return anything\n",
    "    - c: a list of parse trees, where subphrases are in a list; use general empty list if a is present ()\n",
    "    - b: 0b (always?)\n",
    "    - a: list of symbol column names or an empty list of symbols `symbol$()\n",
    "- Either c or a must be present but not both:\n",
    "    - you can specify either columns or rows to be deleted\n",
    "    - but you cannot delete both columns and rows at the same time"
   ]
  },
  {
   "cell_type": "code",
   "execution_count": null,
   "metadata": {},
   "outputs": [],
   "source": [
    "t:([] c1:`a`b`c`a`b; c2:10 20 30 40 50)"
   ]
  },
  {
   "cell_type": "code",
   "execution_count": null,
   "metadata": {},
   "outputs": [],
   "source": [
    "![t;enlist (=;`c1;enlist `b);0b;`symbol$()]~delete from t where c1=`b"
   ]
  },
  {
   "cell_type": "code",
   "execution_count": null,
   "metadata": {},
   "outputs": [],
   "source": [
    "![t;enlist (=;`c1;enlist `b);0b;`symbol$()]"
   ]
  },
  {
   "cell_type": "code",
   "execution_count": null,
   "metadata": {},
   "outputs": [],
   "source": [
    "![t;();0b;enlist `c2]~(delete c2 from t)"
   ]
  },
  {
   "cell_type": "code",
   "execution_count": null,
   "metadata": {},
   "outputs": [],
   "source": [
    "t"
   ]
  },
  {
   "cell_type": "markdown",
   "metadata": {},
   "source": [
    "# __MY Functional query practice on trades table__"
   ]
  },
  {
   "cell_type": "markdown",
   "metadata": {},
   "source": [
    "- Cheat to create functional queries in k from q-sql queries:\n",
    "    - parse \"q-sql query\", which returns the parse tree of the q-sql query in k\n",
    "- Good for reverse engineering and practice"
   ]
  },
  {
   "cell_type": "code",
   "execution_count": null,
   "metadata": {},
   "outputs": [],
   "source": [
    "parse \"select from trades\""
   ]
  },
  {
   "cell_type": "code",
   "execution_count": null,
   "metadata": {},
   "outputs": [],
   "source": [
    "parse \"select sym from trades\""
   ]
  },
  {
   "cell_type": "code",
   "execution_count": null,
   "metadata": {},
   "outputs": [],
   "source": [
    "parse \"select sym, qty, px from trades where qty>7000\""
   ]
  },
  {
   "cell_type": "code",
   "execution_count": null,
   "metadata": {},
   "outputs": [],
   "source": [
    "parse \"select qty, px by sym from trades where qty>7000\""
   ]
  },
  {
   "cell_type": "code",
   "execution_count": null,
   "metadata": {},
   "outputs": [],
   "source": [
    "select qty, px by sym from trades where qty>7000"
   ]
  },
  {
   "cell_type": "code",
   "execution_count": null,
   "metadata": {},
   "outputs": [],
   "source": [
    "parse \"select total:sum qty, mean:avg px by sym from trades\""
   ]
  },
  {
   "cell_type": "code",
   "execution_count": null,
   "metadata": {},
   "outputs": [],
   "source": [
    "/\n",
    "Output:\n",
    "?`trades()(,`sym)!,`sym`total`mean!((sum;`qty);(avg;`px))\n",
    "\\"
   ]
  },
  {
   "cell_type": "code",
   "execution_count": null,
   "metadata": {},
   "outputs": [],
   "source": [
    "select from trades"
   ]
  },
  {
   "cell_type": "code",
   "execution_count": null,
   "metadata": {},
   "outputs": [],
   "source": [
    "?[`trades;();0b;()!()] / select from trades"
   ]
  },
  {
   "cell_type": "code",
   "execution_count": null,
   "metadata": {},
   "outputs": [],
   "source": [
    "?[`trades;();0b;(enlist `sym)!(enlist `sym)] / select sym from trades"
   ]
  },
  {
   "cell_type": "code",
   "execution_count": null,
   "metadata": {},
   "outputs": [],
   "source": [
    "?[`trades;();0b;(`symbol`quality)!(`sym`qty)] / select symbol:sym,quality:qty from trades"
   ]
  },
  {
   "cell_type": "code",
   "execution_count": null,
   "metadata": {},
   "outputs": [],
   "source": [
    "?[`trades;enlist (>;`qty;7000);0b;(`sym`qty`px)!(`sym`qty`px)] / select sym,qty,px from trades where qty>7000"
   ]
  },
  {
   "cell_type": "code",
   "execution_count": null,
   "metadata": {},
   "outputs": [],
   "source": [
    "?[`trades;();(enlist `sym)!(enlist `sym);(`qty`px)!(`qty`px)] / select qty,px by sym from trades"
   ]
  },
  {
   "cell_type": "code",
   "execution_count": null,
   "metadata": {},
   "outputs": [],
   "source": [
    " / select totalqty:sum qty,averagepx:avg px by sym from trades\n",
    "?[`trades;();(enlist `sym)!enlist `sym;(`totalqty`averagepx)!((sum;`qty);(avg;`px))]"
   ]
  },
  {
   "cell_type": "code",
   "execution_count": null,
   "metadata": {},
   "outputs": [],
   "source": [
    " / select totalqty:sum qty,avgpx:avg px by symbol:sym from trades where sym=`ibm\n",
    "?[`trades;enlist (=;`sym;enlist `ibm);(enlist `symbol)!(enlist `sym);(`totalqty`avgpx)!((sum;`qty);(avg;`px))]"
   ]
  },
  {
   "cell_type": "code",
   "execution_count": null,
   "metadata": {},
   "outputs": [],
   "source": [
    "/\n",
    "Should reverse engineer this:\n",
    "?\n",
    "`trades\n",
    ",,(<;7000;(k){$[(#x 1)=#y;@[(#y)#x[0]0#x 1;g;:;x[0]'x[1]g:.=y];'`length]};(en..\n",
    "(,`sym)!,`sym\n",
    "`qty`px!((sum;`qty);(avg;`px))\n",
    "\n",
    "To get the equivalent of this:\n",
    "select sum qty,avg px by sym from trades where 7000<(sum;qty) fby sym\n",
    "\n",
    "\\"
   ]
  },
  {
   "cell_type": "code",
   "execution_count": null,
   "metadata": {},
   "outputs": [],
   "source": [
    "/ ?[`trades;????????;(enlist `symbol)!(enlist `sym);(`totalqty`avgpx)!((sum;`qty);(avg;`px))]"
   ]
  },
  {
   "cell_type": "code",
   "execution_count": null,
   "metadata": {},
   "outputs": [],
   "source": [
    "parse \"select sum qty,avg px by sym from trades where 7000<(sum;qty) fby sym\""
   ]
  },
  {
   "cell_type": "markdown",
   "metadata": {},
   "source": [
    "### 9.13. Examples"
   ]
  },
  {
   "cell_type": "markdown",
   "metadata": {},
   "source": [
    "- Takeaways:\n",
    "    - you can use custom functions as aggregatros in queries"
   ]
  },
  {
   "cell_type": "markdown",
   "metadata": {},
   "source": [
    "__HOMEWORK: DO THE EXERCISES__"
   ]
  },
  {
   "cell_type": "code",
   "execution_count": null,
   "metadata": {},
   "outputs": [],
   "source": []
  },
  {
   "cell_type": "code",
   "execution_count": null,
   "metadata": {},
   "outputs": [],
   "source": []
  },
  {
   "cell_type": "code",
   "execution_count": null,
   "metadata": {},
   "outputs": [],
   "source": []
  },
  {
   "cell_type": "code",
   "execution_count": null,
   "metadata": {},
   "outputs": [],
   "source": []
  },
  {
   "cell_type": "code",
   "execution_count": null,
   "metadata": {},
   "outputs": [],
   "source": []
  },
  {
   "cell_type": "code",
   "execution_count": null,
   "metadata": {},
   "outputs": [],
   "source": []
  },
  {
   "cell_type": "code",
   "execution_count": null,
   "metadata": {},
   "outputs": [],
   "source": []
  },
  {
   "cell_type": "code",
   "execution_count": null,
   "metadata": {},
   "outputs": [],
   "source": []
  },
  {
   "cell_type": "code",
   "execution_count": null,
   "metadata": {},
   "outputs": [],
   "source": []
  },
  {
   "cell_type": "code",
   "execution_count": null,
   "metadata": {},
   "outputs": [],
   "source": []
  },
  {
   "cell_type": "code",
   "execution_count": null,
   "metadata": {},
   "outputs": [],
   "source": []
  },
  {
   "cell_type": "code",
   "execution_count": null,
   "metadata": {},
   "outputs": [],
   "source": []
  }
 ],
 "metadata": {
  "kernelspec": {
   "display_name": "Q (kdb+)",
   "language": "q",
   "name": "qpk"
  },
  "language_info": {
   "file_extension": ".q",
   "mimetype": "text/x-q",
   "name": "q",
   "version": "3.6.0"
  }
 },
 "nbformat": 4,
 "nbformat_minor": 4
}
