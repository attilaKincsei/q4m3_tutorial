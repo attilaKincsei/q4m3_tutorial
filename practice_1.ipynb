{
 "cells": [
  {
   "cell_type": "markdown",
   "metadata": {},
   "source": [
    "Source: [Kaggle: Huge Stock Market Dataset](https://www.kaggle.com/borismarjanovic/price-volume-data-for-all-us-stocks-etfs)"
   ]
  },
  {
   "cell_type": "code",
   "execution_count": null,
   "metadata": {},
   "outputs": [],
   "source": [
    "path:\"/home/akincsei/00_datasets/kaggle__price-volume-data-for-all-us-stocks-etfs/csv_data/Stocks/\"\n",
    "ticker_list:(`aapl;`amzn;`baba;`fb;`fox;`googl;`ibm;`intc;`lmt;`lhm;`ms;`msft;`orcl;`tmus)\n",
    "ticker:string ticker_list[1]\n",
    "ext:\".us.csv\"\n",
    "pattern:\"DFFFFII\"\n",
    "pth_fn:hsym `$path,ticker,ext\n",
    "pth_fn"
   ]
  },
  {
   "cell_type": "code",
   "execution_count": null,
   "metadata": {},
   "outputs": [],
   "source": [
    "rd_csv:{[pth;tck;ext;ptrn] (ptrn;enlist \",\") 0: hsym `$pth,tck,ext}\n",
    " / aadr_table:(\"DFFFFII\";enlist \",\") 0: `$pth_fn"
   ]
  },
  {
   "cell_type": "code",
   "execution_count": null,
   "metadata": {},
   "outputs": [],
   "source": [
    "aapl_table:rd_csv[path;ticker;ext;pattern]"
   ]
  },
  {
   "cell_type": "code",
   "execution_count": null,
   "metadata": {},
   "outputs": [],
   "source": [
    "aapl_table"
   ]
  }
 ],
 "metadata": {
  "kernelspec": {
   "display_name": "Q (kdb+)",
   "language": "q",
   "name": "qpk"
  },
  "language_info": {
   "file_extension": ".q",
   "mimetype": "text/x-q",
   "name": "q",
   "version": "3.6.0"
  }
 },
 "nbformat": 4,
 "nbformat_minor": 2
}
