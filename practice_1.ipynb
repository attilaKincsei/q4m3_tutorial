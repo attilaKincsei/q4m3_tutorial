{
 "cells": [
  {
   "cell_type": "markdown",
   "metadata": {},
   "source": [
    "Source: [Kaggle: Huge Stock Market Dataset](https://www.kaggle.com/borismarjanovic/price-volume-data-for-all-us-stocks-etfs)"
   ]
  },
  {
   "cell_type": "code",
   "execution_count": 13,
   "metadata": {},
   "outputs": [],
   "source": [
    "path:\"/home/akincsei/00_datasets/kaggle__price-volume-data-for-all-us-stocks-etfs/csv_data/Stocks/\"\n",
    "ticker_list:(`aapl;`amzn;`baba;`fb;`fox;`googl;`ibm;`intc;`lmt;`lhm;`ms;`msft;`orcl;`tmus)\n",
    "ticker:string ticker_list[0]\n",
    "ext:\".us.csv\"\n",
    "pattern:\"DFFFFII\"\n",
    "pth_fn:path,ticker,ext"
   ]
  },
  {
   "cell_type": "code",
   "execution_count": 15,
   "metadata": {},
   "outputs": [],
   "source": [
    "rd_csv:{[pth;tck;ext;ptrn] (ptrn;enlist \",\") 0: `$pth,tck,ext}\n",
    " / aadr_table:(\"DFFFFII\";enlist \",\") 0: `$pth_fn"
   ]
  },
  {
   "cell_type": "code",
   "execution_count": 16,
   "metadata": {},
   "outputs": [],
   "source": [
    "aapl_table:rd_csv[path;ticker;ext;pattern]"
   ]
  },
  {
   "cell_type": "code",
   "execution_count": 17,
   "metadata": {},
   "outputs": [
    {
     "data": {
      "text/plain": [
       "Date       Open    High    Low     Close   Volume   OpenInt\n",
       "-----------------------------------------------------------\n",
       "1984.09.07 0.42388 0.42902 0.41874 0.42388 23220030 0      \n",
       "1984.09.10 0.42388 0.42516 0.41366 0.42134 18022532 0      \n",
       "1984.09.11 0.42516 0.43668 0.42516 0.42902 42498199 0      \n",
       "1984.09.12 0.42902 0.43157 0.41618 0.41618 37125801 0      \n",
       "1984.09.13 0.43927 0.44052 0.43927 0.43927 57822062 0      \n",
       "1984.09.14 0.44052 0.45589 0.44052 0.44566 68847968 0      \n",
       "1984.09.17 0.45718 0.46357 0.45718 0.45718 53755262 0      \n",
       "1984.09.18 0.45718 0.46103 0.44052 0.44052 27136886 0      \n",
       "1984.09.19 0.44052 0.44566 0.43157 0.43157 29641922 0      \n",
       "1984.09.20 0.43286 0.43668 0.43286 0.43286 18453585 0      \n",
       "1984.09.21 0.43286 0.44566 0.42388 0.42902 27842780 0      \n",
       "1984.09.24 0.42902 0.43157 0.42516 0.42516 22033109 0      \n",
       "1984.09.25 0.42388 0.42388 0.41618 0.41618 46515020 0      \n",
       "1984.09.26 0.41618 0.4354  0.41111 0.41111 30947546 0      \n",
       "1984.09.27 0.41111 0.41366 0.41111 0.41111 29541971 0      \n",
       "1984.09.28 0.41111 0.41111 0.39316 0.40081 65093531 0      \n",
       "1984.10.01 0.39956 0.39956 0.39186 0.39186 27268068 0      \n",
       "1984.10.02 0.39443 0.40853 0.39443 0.39443 32977801 0      \n",
       "1984.10.03 0.40081 0.40724 0.40081 0.40081 33583772 0      \n",
       "1984.10.04 0.40593 0.40853 0.40593 0.40593 34995586 0      \n",
       "..\n"
      ]
     },
     "execution_count": 17,
     "metadata": {},
     "output_type": "execute_result"
    }
   ],
   "source": [
    "aapl_table"
   ]
  }
 ],
 "metadata": {
  "kernelspec": {
   "display_name": "Q (kdb+)",
   "language": "q",
   "name": "qpk"
  },
  "language_info": {
   "file_extension": ".q",
   "mimetype": "text/x-q",
   "name": "q",
   "version": "3.6.0"
  }
 },
 "nbformat": 4,
 "nbformat_minor": 2
}
