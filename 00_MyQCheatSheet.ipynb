{
 "cells": [
  {
   "cell_type": "markdown",
   "metadata": {},
   "source": [
    "# My Q cheat sheet"
   ]
  },
  {
   "cell_type": "markdown",
   "metadata": {},
   "source": [
    "## Data types"
   ]
  },
  {
   "cell_type": "markdown",
   "metadata": {},
   "source": [
    "- __GUID__: The difference between using a positive integer vs. a negative integer to generate a list of GUIDs is that the positive case uses the same initial seed in each new q session whereas the negative case uses a random seed. The former is useful for reproducible results during testing but only the latter should be used in production; otherwise, your \"GUIDs\" will not be unique across q sessions.\n",
    "- __Time__: extract millisecond and nanosecond constituents by converting them to integers and take their modulo:"
   ]
  },
  {
   "cell_type": "code",
   "execution_count": 1,
   "metadata": {},
   "outputs": [
    {
     "data": {
      "text/plain": [
       "789\n"
      ]
     },
     "execution_count": 1,
     "metadata": {},
     "output_type": "execute_result"
    },
    {
     "data": {
      "text/plain": [
       "123456789\n"
      ]
     },
     "execution_count": 1,
     "metadata": {},
     "output_type": "execute_result"
    }
   ],
   "source": [
    "(`int$12:34:56.789) mod 1000 / casting milliseconds\n",
    "(`long$12:34:56.123456789) mod 1000000000 / nanoseconds"
   ]
  },
  {
   "cell_type": "markdown",
   "metadata": {},
   "source": [
    "## Execution control: no iffy and loopy code"
   ]
  },
  {
   "cell_type": "markdown",
   "metadata": {},
   "source": [
    "- Use boolean instead of conditionals:"
   ]
  },
  {
   "cell_type": "code",
   "execution_count": 1,
   "metadata": {},
   "outputs": [
    {
     "data": {
      "text/plain": [
       "142\n"
      ]
     },
     "execution_count": 1,
     "metadata": {},
     "output_type": "execute_result"
    }
   ],
   "source": [
    "flag:1b\n",
    "base:100\n",
    "base+flag*42"
   ]
  },
  {
   "cell_type": "markdown",
   "metadata": {},
   "source": [
    "## Check if infinit value"
   ]
  },
  {
   "cell_type": "code",
   "execution_count": null,
   "metadata": {},
   "outputs": [],
   "source": [
    "0w in (-0W; 0W) // throws error 'type"
   ]
  },
  {
   "cell_type": "code",
   "execution_count": null,
   "metadata": {},
   "outputs": [],
   "source": [
    "myVar:0w\n",
    "(myVar ~ 0W) or (myVar ~ -0W) // works"
   ]
  },
  {
   "cell_type": "markdown",
   "metadata": {},
   "source": [
    "#### Create empty list"
   ]
  },
  {
   "cell_type": "code",
   "execution_count": null,
   "metadata": {},
   "outputs": [],
   "source": [
    "0#0 ~ `long$()\n",
    "0#0.0 ~ `float$()"
   ]
  },
  {
   "cell_type": "markdown",
   "metadata": {},
   "source": [
    "## File I/O"
   ]
  },
  {
   "cell_type": "markdown",
   "metadata": {},
   "source": [
    "- Binary file handling of q data structures as content\n",
    "    - x set y:\n",
    "        - x is a binary file handle including its name\n",
    "        - y is a q data structure\n",
    "        - saves y as x\n",
    "        - file name can be customized\n",
    "    - get x:\n",
    "        - x is a binary file handle\n",
    "        - reads x into memory as a q data structure\n",
    "    - save x (similar to set[x;y]);\n",
    "        - x is a filename as a symbol\n",
    "        - x (ignoring path and extension) must match the name of a global table\n",
    "        - saves the global table to file and returns the filename\n",
    "        - the format used depends on the file extension: __.txt, .csv, .xls, .xml__\n",
    "        - file name cannot be customized\n",
    "        - e.g.: _save hsym `global_table_name_\n",
    "        - to customize file name use this idiom:\n",
    "            - ``file_name.csv 0: csv 0: table\n",
    "            - saves table to .csv file while controlling the filename\n",
    "            - path cannot be customized: file is saved in HOME directory\n",
    "\n",
    "    - load x (similar to get x):\n",
    "        - x is a filehandle\n",
    "        - reads x and creates q data structure persisted in the file with the same name as the input filename\n",
    "- Binary file handling of bites as content\n",
    "    - 1: x\n",
    "        - x is raw binary data \n",
    "        - writes x to binary file\n",
    "        - file name cannot be customized\n",
    "    - read1 x:\n",
    "        - x is a binary file handle\n",
    "        - reads contents of x into memory as a list of bites\n",
    "\n",
    "- Text file handling: .txt, .csv, .tsv\n",
    "    - 0: x\n",
    "        - x is a list of strings\n",
    "        - writes x into text file format (txt, csv, tsv)\n",
    "        - path cannot be customized\n",
    "    - read0 x:\n",
    "        - x is a text file handle\n",
    "        - reads contents of x into memory as a list of strings\n",
    "        \n",
    "- File handling related built-on functions:\n",
    "    - hcount x: Returns as a long integer equal to the size in bytes of x\n",
    "    - hsym x:\n",
    "        - x is symbol containing a path ending in a file name\n",
    "        - hsym convers x into a file handle by inserting a colon between the backtick and path\n",
    "        - e.g.: hsym `fdf/df.txt -> `:fdf/df.txt\n",
    "        - hdel x: deletes file by handle name\n",
    "    - hopen x:\n",
    "        - x is a file or a websocket handle\n",
    "        - returns an open handle function (creates function if it does not exist)\n",
    "    - hclose x: closes the file or websocket handle\n",
    "    - neg h l:\n",
    "        - h is an open file handle function\n",
    "        - l is a list of strings\n",
    "        - appends items of l to h\n",
    "        - e.g.: neg h (value1;value2)"
   ]
  },
  {
   "cell_type": "markdown",
   "metadata": {},
   "source": [
    "## Communication: IPC, HTTP, WebSocket"
   ]
  },
  {
   "cell_type": "code",
   "execution_count": null,
   "metadata": {},
   "outputs": [],
   "source": [
    ".z.w (`functionName;param1;param2) // client connection handle can be used to create a callback function to the client on server side"
   ]
  },
  {
   "cell_type": "markdown",
   "metadata": {},
   "source": [
    "- IPC synchronous and asynchronous request processing:"
   ]
  },
  {
   "cell_type": "code",
   "execution_count": null,
   "metadata": {},
   "outputs": [],
   "source": [
    ".z.pg:{value x} // IPC, processes sync get requests from client q processes\n",
    ".z.pg:{$[-11h=type first x; .[value first x; 1_x; ::]; `unsupported]} // example definition of .z.pg processing only functions defined on server sidea"
   ]
  },
  {
   "cell_type": "code",
   "execution_count": null,
   "metadata": {},
   "outputs": [],
   "source": [
    ".z.ps:{value x} // IPC, processes async set requests\n",
    ".z.ps:{res:$[-11h=type x[1]; .[value x[1]; 2_x; ::]; `unsupported];(neg .z.w) (value first x; res)} // async function with callback function to client"
   ]
  },
  {
   "cell_type": "markdown",
   "metadata": {},
   "source": [
    "- .z.po:{[connHandle] `requestor set connHandle; <logic>;} // used to build a dictionary of connection handles and their IP addresses and user IDs\n",
    "- .z.a: IP address\n",
    "- .z.u: user ID\n",
    "- .z.pw:{[user;pswd]1b} user id and password check"
   ]
  },
  {
   "cell_type": "markdown",
   "metadata": {},
   "source": [
    "- HTTP requests"
   ]
  },
  {
   "cell_type": "code",
   "execution_count": null,
   "metadata": {},
   "outputs": [],
   "source": [
    ".z.ph (requestText;requestHeaderAsDictionary) // for trapping HTTP get requests\n",
    ".z.ph:{show x 0; show x 1; ; string value 1_x 0} // example customization on server\n",
    ".z.pp:`unaryFunction // for trapping HTTP post requests, no default handler\n",
    "// you can customize both of them."
   ]
  },
  {
   "cell_type": "code",
   "execution_count": null,
   "metadata": {},
   "outputs": [],
   "source": [
    "response:.j.j (enlist `mykey)!(enlist `myvalue);\n",
    ".z.pp:{:.h.hy [`json;response]}"
   ]
  },
  {
   "cell_type": "code",
   "execution_count": null,
   "metadata": {},
   "outputs": [],
   "source": [
    "response:enlist[`node_key]!enlist[\"this_is_a_node_secret\"]\n",
    ".z.pp:{:.h.hy [`txt;.j.j response]}"
   ]
  },
  {
   "cell_type": "markdown",
   "metadata": {},
   "source": [
    "- More .z.pp implementation examples:\n",
    "    - https://github.com/jonathonmcmurray/qwebapi\n",
    "    - https://codywu2010.wordpress.com/2020/01/28/all-possible-ways-you-can-talk-to-q-kdb/\n",
    "    - https://jmcmurray.co.uk/kdb/q/rest/api/2018/05/22/rest-api-in-kdb.html"
   ]
  },
  {
   "cell_type": "markdown",
   "metadata": {},
   "source": [
    "- Websockets"
   ]
  },
  {
   "cell_type": "markdown",
   "metadata": {},
   "source": [
    "- .z.ws:{neg[.z.w]x} default definition: echoes the request back to the client\n",
    "- -8! to bytes\n",
    "- -9! from bytes\n",
    "- neg[.z.w]: sends answer to client ansychronously"
   ]
  },
  {
   "cell_type": "code",
   "execution_count": null,
   "metadata": {},
   "outputs": [],
   "source": [
    ".z.ws:{0N!-9!x; neg[.z.w] -8!42} // for trapping web socket requests"
   ]
  },
  {
   "cell_type": "markdown",
   "metadata": {},
   "source": [
    "- Pushing messages from the server"
   ]
  },
  {
   "cell_type": "code",
   "execution_count": null,
   "metadata": {},
   "outputs": [],
   "source": [
    "\\p 4242\n",
    "answer:42\n",
    ".z.po:{`requestor set x; system \"t 1000\";}\n",
    ".z.ts:{neg[requestor] -8!answer;; answer+:1;}"
   ]
  },
  {
   "cell_type": "markdown",
   "metadata": {},
   "source": [
    "- see also:\n",
    "    - .z.wo:{[connHandle]} // evaluated when a websocket connection is initialized to a kdb session and after validated agains -u/-U file and .z.pw checks\n",
    "    - .z.wc:{} // evaluated after a websocket connection is closed. used to clean up the dictionary created by .z.wo"
   ]
  },
  {
   "cell_type": "markdown",
   "metadata": {},
   "source": [
    "## Idiotic one character functions"
   ]
  },
  {
   "cell_type": "markdown",
   "metadata": {},
   "source": [
    "- Ternary / conditional expression:\n",
    "    - $[cond_expr;true_expr;false_expr]\n",
    "- Exception handling (protected evaluation)\n",
    "    - @[monadic_function;single_parameter;'ErrorMessage]\n",
    "    - .[multivalent_function;list_of_parameters;'ErrorMessage]\n",
    "- Functional select:\n",
    "    - ?[table;constraint;byGroup;aggregates;limit;orderBy] // select and exec when rank is 4 or above\n",
    "    - ?[x;y;z] // vector conditional when rank is 3\n",
    "    - ![] // delete and update"
   ]
  },
  {
   "cell_type": "markdown",
   "metadata": {},
   "source": [
    "## The seven overloads of ?"
   ]
  },
  {
   "cell_type": "code",
   "execution_count": null,
   "metadata": {},
   "outputs": [],
   "source": [
    "egAtom:12\n",
    "egAtom2:6\n",
    "egList:10+2*til 10"
   ]
  },
  {
   "cell_type": "code",
   "execution_count": null,
   "metadata": {},
   "outputs": [],
   "source": [
    "egList?egAtom / find: returns index of atom if it is in list, else list item count"
   ]
  },
  {
   "cell_type": "code",
   "execution_count": null,
   "metadata": {},
   "outputs": [],
   "source": [
    "egAtom?egList / roll: returns a random k (egAtom) combination of the list with repetition (n can be atom)"
   ]
  },
  {
   "cell_type": "code",
   "execution_count": null,
   "metadata": {},
   "outputs": [],
   "source": [
    "(neg egAtom2)?egList / deal: returns a random k combination of n __without repetition__ (n>=k; n can be atom)"
   ]
  },
  {
   "cell_type": "code",
   "execution_count": null,
   "metadata": {},
   "outputs": [],
   "source": [
    "0N?egList / permute: returns a random permutation of n"
   ]
  },
  {
   "cell_type": "code",
   "execution_count": null,
   "metadata": {},
   "outputs": [],
   "source": [
    "egEnum:`a`b / create enum explicitly\n",
    "`egEnum?`c / Enum Extend: adds item to enum object\n",
    "egEnum"
   ]
  },
  {
   "cell_type": "markdown",
   "metadata": {},
   "source": [
    "## String manupulation"
   ]
  },
  {
   "cell_type": "markdown",
   "metadata": {},
   "source": [
    "- Join return values of system commands with raze"
   ]
  },
  {
   "cell_type": "code",
   "execution_count": null,
   "metadata": {},
   "outputs": [],
   "source": [
    "(raze system \"pwd\"),\"/my/path/myFile.q\""
   ]
  },
  {
   "cell_type": "code",
   "execution_count": null,
   "metadata": {},
   "outputs": [],
   "source": [
    ".h.ty"
   ]
  }
 ],
 "metadata": {
  "kernelspec": {
   "display_name": "Q (kdb+)",
   "language": "q",
   "name": "qpk"
  },
  "language_info": {
   "file_extension": ".q",
   "mimetype": "text/x-q",
   "name": "q",
   "version": "3.6.0"
  }
 },
 "nbformat": 4,
 "nbformat_minor": 4
}
