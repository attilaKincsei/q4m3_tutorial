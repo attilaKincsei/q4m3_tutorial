{
 "cells": [
  {
   "cell_type": "markdown",
   "metadata": {},
   "source": [
    "Source: [Kaggle: Huge Stock Market Dataset](https://www.kaggle.com/borismarjanovic/price-volume-data-for-all-us-stocks-etfs)"
   ]
  },
  {
   "cell_type": "code",
   "execution_count": null,
   "metadata": {},
   "outputs": [],
   "source": [
    "path:\"/home/iguana/1_Code/00_datasets/kaggle__price-volume-data-for-all-us-stocks-etfs/csv_data/Stocks/\"\n",
    "ext:\".us.csv\"\n",
    "pattern:\"DFFFFII\""
   ]
  },
  {
   "cell_type": "code",
   "execution_count": null,
   "metadata": {},
   "outputs": [],
   "source": [
    "rd_csv:{[tck;ptrn] (ptrn;enlist \",\") 0: hsym `$path,tck,ext}"
   ]
  },
  {
   "cell_type": "code",
   "execution_count": null,
   "metadata": {},
   "outputs": [],
   "source": [
    "select_table:{[nr_of_rows;st_table] sel:select[nr_of_rows;<Date] from st_table; (enlist `ticker)!(enlist sel)}"
   ]
  },
  {
   "cell_type": "code",
   "execution_count": null,
   "metadata": {},
   "outputs": [],
   "source": [
    "\\p 8899"
   ]
  },
  {
   "cell_type": "code",
   "execution_count": null,
   "metadata": {},
   "outputs": [],
   "source": [
    ".z.ws:{show req:-9!x;st_table:rd_csv[req[`ticker];pattern];neg[.z.w] -8!.j.j select_table[1000;st_table]}"
   ]
  }
 ],
 "metadata": {
  "kernelspec": {
   "display_name": "Q (kdb+)",
   "language": "q",
   "name": "qpk"
  },
  "language_info": {
   "file_extension": ".q",
   "mimetype": "text/x-q",
   "name": "q",
   "version": "3.6.0"
  }
 },
 "nbformat": 4,
 "nbformat_minor": 2
}
