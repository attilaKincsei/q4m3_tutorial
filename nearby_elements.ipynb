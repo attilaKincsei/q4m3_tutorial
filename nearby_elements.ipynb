{
 "cells": [
  {
   "cell_type": "code",
   "execution_count": null,
   "metadata": {},
   "outputs": [],
   "source": [
    "show input:((2;0;4;1241;12;5;11;1110;-42;424;1;12323);(1;3;5;7);(321;320;32;3;41241;-11;-12;-13;-66;-688))"
   ]
  },
  {
   "cell_type": "code",
   "execution_count": null,
   "metadata": {},
   "outputs": [],
   "source": [
    "nearby:{start:max(0;y-z);length:start+(2*z)+1+min(0;y-z); ((start;length) sublist input[x])_min(y;z)}"
   ]
  },
  {
   "cell_type": "code",
   "execution_count": null,
   "metadata": {},
   "outputs": [],
   "source": [
    "nearby[0;2;2]\n",
    "nearby[1;0;1]\n",
    "nearby[1;3;5]\n",
    "nearby[2;7;2]\n",
    "nearby[2;7;3]"
   ]
  },
  {
   "cell_type": "code",
   "execution_count": null,
   "metadata": {},
   "outputs": [],
   "source": [
    "nearby2:{start:max(0;y-z);end:min(y+1+z-count input[x];0);trunc:(end)_input[x];(start)_(trunc)_y}"
   ]
  },
  {
   "cell_type": "code",
   "execution_count": null,
   "metadata": {},
   "outputs": [],
   "source": [
    "nearby2[0;2;2]\n",
    "nearby2[1;0;1]\n",
    "nearby2[1;3;5]\n",
    "nearby2[2;7;2]\n",
    "nearby2[2;7;3]"
   ]
  },
  {
   "cell_type": "code",
   "execution_count": 103,
   "metadata": {},
   "outputs": [],
   "source": [
    "nearby3:{end:min(y+1+z-count input[x];0);(max(0;y-z))_((end)_input[x])_y}"
   ]
  },
  {
   "cell_type": "code",
   "execution_count": 104,
   "metadata": {},
   "outputs": [
    {
     "data": {
      "text/plain": [
       "2 0 1241 12\n"
      ]
     },
     "execution_count": 104,
     "metadata": {},
     "output_type": "execute_result"
    },
    {
     "data": {
      "text/plain": [
       ",3\n"
      ]
     },
     "execution_count": 104,
     "metadata": {},
     "output_type": "execute_result"
    },
    {
     "data": {
      "text/plain": [
       "1 3 5\n"
      ]
     },
     "execution_count": 104,
     "metadata": {},
     "output_type": "execute_result"
    },
    {
     "data": {
      "text/plain": [
       "-11 -12 -66 -688\n"
      ]
     },
     "execution_count": 104,
     "metadata": {},
     "output_type": "execute_result"
    },
    {
     "data": {
      "text/plain": [
       "41241 -11 -12 -66 -688\n"
      ]
     },
     "execution_count": 104,
     "metadata": {},
     "output_type": "execute_result"
    }
   ],
   "source": [
    "nearby3[0;2;2]\n",
    "nearby3[1;0;1]\n",
    "nearby3[1;3;5]\n",
    "nearby3[2;7;2]\n",
    "nearby3[2;7;3]"
   ]
  },
  {
   "cell_type": "markdown",
   "metadata": {},
   "source": [
    "- nearby(0, 2, 2) would result: 2 0 1241 12\n",
    "- nearby(1, 0, 1) would result: 3\n",
    "- nearby(1, 3, 5) would result: 1 3 5\n",
    "- nearby(2, 7, 4) sould result: -11 -12 -66 -688"
   ]
  }
 ],
 "metadata": {
  "kernelspec": {
   "display_name": "Q (kdb+)",
   "language": "q",
   "name": "qpk"
  },
  "language_info": {
   "file_extension": ".q",
   "mimetype": "text/x-q",
   "name": "q",
   "version": "3.6.0"
  }
 },
 "nbformat": 4,
 "nbformat_minor": 2
}
