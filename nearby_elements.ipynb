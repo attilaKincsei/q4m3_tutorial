{
 "cells": [
  {
   "cell_type": "code",
   "execution_count": 1,
   "metadata": {},
   "outputs": [
    {
     "name": "stdout",
     "output_type": "stream",
     "text": [
      "2 0 4 1241 12 5 11 1110 -42 424 1 12323\n",
      "1 3 5 7\n",
      "321 320 32 3 41241 -11 -12 -13 -66 -688\n"
     ]
    }
   ],
   "source": [
    "show input:((2;0;4;1241;12;5;11;1110;-42;424;1;12323);(1;3;5;7);(321;320;32;3;41241;-11;-12;-13;-66;-688))"
   ]
  },
  {
   "cell_type": "code",
   "execution_count": null,
   "metadata": {},
   "outputs": [],
   "source": [
    "nearby:{start:max(0;y-z);length:start+(2*z)+1+min(0;y-z); ((start;length) sublist input[x])_min(y;z)}"
   ]
  },
  {
   "cell_type": "code",
   "execution_count": 5,
   "metadata": {},
   "outputs": [
    {
     "data": {
      "text/plain": [
       "2 0 1241 12\n"
      ]
     },
     "execution_count": 5,
     "metadata": {},
     "output_type": "execute_result"
    },
    {
     "data": {
      "text/plain": [
       ",3\n"
      ]
     },
     "execution_count": 5,
     "metadata": {},
     "output_type": "execute_result"
    },
    {
     "data": {
      "text/plain": [
       "1 3 5\n"
      ]
     },
     "execution_count": 5,
     "metadata": {},
     "output_type": "execute_result"
    }
   ],
   "source": [
    "nearby[0;2;2]\n",
    "nearby[1;0;1]\n",
    "nearby[1;3;5]"
   ]
  },
  {
   "cell_type": "markdown",
   "metadata": {},
   "source": [
    "- nearby(0, 2, 2) would result: 2 0 1241 12\n",
    "- nearby(1, 0, 1) would result: 3\n",
    "- nearby(1, 3, 5) would result: 1 3 5"
   ]
  }
 ],
 "metadata": {
  "kernelspec": {
   "display_name": "Q (kdb+)",
   "language": "q",
   "name": "qpk"
  },
  "language_info": {
   "file_extension": ".q",
   "mimetype": "text/x-q",
   "name": "q",
   "version": "3.6.0"
  }
 },
 "nbformat": 4,
 "nbformat_minor": 2
}
