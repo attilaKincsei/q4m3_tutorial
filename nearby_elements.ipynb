{
 "cells": [
  {
   "cell_type": "code",
   "execution_count": 138,
   "metadata": {},
   "outputs": [],
   "source": [
    "input:((2;0;4;1241;12;5;11;1110;-42;424;1;12323);(1;3;5;7);(321;320;32;3;41241;-11;-12;-13;-66;-688))"
   ]
  },
  {
   "cell_type": "code",
   "execution_count": 139,
   "metadata": {},
   "outputs": [
    {
     "data": {
      "text/plain": [
       "2 0 4 1241 12 5 11 1110 -42 424 1 12323\n",
       "1 3 5 7\n",
       "321 320 32 3 41241 -11 -12 -13 -66 -688\n"
      ]
     },
     "execution_count": 139,
     "metadata": {},
     "output_type": "execute_result"
    }
   ],
   "source": [
    "input"
   ]
  },
  {
   "cell_type": "code",
   "execution_count": 132,
   "metadata": {},
   "outputs": [],
   "source": [
    "nearby_bad:{[x;y;range] remove:input_list[x][y];start:max(0;y-range);length:start+(2*range)+1+min(0;y-range); ((start;length) sublist input_list[x]) except remove}"
   ]
  },
  {
   "cell_type": "code",
   "execution_count": 154,
   "metadata": {},
   "outputs": [],
   "source": [
    "nearby:{start:(|/)(0;y-z);length:start+(2*z)+1+(&/)(0;y-z); ((start;length) sublist input[x])_(&/)(y;z)}"
   ]
  },
  {
   "cell_type": "code",
   "execution_count": 155,
   "metadata": {},
   "outputs": [
    {
     "data": {
      "text/plain": [
       "2 0 1241 12\n"
      ]
     },
     "execution_count": 155,
     "metadata": {},
     "output_type": "execute_result"
    },
    {
     "data": {
      "text/plain": [
       ",3\n"
      ]
     },
     "execution_count": 155,
     "metadata": {},
     "output_type": "execute_result"
    },
    {
     "data": {
      "text/plain": [
       "1 3 5\n"
      ]
     },
     "execution_count": 155,
     "metadata": {},
     "output_type": "execute_result"
    }
   ],
   "source": [
    "nearby[0;2;2]\n",
    "nearby[1;0;1]\n",
    "nearby[1;3;5]"
   ]
  },
  {
   "cell_type": "markdown",
   "metadata": {},
   "source": [
    "nearby(0, 2, 2) would result: 2 0 1241 12\n",
    "nearby(1, 0, 1) would result: 3\n",
    "nearby(1, 3, 5) would result: 1 3 5"
   ]
  },
  {
   "cell_type": "code",
   "execution_count": 83,
   "metadata": {},
   "outputs": [
    {
     "data": {
      "text/plain": [
       "3\n"
      ]
     },
     "execution_count": 83,
     "metadata": {},
     "output_type": "execute_result"
    }
   ],
   "source": [
    "start:1\n",
    "range:2\n",
    "y:3\n",
    "start+range+min(0;y-range)"
   ]
  },
  {
   "cell_type": "code",
   "execution_count": 101,
   "metadata": {},
   "outputs": [
    {
     "data": {
      "text/plain": [
       "0 1 2 3 4 5 6 7 8\n"
      ]
     },
     "execution_count": 101,
     "metadata": {},
     "output_type": "execute_result"
    }
   ],
   "source": [
    "0 1 2 3 4 5 6 7 8 111_9"
   ]
  },
  {
   "cell_type": "code",
   "execution_count": 153,
   "metadata": {},
   "outputs": [
    {
     "data": {
      "text/plain": [
       "100 300\n"
      ]
     },
     "execution_count": 153,
     "metadata": {},
     "output_type": "execute_result"
    }
   ],
   "source": [
    "L:100 200 300 400\n",
    "L[0 2]"
   ]
  }
 ],
 "metadata": {
  "kernelspec": {
   "display_name": "Q (kdb+)",
   "language": "q",
   "name": "qpk"
  },
  "language_info": {
   "file_extension": ".q",
   "mimetype": "text/x-q",
   "name": "q",
   "version": "3.6.0"
  }
 },
 "nbformat": 4,
 "nbformat_minor": 2
}
