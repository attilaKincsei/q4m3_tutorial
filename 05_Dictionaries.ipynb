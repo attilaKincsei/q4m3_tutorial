{
 "cells": [
  {
   "cell_type": "markdown",
   "metadata": {},
   "source": [
    "# 5. Dictionaries"
   ]
  },
  {
   "cell_type": "markdown",
   "metadata": {},
   "source": [
    "## Basic operations on dictionaries"
   ]
  },
  {
   "cell_type": "markdown",
   "metadata": {},
   "source": [
    "- Create dictionary:\n",
    "    - key_list!value_list\n",
    "    - NON-UNIQUE KEYS ARE TOLERATED\n",
    "        - lookup and reverse lookup sees only firest occurrence\n",
    "        - to get all keys to a given value: where 10=dict\n",
    "    - NON-UNIFORM key and value types are tolerated\n",
    "    - Both keys and values can be nested lists\n",
    "    - To create a dictionary as a hash table (faster lookup speed): (`u#`a`b`c)!(10;20;30)\n",
    "        - Keys must be unique!!\n",
    "    - singleton dictionary: (enlist \"a\")!(enlist 42)\n",
    "    - empty dictionary: ()!()\n",
    "    - typed empty dictionary:"
   ]
  },
  {
   "cell_type": "code",
   "execution_count": 1,
   "metadata": {},
   "outputs": [],
   "source": [
    "dict:(`symbol$())!`float$()"
   ]
  },
  {
   "cell_type": "markdown",
   "metadata": {},
   "source": [
    "- Add item to dictionary:"
   ]
  },
  {
   "cell_type": "code",
   "execution_count": 5,
   "metadata": {},
   "outputs": [],
   "source": [
    "dict[`a]:44.0"
   ]
  },
  {
   "cell_type": "code",
   "execution_count": 6,
   "metadata": {},
   "outputs": [
    {
     "data": {
      "text/plain": [
       "a| 44\n"
      ]
     },
     "execution_count": 6,
     "metadata": {},
     "output_type": "execute_result"
    }
   ],
   "source": [
    "dict"
   ]
  },
  {
   "cell_type": "markdown",
   "metadata": {},
   "source": [
    "- Assign new value to a key: dict[\"a\"]:41\n",
    "- UPSERT semantics: update and insert follows the same semantics\n",
    "    - upsert semantics applies to tables and keyed tables (kdb+) as they consists of dictionaries"
   ]
  },
  {
   "cell_type": "markdown",
   "metadata": {},
   "source": [
    "- Access / lookup:\n",
    "    - single item: dict[\"a\"] or dict \"a\"\n",
    "    - multiple items: dict[\"a\" \"b\"] / key can be a list variable\n",
    "    - all keys: key dict\n",
    "    - all values: value dict\n",
    "    - If key not in dictionary, returns __null__ whose type is that of the initial item in the value list.\n",
    "    - find key by value: dict?10 -> returns the key of the first occurrence of 10 in a dictionary\n",
    "        - results null if the value is not in the list\n",
    "- Update item\n",
    "- Remove item\n",
    "    - single item: dict _ key\n",
    "    - multiple items: list of keys _ dict or (enlist key) cut dict\n",
    "        - removes all occurrences of duplicate keys!!!\n",
    "- Length: count dict\n",
    "- Transpose\n",
    "- Other operations on dictionaries\n",
    "    - join dictionaries:\n",
    "        - d1+d2 values of the common items in the two dictionaries are added, otherwese union of items in the two domains are created\n",
    "        - d1,d2: no addition, only union. if there are common elements in the domain, the right operand item prevails\n",
    "            - not commutative: order matters\n",
    "    - ^ (coalesce): dimilar to join (,), only non-null values prevail over null values\n",
    "    - you can define dictionaries as lists if the keys are indices\n",
    "        - create a sparse list by making non-continuus indexing in the dictionary's keys\n",
    "    - #: extracting subdictionaries list hash dictionary: (\"a\";\"b\")#dict"
   ]
  },
  {
   "cell_type": "markdown",
   "metadata": {},
   "source": [
    "- A dictionary is a mapping defined by an explicit association between a __key list and value list__.\n",
    "- The two lists\n",
    "    - must have the __same count__ and\n",
    "    - the key list should be a __unique collection__.\n",
    "- While general lists can be used to create a dictionary, many dictionaries involve simple lists of keys.\n",
    "- A dictionary is an __association between a list of keys and a list of values__.\n",
    "- Logically it can also be considered as key-value pairs but it is __stored physically as a pair of lists__.\n",
    "- NOTATION: __key_list!value_list__\n",
    "- dictionary type: __99h__\n",
    "- the order of keys and values in the list is significant:\n",
    "    - differently ordered dictionaries are NOT identical: (`a`b`c!10 20 30)~`a`c`b!10 30 20 -> 0b"
   ]
  },
  {
   "cell_type": "code",
   "execution_count": null,
   "metadata": {},
   "outputs": [],
   "source": [
    "eg1:(`Arthur`Dent; `Zaphod`Beeblebrox; `Ford`Prefect)! 100 42 150\n",
    "eg2:1001 1002 1003!(`Arthur`Dent; `Zaphod`Beeblebrox; `Ford`Prefect)"
   ]
  },
  {
   "cell_type": "code",
   "execution_count": null,
   "metadata": {},
   "outputs": [],
   "source": [
    "typed_dict:(`symbol$())!`float$()"
   ]
  },
  {
   "cell_type": "code",
   "execution_count": null,
   "metadata": {},
   "outputs": [],
   "source": [
    "typed_dict[`a]:1f"
   ]
  },
  {
   "cell_type": "code",
   "execution_count": null,
   "metadata": {},
   "outputs": [],
   "source": [
    "typed_dict"
   ]
  },
  {
   "cell_type": "code",
   "execution_count": null,
   "metadata": {},
   "outputs": [],
   "source": [
    "eg2[1001 1002]\n",
    "value eg2"
   ]
  },
  {
   "cell_type": "code",
   "execution_count": null,
   "metadata": {},
   "outputs": [],
   "source": [
    "d:`a`b`c!10 20 30\n",
    "d[`a`c]\n",
    "ks:`a`c\n",
    "d ks\n",
    "type d `a\n",
    "d `x"
   ]
  },
  {
   "cell_type": "markdown",
   "metadata": {},
   "source": [
    "## 5.2. Operations on dictionaries"
   ]
  },
  {
   "cell_type": "code",
   "execution_count": null,
   "metadata": {},
   "outputs": [],
   "source": [
    ".Q.s1 `a`b`c _ d"
   ]
  },
  {
   "cell_type": "code",
   "execution_count": null,
   "metadata": {},
   "outputs": [],
   "source": [
    "d:`a`b`c`a!10 20 30 11"
   ]
  },
  {
   "cell_type": "code",
   "execution_count": null,
   "metadata": {},
   "outputs": [],
   "source": [
    "d"
   ]
  },
  {
   "cell_type": "code",
   "execution_count": null,
   "metadata": {},
   "outputs": [],
   "source": [
    "(enlist `a) cut d"
   ]
  },
  {
   "cell_type": "code",
   "execution_count": null,
   "metadata": {},
   "outputs": [],
   "source": [
    "lst:1 2 3 1"
   ]
  },
  {
   "cell_type": "code",
   "execution_count": null,
   "metadata": {},
   "outputs": [],
   "source": [
    "lst except 1"
   ]
  },
  {
   "cell_type": "markdown",
   "metadata": {},
   "source": [
    "### 5.2.4 Basic operations on maps"
   ]
  },
  {
   "cell_type": "markdown",
   "metadata": {},
   "source": [
    "- arithmetic operations work on dictionaries the same as on lists: atom-wise"
   ]
  },
  {
   "cell_type": "code",
   "execution_count": null,
   "metadata": {},
   "outputs": [],
   "source": [
    "d1:`a`b`c!1 2 3\n",
    "d2:`a`b`c!10 20 30\n",
    "d1+d2"
   ]
  },
  {
   "cell_type": "code",
   "execution_count": null,
   "metadata": {},
   "outputs": [],
   "source": [
    "d1:`a`b`c!10 20 30\n",
    "d2:`c`d!300 400\n",
    "d1,d2\n",
    "d2,d1"
   ]
  },
  {
   "cell_type": "markdown",
   "metadata": {},
   "source": [
    "- Relational operations: For equality and comparison operations on dictionaries, the indicated operation is performed over the common keys. On disjoint keys, the appropriate null is effectively substituted for missing values."
   ]
  },
  {
   "cell_type": "markdown",
   "metadata": {},
   "source": [
    "## 5.3. Column dictionaries"
   ]
  },
  {
   "cell_type": "markdown",
   "metadata": {},
   "source": [
    "- Definition: in a column dictionary, a rectangular list of lists are assigned to a list of symbols as keys\n",
    "- The symbol is interpreted as a name, while the corresponding list as a vector of column values\n",
    "- getting a field of a column dictionary: col_dict[name][index_of_field] or col_dict[name;index]\n",
    "    - col_dict[;index]: retreives a record"
   ]
  },
  {
   "cell_type": "markdown",
   "metadata": {},
   "source": [
    "- Transposed column dictionaries: flip col_dict = TABLE\n",
    "- the result of the flipped col dict is just a logical adjustment for the sake of indexing order (row index first, colulmn index second)\n",
    "    - meaning that the slots in indexing at depth are reversed."
   ]
  }
 ],
 "metadata": {
  "kernelspec": {
   "display_name": "Q (kdb+)",
   "language": "q",
   "name": "qpk"
  },
  "language_info": {
   "file_extension": ".q",
   "mimetype": "text/x-q",
   "name": "q",
   "version": "3.6.0"
  }
 },
 "nbformat": 4,
 "nbformat_minor": 4
}
