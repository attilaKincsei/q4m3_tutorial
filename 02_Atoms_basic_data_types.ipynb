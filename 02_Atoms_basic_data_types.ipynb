{
 "cells": [
  {
   "cell_type": "markdown",
   "metadata": {},
   "source": [
    "# 2. Basic data types: atoms\n",
    "Atomic data types in q\n",
    "[and their counterparts in SQL Java](https://code.kx.com/q4m3/2_Basic_Data_Types_Atoms/#20-overview)"
   ]
  },
  {
   "cell_type": "markdown",
   "metadata": {},
   "source": [
    "- Namespaces of data types in q that can be used for casting\n",
    "boolean?\n",
    "byte?\n",
    "short\n",
    "int: `int$1976.01.12\n",
    "\n",
    "long\n",
    "real\n",
    "float\n",
    "char\n",
    "symbol\n",
    "timestamp\n",
    "month\n",
    "date: `date$123 `\n",
    "\n",
    "(datetime)\n",
    "timespan\n",
    "minute\n",
    "second\n",
    "time\n",
    "enumeration\n",
    "table\n",
    "dictionary\n",
    "function\n",
    "nil item"
   ]
  },
  {
   "cell_type": "code",
   "execution_count": null,
   "metadata": {},
   "outputs": [],
   "source": [
    "`int$1976.01.12"
   ]
  },
  {
   "cell_type": "code",
   "execution_count": null,
   "metadata": {},
   "outputs": [],
   "source": [
    "`int$2000.01.02"
   ]
  },
  {
   "cell_type": "markdown",
   "metadata": {},
   "source": [
    "## 2.1 Integer Data\n",
    "### 2.1.1 long\n",
    "- long: the basic data type is a 64-bit, long, signed integer (range: -2^63 - 2^63-1)"
   ]
  },
  {
   "cell_type": "markdown",
   "metadata": {},
   "source": [
    "### 2.1.2 short and int"
   ]
  },
  {
   "cell_type": "code",
   "execution_count": null,
   "metadata": {},
   "outputs": [],
   "source": [
    "/ type promotion: narrower types are not promoted automatically\n",
    "type_prom:(4h;5h;6h;2h)\n",
    "tp2:3e,type_prom\n",
    "tp3:3h,type_prom\n",
    "tp2"
   ]
  },
  {
   "cell_type": "code",
   "execution_count": null,
   "metadata": {},
   "outputs": [],
   "source": [
    "tp3"
   ]
  },
  {
   "cell_type": "markdown",
   "metadata": {},
   "source": [
    "## 2.2 Floating Point Data\n",
    "### 2.2.1 float\n",
    "- float: 64 bit signed floating point number (same as double in Java) (conforming to IEEE specification)\n",
    "    forward slash is for comments therefore division is written as %!!!!!!!!!\n",
    "### 2.2.2 real\n",
    "### 2.2.3 Floating Point Display"
   ]
  },
  {
   "cell_type": "code",
   "execution_count": null,
   "metadata": {},
   "outputs": [],
   "source": [
    "\\P 0 / sets the floating point display to maximum\n",
    "sqrt 2"
   ]
  },
  {
   "cell_type": "markdown",
   "metadata": {},
   "source": [
    "## 2.3 Binary Data\n",
    "2.3.1 boolean\n",
    "- boolean values\n",
    "    - true: 1b\n",
    "    - false: 0b"
   ]
  },
  {
   "cell_type": "code",
   "execution_count": null,
   "metadata": {},
   "outputs": [],
   "source": [
    "0b / false\n",
    "1b / true"
   ]
  },
  {
   "cell_type": "code",
   "execution_count": null,
   "metadata": {},
   "outputs": [],
   "source": [
    " / boolean values are converted to integers in arithmetic expression: 0b to 0 and 1b to 1\n",
    "1+1b\n",
    "1+0b\n",
    "2.3*0b"
   ]
  },
  {
   "cell_type": "code",
   "execution_count": null,
   "metadata": {},
   "outputs": [],
   "source": [
    " / Tip: The ability of booleans to participate in arithmetic can be useful in eliminating conditionals.\n",
    "flag:0b\n",
    "base:100\n",
    "base+flag*42"
   ]
  },
  {
   "cell_type": "markdown",
   "metadata": {},
   "source": [
    "2.3.2 byte\n",
    "- byte stores 1 byte = 8 bits\n",
    "- denoted by 0x plus the hexadecimal digits"
   ]
  },
  {
   "cell_type": "code",
   "execution_count": null,
   "metadata": {},
   "outputs": [],
   "source": [
    "0x00"
   ]
  },
  {
   "cell_type": "markdown",
   "metadata": {},
   "source": [
    "2.3.3 GUID\n",
    "- Globally Unique IDentifier\n",
    "- 0Ng is the null guid: its value is (00000000-0000-0000-0000-000000000000)"
   ]
  },
  {
   "cell_type": "code",
   "execution_count": null,
   "metadata": {},
   "outputs": [],
   "source": [
    "3?0Ng / ? as deal operator generates a list of guids, with 3 elements in this case"
   ]
  },
  {
   "cell_type": "markdown",
   "metadata": {},
   "source": [
    "__TIP: The difference between using a positive integer vs. a negative integer to generate a list of GUIDs is that the positive case uses the same initial seed in each new q session whereas the negative case uses a random seed. The former is useful for reproducible results during testing but only the latter should be used in production; otherwise, your \"GUIDs\" will not be unique across q sessions.__"
   ]
  },
  {
   "cell_type": "code",
   "execution_count": null,
   "metadata": {},
   "outputs": [],
   "source": [
    "-3?0Ng"
   ]
  },
  {
   "cell_type": "markdown",
   "metadata": {},
   "source": [
    "You can import a guid generated elsewhere by parsing a string of 16 hex digits.\n",
    "- use \"G\"$\"uuid in string format\" to parse a string uuid into q's guid\n",
    "You can also convert from a list of 16 bytes using an overload of sv\n",
    "- convert a 16-byte byte list to guid"
   ]
  },
  {
   "cell_type": "code",
   "execution_count": null,
   "metadata": {},
   "outputs": [],
   "source": [
    "parsed_guid:\"G\"$\"61f35174-90bc-a48a-d88f-e15e4a377ec8\"\n",
    "parsed_guid\n",
    "0xff\n",
    "16?0xff\n",
    "0x0 sv 16?0xff"
   ]
  },
  {
   "cell_type": "markdown",
   "metadata": {},
   "source": [
    "The only operations available for guids are ~, =, <, > and null."
   ]
  },
  {
   "cell_type": "markdown",
   "metadata": {},
   "source": [
    "## 2.4 Text Data\n",
    "2.4.1 char\n",
    "- `char`\n",
    "- 8 bit long\n",
    "- one character in double quotes\n",
    "2.4.2 symbol\n",
    "- \"symbol\" is an atomic data type for storing textual data: same as VARCHAR in SQL and string in other languages\n",
    "- `backtick` + an arbitrary number of characters: `iamasymbol\n",
    "- Symbols are used for names in q. All names are symbols but not all symbols are names.\n",
    "- symbols are irreducable: individual characters are not accessible\n",
    "- a symbol is not a string (in q, a list of chars is a string)\n"
   ]
  },
  {
   "cell_type": "code",
   "execution_count": null,
   "metadata": {},
   "outputs": [],
   "source": [
    "`a~\"a\" / a symbol is not a string"
   ]
  },
  {
   "cell_type": "code",
   "execution_count": null,
   "metadata": {},
   "outputs": [],
   "source": [
    " / casting arbitrary character sequences to symbol: `$\"characters to cast\"\n",
    "`$\"A symbol with blanks and ` |\\\\,*(){}!&@\" / backslash needs to be escaped"
   ]
  },
  {
   "cell_type": "markdown",
   "metadata": {},
   "source": [
    "## 2.5 [Temporal Data](https://code.kx.com/q4m3/2_Basic_Data_Types_Atoms/#25-temporal-data)\n",
    "- q has a nanosecond-based temporal data type system ([metric prefixes](https://en.wikipedia.org/wiki/Metric_prefix))\n",
    "- q extends the basic sql date and time data types\n",
    "- you can carry out numeric operations (arithmetic calculations) on temporal types"
   ]
  },
  {
   "cell_type": "markdown",
   "metadata": {},
   "source": [
    "2.5.1 date\n",
    "- `date` is the number of days since the millennium (2000.01.01 00:00:00), positive for post and negative for pre\n",
    "- notation: yyyy.mm.dd\n",
    "- The underlying value is the count of days from Jan 1, 2000 – positive for post-millennium and negative for pre"
   ]
  },
  {
   "cell_type": "code",
   "execution_count": null,
   "metadata": {},
   "outputs": [],
   "source": [
    "`int$2000.02.01 / cast date to int to get the underlying value\n",
    "`date$(`int$1953.12.29 - `int$1976.01.12) / cast integer value to date"
   ]
  },
  {
   "cell_type": "markdown",
   "metadata": {},
   "source": [
    "2.5.2 Time Types\n",
    "- `time`: measures time in milliseconds from midnight\n",
    "- notation: hh:mm:ss.uuu\n",
    "- `timespan`: measures time in nanoseconds from midnight\n",
    "- It is a long integer count of the number of nanoseconds (10 xexp -9) since midnight\n",
    "- notation: hh:mm:ss.nnnnnnnnn"
   ]
  },
  {
   "cell_type": "code",
   "execution_count": null,
   "metadata": {},
   "outputs": [],
   "source": [
    "`int$00:00:00.001 / time stored in milliseconds\n",
    "`int$00:00:00.000000001 / time stored in nanoseconds\n",
    "`int$00:00:00.00000001 / time stored in nanoseconds, trailing zeros do not have to be written"
   ]
  },
  {
   "cell_type": "markdown",
   "metadata": {},
   "source": [
    "2.5.3 Date-Time Types\n",
    "- there are two types:\n",
    "    - `datetime`: DEPRICATED!!!!\n",
    "    - `timestamp`: the lexical combination of date and timespan\n",
    "- Post-millennium is positive and pre- is negative\n",
    "- timestamp format: dateDtime 1976.01.12D13:30:00.00000000"
   ]
  },
  {
   "cell_type": "code",
   "execution_count": null,
   "metadata": {},
   "outputs": [],
   "source": [
    "`long$1976.01.12D13:30:00.00000000 / the underlying nanosecond count can be obtained by casting to long"
   ]
  },
  {
   "cell_type": "code",
   "execution_count": null,
   "metadata": {},
   "outputs": [],
   "source": [
    " / extracting date and time from timestamp by casting to date and time\n",
    "`date$1976.01.12\n",
    "`timespan$13:30:00.00000000"
   ]
  },
  {
   "cell_type": "markdown",
   "metadata": {},
   "source": [
    "2.5.4 month\n",
    "- counts the number of months from the millenium\n",
    "- yyyy.mm+m\n",
    "- example: 2019.02m"
   ]
  },
  {
   "cell_type": "code",
   "execution_count": null,
   "metadata": {},
   "outputs": [],
   "source": [
    "2019.02m\n",
    "2019.01 / !!!!! Leaving off the type indicator m yields a float. This is a common qbie error.\n",
    "`int$2015.01m / month count\n",
    "\n",
    "2015.07m=2015.07.01 / this is true. why? or how?\n",
    "2015.07m=2015.07.02 / this is false"
   ]
  },
  {
   "cell_type": "markdown",
   "metadata": {},
   "source": [
    "2.5.5 minute\n",
    "- number of minutes from midnight\n",
    "- 32-bit integer\n",
    "- notation: hh:mm"
   ]
  },
  {
   "cell_type": "code",
   "execution_count": null,
   "metadata": {},
   "outputs": [],
   "source": [
    " / A minute equals its equivalent time and timestamp counterparts\n",
    "12:00=12:00:00.000\n",
    "12:00=12:00:00.000000000"
   ]
  },
  {
   "cell_type": "markdown",
   "metadata": {},
   "source": [
    "2.5.6 second\n",
    "- The second type is stored as 32-bit signed integer\n",
    "- notation: hh:mm:ss\n",
    "- A second value counts the number of seconds from midnight."
   ]
  },
  {
   "cell_type": "code",
   "execution_count": null,
   "metadata": {},
   "outputs": [],
   "source": [
    "23:59:59\n",
    "23:59:59=-1+24*60*60\n",
    "24*60*60\n",
    "24*60*60-1\n",
    "24*60*59\n",
    "-1+24*60*60"
   ]
  },
  {
   "cell_type": "code",
   "execution_count": null,
   "metadata": {},
   "outputs": [],
   "source": [
    "`int$12:34:56\n",
    "`int$12:34:56.000\n",
    "`long$12:34:56.000000000"
   ]
  },
  {
   "cell_type": "code",
   "execution_count": null,
   "metadata": {},
   "outputs": [],
   "source": [
    "/\n",
    "these values are equal in the eyes of q – as they should be,\n",
    "since they are merely representations in different units of the same position on a clock.\n",
    "\\\n",
    "12:34:56=12:34:56.000\n",
    "12:34:56.000=12:34:56.000000000"
   ]
  },
  {
   "cell_type": "markdown",
   "metadata": {},
   "source": [
    "2.5.7 Constituents and Dot Notation\n",
    "- The constituents of compound temporal types can be extracted using dot notation.\n",
    "- Unfortunately, at the time of this writing (Sep 2015) dot notation for extraction (still) does not work inside functions.\n",
    "- So cast instead\n",
    "- For example, the field values of a date are named year, mm and dd; similarly for time and other temporal types:"
   ]
  },
  {
   "cell_type": "code",
   "execution_count": null,
   "metadata": {},
   "outputs": [],
   "source": [
    "dt:2014.01.01\n",
    "dt.year\n",
    "dt.mm\n",
    "dt.dd\n",
    "ti:12:34:56.789\n",
    "ti.hh\n",
    "ti.mm\n",
    "ti.ss\n",
    "`year$dt / year as q data type\n",
    "`month$dt / month as q data type\n",
    "`mm$dt / months\n",
    "`dd$dt / days\n",
    "`int$dt / minutes\n",
    "(`int$12:34:56.789) mod 1000 / casting milliseconds\n",
    "(`long$12:34:56.123456789) mod 1000000000 / nanoseconds"
   ]
  },
  {
   "cell_type": "code",
   "execution_count": null,
   "metadata": {},
   "outputs": [],
   "source": [
    "myTimes + `timestamp$myDates / merge date and timespan into timestamp"
   ]
  },
  {
   "cell_type": "markdown",
   "metadata": {},
   "source": [
    "## 2.6 Arithmetic Infinities and Nulls\n",
    "- 0w: positive float infinity\n",
    "- -0w: Negative float infinity\n",
    "- 0n: Null float ; NaN, or not a number\n",
    "- 0W: Positive long infinity\n",
    "- -0W: Negative long infinity\n",
    "- 0N: Null long\n",
    "\n",
    "- In q, division of numeric values always results in a float!!!\n",
    "- In q, division of a positive value by 0 results in positive infinity and\n",
    "- division of a negative value by zero results in negative infinity."
   ]
  },
  {
   "cell_type": "code",
   "execution_count": 3,
   "metadata": {},
   "outputs": [
    {
     "data": {
      "text/plain": [
       "0w\n"
      ]
     },
     "execution_count": 3,
     "metadata": {},
     "output_type": "execute_result"
    },
    {
     "data": {
      "text/plain": [
       "0n\n"
      ]
     },
     "execution_count": 3,
     "metadata": {},
     "output_type": "execute_result"
    },
    {
     "data": {
      "text/plain": [
       "0n\n"
      ]
     },
     "execution_count": 3,
     "metadata": {},
     "output_type": "execute_result"
    },
    {
     "data": {
      "text/plain": [
       "0n\n"
      ]
     },
     "execution_count": 3,
     "metadata": {},
     "output_type": "execute_result"
    },
    {
     "data": {
      "text/plain": [
       "0f\n"
      ]
     },
     "execution_count": 3,
     "metadata": {},
     "output_type": "execute_result"
    },
    {
     "data": {
      "text/plain": [
       "0w\n"
      ]
     },
     "execution_count": 3,
     "metadata": {},
     "output_type": "execute_result"
    },
    {
     "data": {
      "text/plain": [
       "-0w\n"
      ]
     },
     "execution_count": 3,
     "metadata": {},
     "output_type": "execute_result"
    }
   ],
   "source": [
    "1 % 0\n",
    "error:-1 % 0 / dividing by 0 produces a special float value rather than throwing an exception\n",
    "0 % 0\n",
    "0w % 0w\n",
    "-0w % 0w\n",
    "0 % 0w\n",
    "0w % 0\n",
    "1+error"
   ]
  },
  {
   "cell_type": "code",
   "execution_count": null,
   "metadata": {},
   "outputs": [],
   "source": [
    " / The integral infinities do produce the correct results in comparisons; in fact, this is their raison d’être:\n",
    "42<0W\n",
    "-0W<42"
   ]
  },
  {
   "cell_type": "markdown",
   "metadata": {},
   "source": [
    "- q does not trap overflow:\n",
    "    so adding numbers to the positive integer infinity results in\n",
    "    numbers counting from negative integer infinity upwards.\n",
    "- Implementing proper arithmetic on integer infinities\n",
    "    would entail expensive tests in the arithmetic operators and\n",
    "    an unacceptable slow-down for normal arithmetic."
   ]
  },
  {
   "cell_type": "code",
   "execution_count": 4,
   "metadata": {},
   "outputs": [
    {
     "data": {
      "text/plain": [
       "0N\n"
      ]
     },
     "execution_count": 4,
     "metadata": {},
     "output_type": "execute_result"
    },
    {
     "data": {
      "text/plain": [
       "-0W\n"
      ]
     },
     "execution_count": 4,
     "metadata": {},
     "output_type": "execute_result"
    },
    {
     "data": {
      "text/plain": [
       "-9223372036854775806\n"
      ]
     },
     "execution_count": 4,
     "metadata": {},
     "output_type": "execute_result"
    }
   ],
   "source": [
    "0W+1\n",
    "0W+2\n",
    "0W+3"
   ]
  },
  {
   "cell_type": "markdown",
   "metadata": {},
   "source": [
    "## 2.7 Nulls\n",
    "\n",
    "2.7.0 Overview of Nulls\n",
    "- The concept of a null value generally indicates missing data. This is an area in which q differs from both traditional programming languages and SQL.\n",
    "- In q, there are no pointers or references: so null cannot mean an unallocated entity\n",
    "- Some types do not designate a distinct null value because there is no available bit pattern:\n",
    "    - i.e., for boolean, byte and char all underlying bit patterns are meaningfully employed.\n",
    "    - In this case, the __value with no information content__ serves as a proxy for null.\n",
    "- Not all data types have null values\n",
    "    - only those have a null value where it is meaningfule to distinguish missing data from data whose underlying value is zero\n",
    "    - An advantage of the q approach is that the null values act like other values in expressions. The tradeoff is that you must use the correct null value in type-checked situations.\n",
    "- Null values in different data types:\n",
    "boolean*\t0b\n",
    "guid*\t0Ng (00000000-0000-0000-0000-000000000000)\n",
    "byte*\t0x00\n",
    "short\t0Nh\n",
    "Int\t0N\n",
    "long\t0Nj\n",
    "real\t0Ne\n",
    "float\t0n\n",
    "char*\t\" \"\n",
    "    - The value \"\" is not a null char. It is an empty list of char.\n",
    "sym\t`        ignore this:`\n",
    "timestamp\t0Np\n",
    "month\t0Nm\n",
    "date\t0Nd\n",
    "datetime\t0Nz\n",
    "timespan\t0Nn\n",
    "minute\t0Nu\n",
    "second\t0Nv\n",
    "time\t0Nt"
   ]
  },
  {
   "cell_type": "markdown",
   "metadata": {},
   "source": [
    "2.7.1 Binary Nulls\n",
    "- has no null values\n",
    "2.7.2 Numeric and Temporal Nulls\n",
    "2.7.3 Text Nulls"
   ]
  },
  {
   "cell_type": "markdown",
   "metadata": {},
   "source": [
    "2.7.4 Testing for Null\n",
    "- NOT ADVISED: You could test for null using = but this requires a null literal of correct type. Because q is dynamically typed, this can result in problems if a variable changes type during program execution.\n",
    "- ADVISED: Always use the monadic `null` to test a value for null, as opposed to =, as it provides a type-independent check. Also, you don't have to remember the funky null literals.\n",
    "    - [Avoids null pointer exception](https://qr.ae/TUr5xV), [a billion dollar mistake](https://medium.com/@hinchman_amanda/null-pointer-references-the-billion-dollar-mistake-1e616534d485)"
   ]
  },
  {
   "cell_type": "code",
   "execution_count": null,
   "metadata": {},
   "outputs": [],
   "source": [
    "null 42\n",
    "null `\n",
    "null \" \"\n",
    "null \"\""
   ]
  }
 ],
 "metadata": {
  "kernelspec": {
   "display_name": "Q (kdb+)",
   "language": "q",
   "name": "qpk"
  },
  "language_info": {
   "file_extension": ".q",
   "mimetype": "text/x-q",
   "name": "q",
   "version": "3.6.0"
  },
  "toc": {
   "base_numbering": 1,
   "nav_menu": {},
   "number_sections": true,
   "sideBar": true,
   "skip_h1_title": false,
   "title_cell": "Table of Contents",
   "title_sidebar": "Contents",
   "toc_cell": false,
   "toc_position": {},
   "toc_section_display": true,
   "toc_window_display": false
  },
  "varInspector": {
   "cols": {
    "lenName": 16,
    "lenType": 16,
    "lenVar": 40
   },
   "kernels_config": {
    "python": {
     "delete_cmd_postfix": "",
     "delete_cmd_prefix": "del ",
     "library": "var_list.py",
     "varRefreshCmd": "print(var_dic_list())"
    },
    "r": {
     "delete_cmd_postfix": ") ",
     "delete_cmd_prefix": "rm(",
     "library": "var_list.r",
     "varRefreshCmd": "cat(var_dic_list()) "
    }
   },
   "types_to_exclude": [
    "module",
    "function",
    "builtin_function_or_method",
    "instance",
    "_Feature"
   ],
   "window_display": false
  }
 },
 "nbformat": 4,
 "nbformat_minor": 4
}
